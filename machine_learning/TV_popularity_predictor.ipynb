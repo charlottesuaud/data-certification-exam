{
 "cells": [
  {
   "cell_type": "markdown",
   "metadata": {},
   "source": [
    "# TV shows Popularity Predictor (39%)\n",
    "\n",
    "The goal of this challenge is to create a model that predicts the `popularity` of a movie or TV show\n",
    "\n",
    "<img src=\"image.jpg\" width=300 />\n",
    "\n",
    "\n",
    "\n",
    "\n",
    "The dataset contains a list of movies and TV shows with the following characteristics:\n",
    "- `title`: title of the movie in english\n",
    "- `original_title`: original title of the movie \n",
    "- `duration_min`: duration of the movie in minutes\n",
    "- `popularity`: popularity of the movie in terms of review scores\n",
    "- `release_date`: release date\n",
    "- `description`: short summary of the movie\n",
    "- `budget`: budget spent to produce the movie in USD\n",
    "- `revenue`: movie revenue in USD \n",
    "- `original_language`: original language \n",
    "- `status`: is the movie already released or not\n",
    "- `number_of_awards_won`: number of awards won for the movie\n",
    "- `number_of_nominations`: number of nominations\n",
    "- `has_collection`: if the movie is part of a sequel or not\n",
    "- `all_genres`: genres that described the movie (can be zero, one or many!) \n",
    "- `top_countries`: countries where the movie was produced (can be zero, one or many!) \n",
    "- `number_of_top_productions`: number of top production companies that produced the film if any. \n",
    "Top production companies includes: Warner Bros, Universal Pictures, Paramount Pictures, Canal+, etc...\n",
    "- `available_in_english`: whether the movie is available in english or not"
   ]
  },
  {
   "cell_type": "markdown",
   "metadata": {},
   "source": [
    "## Imports\n",
    "\n",
    "Run the following cell to load the basic packages:"
   ]
  },
  {
   "cell_type": "code",
   "execution_count": 1,
   "metadata": {
    "ExecuteTime": {
     "end_time": "2021-06-29T17:29:05.325249Z",
     "start_time": "2021-06-29T17:29:04.415422Z"
    }
   },
   "outputs": [],
   "source": [
    "import numpy as np\n",
    "import pandas as pd\n",
    "import matplotlib.pyplot as plt\n",
    "import seaborn as sns\n",
    "from nbresult import ChallengeResult"
   ]
  },
  {
   "cell_type": "code",
   "execution_count": 2,
   "metadata": {},
   "outputs": [],
   "source": [
    "import os\n",
    "import math"
   ]
  },
  {
   "cell_type": "code",
   "execution_count": 3,
   "metadata": {},
   "outputs": [],
   "source": [
    "import warnings\n",
    "warnings.simplefilter(action='ignore', category=FutureWarning)"
   ]
  },
  {
   "cell_type": "code",
   "execution_count": 4,
   "metadata": {},
   "outputs": [],
   "source": [
    "from sklearn import set_config; set_config(display='diagram')"
   ]
  },
  {
   "cell_type": "code",
   "execution_count": 5,
   "metadata": {},
   "outputs": [],
   "source": [
    "from sklearn.pipeline import Pipeline\n",
    "from sklearn.preprocessing import OneHotEncoder, StandardScaler\n",
    "from sklearn.compose import ColumnTransformer\n",
    "from sklearn.model_selection import train_test_split, cross_val_score, GridSearchCV\n",
    "from sklearn.linear_model import Lasso\n",
    "from sklearn.base import BaseEstimator, TransformerMixin\n",
    "from sklearn.ensemble import RandomForestRegressor"
   ]
  },
  {
   "cell_type": "code",
   "execution_count": 6,
   "metadata": {},
   "outputs": [],
   "source": [
    "from collections import Counter"
   ]
  },
  {
   "cell_type": "markdown",
   "metadata": {},
   "source": [
    "## Data collection\n",
    "\n",
    "📝 **Load the `movie_popularity.csv` dataset from the provided this [URL](https://wagon-public-datasets.s3.amazonaws.com/certification_france_2021_q2/tv_movies_popularity.csv)**\n",
    "- First, check and remove the rows that may be complete duplicate from one another (we never know!)\n",
    "- Then, drop the columns that have too much missing values\n",
    "- Finally, drop the few remaining rows that have missing values\n",
    "- Store the result in a `DataFrame` named `data`"
   ]
  },
  {
   "cell_type": "code",
   "execution_count": 7,
   "metadata": {},
   "outputs": [
    {
     "name": "stdout",
     "output_type": "stream",
     "text": [
      "/Users/Charlotte/code/charlottesuaud/data-certification-exam/machine_learning\n"
     ]
    }
   ],
   "source": [
    "!pwd"
   ]
  },
  {
   "cell_type": "markdown",
   "metadata": {},
   "source": [
    "### Loading data"
   ]
  },
  {
   "cell_type": "code",
   "execution_count": 8,
   "metadata": {
    "ExecuteTime": {
     "end_time": "2021-06-29T17:29:09.664618Z",
     "start_time": "2021-06-29T17:29:05.328223Z"
    },
    "slideshow": {
     "slide_type": "notes"
    },
    "tags": [
     "challengify"
    ]
   },
   "outputs": [
    {
     "name": "stdout",
     "output_type": "stream",
     "text": [
      "\n",
      "Data's shape : (6864, 17) \n",
      "\n"
     ]
    },
    {
     "data": {
      "text/html": [
       "<div>\n",
       "<style scoped>\n",
       "    .dataframe tbody tr th:only-of-type {\n",
       "        vertical-align: middle;\n",
       "    }\n",
       "\n",
       "    .dataframe tbody tr th {\n",
       "        vertical-align: top;\n",
       "    }\n",
       "\n",
       "    .dataframe thead th {\n",
       "        text-align: right;\n",
       "    }\n",
       "</style>\n",
       "<table border=\"1\" class=\"dataframe\">\n",
       "  <thead>\n",
       "    <tr style=\"text-align: right;\">\n",
       "      <th></th>\n",
       "      <th>original_title</th>\n",
       "      <th>title</th>\n",
       "      <th>popularity</th>\n",
       "      <th>release_date</th>\n",
       "      <th>duration_min</th>\n",
       "      <th>description</th>\n",
       "      <th>budget</th>\n",
       "      <th>revenue</th>\n",
       "      <th>original_language</th>\n",
       "      <th>status</th>\n",
       "      <th>number_of_awards_won</th>\n",
       "      <th>number_of_nominations</th>\n",
       "      <th>has_collection</th>\n",
       "      <th>all_genres</th>\n",
       "      <th>top_countries</th>\n",
       "      <th>number_of_top_productions</th>\n",
       "      <th>available_in_english</th>\n",
       "    </tr>\n",
       "  </thead>\n",
       "  <tbody>\n",
       "    <tr>\n",
       "      <th>0</th>\n",
       "      <td>Hot Tub Time Machine 2</td>\n",
       "      <td>Hot Tub Time Machine 2</td>\n",
       "      <td>6.575393</td>\n",
       "      <td>2015-02-20</td>\n",
       "      <td>93.0</td>\n",
       "      <td>When Lou's shot in the groin, Nick and Jacob d...</td>\n",
       "      <td>14000000</td>\n",
       "      <td>12314651.0</td>\n",
       "      <td>en</td>\n",
       "      <td>Released</td>\n",
       "      <td>0</td>\n",
       "      <td>2</td>\n",
       "      <td>1</td>\n",
       "      <td>Comedy</td>\n",
       "      <td>United States of America</td>\n",
       "      <td>3</td>\n",
       "      <td>True</td>\n",
       "    </tr>\n",
       "    <tr>\n",
       "      <th>1</th>\n",
       "      <td>The Princess Diaries 2: Royal Engagement</td>\n",
       "      <td>The Princess Diaries 2: Royal Engagement</td>\n",
       "      <td>8.248895</td>\n",
       "      <td>2004-08-06</td>\n",
       "      <td>113.0</td>\n",
       "      <td>Now settled in Genovia, Princess Mia faces a n...</td>\n",
       "      <td>40000000</td>\n",
       "      <td>95149435.0</td>\n",
       "      <td>en</td>\n",
       "      <td>Released</td>\n",
       "      <td>1</td>\n",
       "      <td>2</td>\n",
       "      <td>1</td>\n",
       "      <td>Comedy, Drama, Family, Romance</td>\n",
       "      <td>United States of America</td>\n",
       "      <td>1</td>\n",
       "      <td>True</td>\n",
       "    </tr>\n",
       "    <tr>\n",
       "      <th>2</th>\n",
       "      <td>Whiplash</td>\n",
       "      <td>Whiplash</td>\n",
       "      <td>64.299990</td>\n",
       "      <td>2014-10-10</td>\n",
       "      <td>105.0</td>\n",
       "      <td>A promising young drummer enrolls at a cut-thr...</td>\n",
       "      <td>3300000</td>\n",
       "      <td>13092000.0</td>\n",
       "      <td>en</td>\n",
       "      <td>Released</td>\n",
       "      <td>97</td>\n",
       "      <td>145</td>\n",
       "      <td>0</td>\n",
       "      <td>Drama</td>\n",
       "      <td>United States of America</td>\n",
       "      <td>0</td>\n",
       "      <td>True</td>\n",
       "    </tr>\n",
       "  </tbody>\n",
       "</table>\n",
       "</div>"
      ],
      "text/plain": [
       "                             original_title  \\\n",
       "0                    Hot Tub Time Machine 2   \n",
       "1  The Princess Diaries 2: Royal Engagement   \n",
       "2                                  Whiplash   \n",
       "\n",
       "                                      title  popularity release_date  \\\n",
       "0                    Hot Tub Time Machine 2    6.575393   2015-02-20   \n",
       "1  The Princess Diaries 2: Royal Engagement    8.248895   2004-08-06   \n",
       "2                                  Whiplash   64.299990   2014-10-10   \n",
       "\n",
       "   duration_min                                        description    budget  \\\n",
       "0          93.0  When Lou's shot in the groin, Nick and Jacob d...  14000000   \n",
       "1         113.0  Now settled in Genovia, Princess Mia faces a n...  40000000   \n",
       "2         105.0  A promising young drummer enrolls at a cut-thr...   3300000   \n",
       "\n",
       "      revenue original_language    status  number_of_awards_won  \\\n",
       "0  12314651.0                en  Released                     0   \n",
       "1  95149435.0                en  Released                     1   \n",
       "2  13092000.0                en  Released                    97   \n",
       "\n",
       "   number_of_nominations  has_collection                      all_genres  \\\n",
       "0                      2               1                          Comedy   \n",
       "1                      2               1  Comedy, Drama, Family, Romance   \n",
       "2                    145               0                           Drama   \n",
       "\n",
       "              top_countries  number_of_top_productions  available_in_english  \n",
       "0  United States of America                          3                  True  \n",
       "1  United States of America                          1                  True  \n",
       "2  United States of America                          0                  True  "
      ]
     },
     "execution_count": 8,
     "metadata": {},
     "output_type": "execute_result"
    }
   ],
   "source": [
    "path = os.path.join(\"data\", \"tv_movies_popularity.csv\")\n",
    "\n",
    "data = pd.read_csv(path)\n",
    "\n",
    "print(\"\\nData's shape :\", data.shape, \"\\n\")\n",
    "\n",
    "data.head(3)"
   ]
  },
  {
   "cell_type": "markdown",
   "metadata": {},
   "source": [
    "### Removing duplicates"
   ]
  },
  {
   "cell_type": "code",
   "execution_count": 9,
   "metadata": {},
   "outputs": [
    {
     "name": "stdout",
     "output_type": "stream",
     "text": [
      "\n",
      "Data's shape : (6464, 17)\n",
      "Number of duplicates:  400\n"
     ]
    }
   ],
   "source": [
    "len1 = len(data) # Check number of rows before removing duplicates\n",
    "\n",
    "data = data.drop_duplicates() # Remove duplicates\n",
    "\n",
    "len2 = len(data) # Check new number of rows\n",
    "\n",
    "print(\"\\nData's shape :\", data.shape)\n",
    "print(\"Number of duplicates: \", len1 - len2)"
   ]
  },
  {
   "cell_type": "markdown",
   "metadata": {},
   "source": [
    "### Missing values"
   ]
  },
  {
   "cell_type": "code",
   "execution_count": 10,
   "metadata": {},
   "outputs": [
    {
     "data": {
      "text/html": [
       "<div>\n",
       "<style scoped>\n",
       "    .dataframe tbody tr th:only-of-type {\n",
       "        vertical-align: middle;\n",
       "    }\n",
       "\n",
       "    .dataframe tbody tr th {\n",
       "        vertical-align: top;\n",
       "    }\n",
       "\n",
       "    .dataframe thead th {\n",
       "        text-align: right;\n",
       "    }\n",
       "</style>\n",
       "<table border=\"1\" class=\"dataframe\">\n",
       "  <thead>\n",
       "    <tr style=\"text-align: right;\">\n",
       "      <th></th>\n",
       "      <th>null_count</th>\n",
       "      <th>null_share</th>\n",
       "    </tr>\n",
       "  </thead>\n",
       "  <tbody>\n",
       "    <tr>\n",
       "      <th>revenue</th>\n",
       "      <td>3847.0</td>\n",
       "      <td>0.595142</td>\n",
       "    </tr>\n",
       "    <tr>\n",
       "      <th>title</th>\n",
       "      <td>1.0</td>\n",
       "      <td>0.000155</td>\n",
       "    </tr>\n",
       "  </tbody>\n",
       "</table>\n",
       "</div>"
      ],
      "text/plain": [
       "         null_count  null_share\n",
       "revenue      3847.0    0.595142\n",
       "title           1.0    0.000155"
      ]
     },
     "execution_count": 10,
     "metadata": {},
     "output_type": "execute_result"
    }
   ],
   "source": [
    "missing_values = pd.DataFrame([\n",
    "    data.isnull().sum(), \n",
    "    data.isnull().sum()/len(data)\n",
    "], index=[\"null_count\", \"null_share\"]).T.sort_values(by=\"null_share\", ascending=False)\n",
    "\n",
    "missing_values = missing_values[missing_values[\"null_count\"] != 0]\n",
    "\n",
    "missing_values"
   ]
  },
  {
   "cell_type": "code",
   "execution_count": 11,
   "metadata": {},
   "outputs": [
    {
     "name": "stdout",
     "output_type": "stream",
     "text": [
      "\n",
      "Data's shape : (6464, 16) \n",
      "\n"
     ]
    },
    {
     "data": {
      "text/html": [
       "<div>\n",
       "<style scoped>\n",
       "    .dataframe tbody tr th:only-of-type {\n",
       "        vertical-align: middle;\n",
       "    }\n",
       "\n",
       "    .dataframe tbody tr th {\n",
       "        vertical-align: top;\n",
       "    }\n",
       "\n",
       "    .dataframe thead th {\n",
       "        text-align: right;\n",
       "    }\n",
       "</style>\n",
       "<table border=\"1\" class=\"dataframe\">\n",
       "  <thead>\n",
       "    <tr style=\"text-align: right;\">\n",
       "      <th></th>\n",
       "      <th>original_title</th>\n",
       "      <th>title</th>\n",
       "      <th>popularity</th>\n",
       "      <th>release_date</th>\n",
       "      <th>duration_min</th>\n",
       "      <th>description</th>\n",
       "      <th>budget</th>\n",
       "      <th>original_language</th>\n",
       "      <th>status</th>\n",
       "      <th>number_of_awards_won</th>\n",
       "      <th>number_of_nominations</th>\n",
       "      <th>has_collection</th>\n",
       "      <th>all_genres</th>\n",
       "      <th>top_countries</th>\n",
       "      <th>number_of_top_productions</th>\n",
       "      <th>available_in_english</th>\n",
       "    </tr>\n",
       "  </thead>\n",
       "  <tbody>\n",
       "    <tr>\n",
       "      <th>0</th>\n",
       "      <td>Hot Tub Time Machine 2</td>\n",
       "      <td>Hot Tub Time Machine 2</td>\n",
       "      <td>6.575393</td>\n",
       "      <td>2015-02-20</td>\n",
       "      <td>93.0</td>\n",
       "      <td>When Lou's shot in the groin, Nick and Jacob d...</td>\n",
       "      <td>14000000</td>\n",
       "      <td>en</td>\n",
       "      <td>Released</td>\n",
       "      <td>0</td>\n",
       "      <td>2</td>\n",
       "      <td>1</td>\n",
       "      <td>Comedy</td>\n",
       "      <td>United States of America</td>\n",
       "      <td>3</td>\n",
       "      <td>True</td>\n",
       "    </tr>\n",
       "    <tr>\n",
       "      <th>1</th>\n",
       "      <td>The Princess Diaries 2: Royal Engagement</td>\n",
       "      <td>The Princess Diaries 2: Royal Engagement</td>\n",
       "      <td>8.248895</td>\n",
       "      <td>2004-08-06</td>\n",
       "      <td>113.0</td>\n",
       "      <td>Now settled in Genovia, Princess Mia faces a n...</td>\n",
       "      <td>40000000</td>\n",
       "      <td>en</td>\n",
       "      <td>Released</td>\n",
       "      <td>1</td>\n",
       "      <td>2</td>\n",
       "      <td>1</td>\n",
       "      <td>Comedy, Drama, Family, Romance</td>\n",
       "      <td>United States of America</td>\n",
       "      <td>1</td>\n",
       "      <td>True</td>\n",
       "    </tr>\n",
       "    <tr>\n",
       "      <th>2</th>\n",
       "      <td>Whiplash</td>\n",
       "      <td>Whiplash</td>\n",
       "      <td>64.299990</td>\n",
       "      <td>2014-10-10</td>\n",
       "      <td>105.0</td>\n",
       "      <td>A promising young drummer enrolls at a cut-thr...</td>\n",
       "      <td>3300000</td>\n",
       "      <td>en</td>\n",
       "      <td>Released</td>\n",
       "      <td>97</td>\n",
       "      <td>145</td>\n",
       "      <td>0</td>\n",
       "      <td>Drama</td>\n",
       "      <td>United States of America</td>\n",
       "      <td>0</td>\n",
       "      <td>True</td>\n",
       "    </tr>\n",
       "  </tbody>\n",
       "</table>\n",
       "</div>"
      ],
      "text/plain": [
       "                             original_title  \\\n",
       "0                    Hot Tub Time Machine 2   \n",
       "1  The Princess Diaries 2: Royal Engagement   \n",
       "2                                  Whiplash   \n",
       "\n",
       "                                      title  popularity release_date  \\\n",
       "0                    Hot Tub Time Machine 2    6.575393   2015-02-20   \n",
       "1  The Princess Diaries 2: Royal Engagement    8.248895   2004-08-06   \n",
       "2                                  Whiplash   64.299990   2014-10-10   \n",
       "\n",
       "   duration_min                                        description    budget  \\\n",
       "0          93.0  When Lou's shot in the groin, Nick and Jacob d...  14000000   \n",
       "1         113.0  Now settled in Genovia, Princess Mia faces a n...  40000000   \n",
       "2         105.0  A promising young drummer enrolls at a cut-thr...   3300000   \n",
       "\n",
       "  original_language    status  number_of_awards_won  number_of_nominations  \\\n",
       "0                en  Released                     0                      2   \n",
       "1                en  Released                     1                      2   \n",
       "2                en  Released                    97                    145   \n",
       "\n",
       "   has_collection                      all_genres             top_countries  \\\n",
       "0               1                          Comedy  United States of America   \n",
       "1               1  Comedy, Drama, Family, Romance  United States of America   \n",
       "2               0                           Drama  United States of America   \n",
       "\n",
       "   number_of_top_productions  available_in_english  \n",
       "0                          3                  True  \n",
       "1                          1                  True  \n",
       "2                          0                  True  "
      ]
     },
     "execution_count": 11,
     "metadata": {},
     "output_type": "execute_result"
    }
   ],
   "source": [
    "# Drop revenue column\n",
    "data.drop(columns='revenue', inplace=True)\n",
    "\n",
    "print(\"\\nData's shape :\", data.shape, \"\\n\")\n",
    "\n",
    "data.head(3)"
   ]
  },
  {
   "cell_type": "code",
   "execution_count": 12,
   "metadata": {},
   "outputs": [
    {
     "data": {
      "text/html": [
       "<div>\n",
       "<style scoped>\n",
       "    .dataframe tbody tr th:only-of-type {\n",
       "        vertical-align: middle;\n",
       "    }\n",
       "\n",
       "    .dataframe tbody tr th {\n",
       "        vertical-align: top;\n",
       "    }\n",
       "\n",
       "    .dataframe thead th {\n",
       "        text-align: right;\n",
       "    }\n",
       "</style>\n",
       "<table border=\"1\" class=\"dataframe\">\n",
       "  <thead>\n",
       "    <tr style=\"text-align: right;\">\n",
       "      <th></th>\n",
       "      <th>null_count</th>\n",
       "      <th>null_share</th>\n",
       "    </tr>\n",
       "  </thead>\n",
       "  <tbody>\n",
       "    <tr>\n",
       "      <th>title</th>\n",
       "      <td>1.0</td>\n",
       "      <td>0.000155</td>\n",
       "    </tr>\n",
       "  </tbody>\n",
       "</table>\n",
       "</div>"
      ],
      "text/plain": [
       "       null_count  null_share\n",
       "title         1.0    0.000155"
      ]
     },
     "execution_count": 12,
     "metadata": {},
     "output_type": "execute_result"
    }
   ],
   "source": [
    "# Check missing values again\n",
    "\n",
    "missing_values = pd.DataFrame([\n",
    "    data.isnull().sum(), \n",
    "    data.isnull().sum()/len(data)\n",
    "], index=[\"null_count\", \"null_share\"]).T.sort_values(by=\"null_share\", ascending=False)\n",
    "\n",
    "missing_values = missing_values[missing_values[\"null_count\"] != 0]\n",
    "\n",
    "missing_values"
   ]
  },
  {
   "cell_type": "code",
   "execution_count": 13,
   "metadata": {},
   "outputs": [
    {
     "name": "stdout",
     "output_type": "stream",
     "text": [
      "\n",
      "Data's shape : (6463, 16) \n",
      "\n"
     ]
    },
    {
     "data": {
      "text/html": [
       "<div>\n",
       "<style scoped>\n",
       "    .dataframe tbody tr th:only-of-type {\n",
       "        vertical-align: middle;\n",
       "    }\n",
       "\n",
       "    .dataframe tbody tr th {\n",
       "        vertical-align: top;\n",
       "    }\n",
       "\n",
       "    .dataframe thead th {\n",
       "        text-align: right;\n",
       "    }\n",
       "</style>\n",
       "<table border=\"1\" class=\"dataframe\">\n",
       "  <thead>\n",
       "    <tr style=\"text-align: right;\">\n",
       "      <th></th>\n",
       "      <th>original_title</th>\n",
       "      <th>title</th>\n",
       "      <th>popularity</th>\n",
       "      <th>release_date</th>\n",
       "      <th>duration_min</th>\n",
       "      <th>description</th>\n",
       "      <th>budget</th>\n",
       "      <th>original_language</th>\n",
       "      <th>status</th>\n",
       "      <th>number_of_awards_won</th>\n",
       "      <th>number_of_nominations</th>\n",
       "      <th>has_collection</th>\n",
       "      <th>all_genres</th>\n",
       "      <th>top_countries</th>\n",
       "      <th>number_of_top_productions</th>\n",
       "      <th>available_in_english</th>\n",
       "    </tr>\n",
       "  </thead>\n",
       "  <tbody>\n",
       "    <tr>\n",
       "      <th>0</th>\n",
       "      <td>Hot Tub Time Machine 2</td>\n",
       "      <td>Hot Tub Time Machine 2</td>\n",
       "      <td>6.575393</td>\n",
       "      <td>2015-02-20</td>\n",
       "      <td>93.0</td>\n",
       "      <td>When Lou's shot in the groin, Nick and Jacob d...</td>\n",
       "      <td>14000000</td>\n",
       "      <td>en</td>\n",
       "      <td>Released</td>\n",
       "      <td>0</td>\n",
       "      <td>2</td>\n",
       "      <td>1</td>\n",
       "      <td>Comedy</td>\n",
       "      <td>United States of America</td>\n",
       "      <td>3</td>\n",
       "      <td>True</td>\n",
       "    </tr>\n",
       "    <tr>\n",
       "      <th>1</th>\n",
       "      <td>The Princess Diaries 2: Royal Engagement</td>\n",
       "      <td>The Princess Diaries 2: Royal Engagement</td>\n",
       "      <td>8.248895</td>\n",
       "      <td>2004-08-06</td>\n",
       "      <td>113.0</td>\n",
       "      <td>Now settled in Genovia, Princess Mia faces a n...</td>\n",
       "      <td>40000000</td>\n",
       "      <td>en</td>\n",
       "      <td>Released</td>\n",
       "      <td>1</td>\n",
       "      <td>2</td>\n",
       "      <td>1</td>\n",
       "      <td>Comedy, Drama, Family, Romance</td>\n",
       "      <td>United States of America</td>\n",
       "      <td>1</td>\n",
       "      <td>True</td>\n",
       "    </tr>\n",
       "    <tr>\n",
       "      <th>2</th>\n",
       "      <td>Whiplash</td>\n",
       "      <td>Whiplash</td>\n",
       "      <td>64.299990</td>\n",
       "      <td>2014-10-10</td>\n",
       "      <td>105.0</td>\n",
       "      <td>A promising young drummer enrolls at a cut-thr...</td>\n",
       "      <td>3300000</td>\n",
       "      <td>en</td>\n",
       "      <td>Released</td>\n",
       "      <td>97</td>\n",
       "      <td>145</td>\n",
       "      <td>0</td>\n",
       "      <td>Drama</td>\n",
       "      <td>United States of America</td>\n",
       "      <td>0</td>\n",
       "      <td>True</td>\n",
       "    </tr>\n",
       "  </tbody>\n",
       "</table>\n",
       "</div>"
      ],
      "text/plain": [
       "                             original_title  \\\n",
       "0                    Hot Tub Time Machine 2   \n",
       "1  The Princess Diaries 2: Royal Engagement   \n",
       "2                                  Whiplash   \n",
       "\n",
       "                                      title  popularity release_date  \\\n",
       "0                    Hot Tub Time Machine 2    6.575393   2015-02-20   \n",
       "1  The Princess Diaries 2: Royal Engagement    8.248895   2004-08-06   \n",
       "2                                  Whiplash   64.299990   2014-10-10   \n",
       "\n",
       "   duration_min                                        description    budget  \\\n",
       "0          93.0  When Lou's shot in the groin, Nick and Jacob d...  14000000   \n",
       "1         113.0  Now settled in Genovia, Princess Mia faces a n...  40000000   \n",
       "2         105.0  A promising young drummer enrolls at a cut-thr...   3300000   \n",
       "\n",
       "  original_language    status  number_of_awards_won  number_of_nominations  \\\n",
       "0                en  Released                     0                      2   \n",
       "1                en  Released                     1                      2   \n",
       "2                en  Released                    97                    145   \n",
       "\n",
       "   has_collection                      all_genres             top_countries  \\\n",
       "0               1                          Comedy  United States of America   \n",
       "1               1  Comedy, Drama, Family, Romance  United States of America   \n",
       "2               0                           Drama  United States of America   \n",
       "\n",
       "   number_of_top_productions  available_in_english  \n",
       "0                          3                  True  \n",
       "1                          1                  True  \n",
       "2                          0                  True  "
      ]
     },
     "execution_count": 13,
     "metadata": {},
     "output_type": "execute_result"
    }
   ],
   "source": [
    "# Remove the row with missing title value\n",
    "data.dropna(inplace=True)\n",
    "\n",
    "print(\"\\nData's shape :\", data.shape, \"\\n\")\n",
    "\n",
    "data.head(3)"
   ]
  },
  {
   "cell_type": "markdown",
   "metadata": {},
   "source": [
    "### 🧪 Run the following cell to save your results"
   ]
  },
  {
   "cell_type": "code",
   "execution_count": 14,
   "metadata": {
    "ExecuteTime": {
     "end_time": "2021-06-29T17:29:09.754301Z",
     "start_time": "2021-06-29T17:29:09.746171Z"
    }
   },
   "outputs": [],
   "source": [
    "from nbresult import ChallengeResult\n",
    "\n",
    "result = ChallengeResult(\n",
    "    \"data_cleaning\",\n",
    "    columns=data.columns,\n",
    "    cleaning=sum(data.isnull().sum()),\n",
    "    shape=data.shape)\n",
    "result.write()"
   ]
  },
  {
   "cell_type": "markdown",
   "metadata": {},
   "source": [
    "## Baseline model"
   ]
  },
  {
   "cell_type": "markdown",
   "metadata": {},
   "source": [
    "### The metric"
   ]
  },
  {
   "cell_type": "markdown",
   "metadata": {},
   "source": [
    "📝 **We want to predict `popularity`: Start by plotting a histogram of the target to visualize it**"
   ]
  },
  {
   "cell_type": "code",
   "execution_count": 15,
   "metadata": {
    "ExecuteTime": {
     "end_time": "2021-06-29T17:29:13.047468Z",
     "start_time": "2021-06-29T17:29:13.045265Z"
    },
    "slideshow": {
     "slide_type": "notes"
    },
    "tags": [
     "challengify"
    ]
   },
   "outputs": [
    {
     "data": {
      "image/png": "[encoded data removed]",
      "text/plain": [
       "<Figure size 1080x432 with 2 Axes>"
      ]
     },
     "metadata": {
      "needs_background": "light"
     },
     "output_type": "display_data"
    }
   ],
   "source": [
    "plt.figure(figsize=(15, 6))\n",
    "\n",
    "plt.subplot(1,2,1)\n",
    "sns.histplot(data=data, x=\"popularity\", kde=True)\n",
    "plt.xlim(left=0)\n",
    "\n",
    "plt.subplot(1,2,2)\n",
    "sns.histplot(data=data, x=\"popularity\", kde=True)\n",
    "plt.xlim(left=0)\n",
    "plt.xlim(right=60)\n",
    "\n",
    "plt.suptitle(\"Popularity distribution\");"
   ]
  },
  {
   "cell_type": "markdown",
   "metadata": {},
   "source": [
    "📝 **Which sklearn's scoring [metric](https://scikit-learn.org/stable/modules/model_evaluation.html) should we use if we want it to:**\n",
    "\n",
    "- Be better when greater (i.e. metric_good_model > metric_bad_model)\n",
    "- Penalize **more** an error between 10 and 20 compared with an error between 110 and 120\n",
    "- Said otherwise, what matter should be the **relative error ratio**, more than the absolute error difference\n",
    "\n",
    "Hint: the histogram plotted above should give you some intuition about it\n",
    "\n",
    "👉 Store its exact [sklearn scoring name](https://scikit-learn.org/stable/modules/model_evaluation.html) as `string` in the variable `scoring` below.\n",
    "\n",
    "🚨 You must use this metric for the rest of the challenge"
   ]
  },
  {
   "cell_type": "markdown",
   "metadata": {},
   "source": [
    "<details>\n",
    "    <summary>💡 Hint</summary>\n",
    "It is around here!\n",
    "<img src=\"scores.jpg\" width=200 height=400 />\n",
    "</details>"
   ]
  },
  {
   "cell_type": "code",
   "execution_count": 16,
   "metadata": {},
   "outputs": [],
   "source": [
    "# 0. it's a regression problem !\n",
    "\n",
    "# 1. \"be better when greater\" => the metric should be maximized to optimize the model\n",
    "# ex. MSE or MAE are minimized to optimize models, we should consider neg-MSE or neg-MAE\n",
    "\n",
    "# 2. Penalize more small errors than outliers \n",
    "# ex. MSE penalizes more outliers than MAE, but we consider neg metrics, then neg-MSE penalizes less outliers than neg-MAE\n",
    "\n",
    "# => neg_mean_squared_error"
   ]
  },
  {
   "cell_type": "code",
   "execution_count": 17,
   "metadata": {},
   "outputs": [],
   "source": [
    "scoring = \"neg_mean_squared_error\""
   ]
  },
  {
   "cell_type": "markdown",
   "metadata": {},
   "source": [
    "### X,y"
   ]
  },
  {
   "cell_type": "markdown",
   "metadata": {},
   "source": [
    "**📝 Define `X` as the features Dataframe (keep all features) and `y` as the target Series.**"
   ]
  },
  {
   "cell_type": "code",
   "execution_count": 18,
   "metadata": {
    "ExecuteTime": {
     "end_time": "2021-06-29T17:29:13.054580Z",
     "start_time": "2021-06-29T17:29:13.049865Z"
    },
    "tags": [
     "challengify"
    ]
   },
   "outputs": [
    {
     "name": "stdout",
     "output_type": "stream",
     "text": [
      "\n",
      "X's shape : (6463, 15)\n",
      "X's type : <class 'pandas.core.frame.DataFrame'> \n",
      "\n"
     ]
    },
    {
     "data": {
      "text/html": [
       "<div>\n",
       "<style scoped>\n",
       "    .dataframe tbody tr th:only-of-type {\n",
       "        vertical-align: middle;\n",
       "    }\n",
       "\n",
       "    .dataframe tbody tr th {\n",
       "        vertical-align: top;\n",
       "    }\n",
       "\n",
       "    .dataframe thead th {\n",
       "        text-align: right;\n",
       "    }\n",
       "</style>\n",
       "<table border=\"1\" class=\"dataframe\">\n",
       "  <thead>\n",
       "    <tr style=\"text-align: right;\">\n",
       "      <th></th>\n",
       "      <th>original_title</th>\n",
       "      <th>title</th>\n",
       "      <th>release_date</th>\n",
       "      <th>duration_min</th>\n",
       "      <th>description</th>\n",
       "      <th>budget</th>\n",
       "      <th>original_language</th>\n",
       "      <th>status</th>\n",
       "      <th>number_of_awards_won</th>\n",
       "      <th>number_of_nominations</th>\n",
       "      <th>has_collection</th>\n",
       "      <th>all_genres</th>\n",
       "      <th>top_countries</th>\n",
       "      <th>number_of_top_productions</th>\n",
       "      <th>available_in_english</th>\n",
       "    </tr>\n",
       "  </thead>\n",
       "  <tbody>\n",
       "    <tr>\n",
       "      <th>0</th>\n",
       "      <td>Hot Tub Time Machine 2</td>\n",
       "      <td>Hot Tub Time Machine 2</td>\n",
       "      <td>2015-02-20</td>\n",
       "      <td>93.0</td>\n",
       "      <td>When Lou's shot in the groin, Nick and Jacob d...</td>\n",
       "      <td>14000000</td>\n",
       "      <td>en</td>\n",
       "      <td>Released</td>\n",
       "      <td>0</td>\n",
       "      <td>2</td>\n",
       "      <td>1</td>\n",
       "      <td>Comedy</td>\n",
       "      <td>United States of America</td>\n",
       "      <td>3</td>\n",
       "      <td>True</td>\n",
       "    </tr>\n",
       "    <tr>\n",
       "      <th>1</th>\n",
       "      <td>The Princess Diaries 2: Royal Engagement</td>\n",
       "      <td>The Princess Diaries 2: Royal Engagement</td>\n",
       "      <td>2004-08-06</td>\n",
       "      <td>113.0</td>\n",
       "      <td>Now settled in Genovia, Princess Mia faces a n...</td>\n",
       "      <td>40000000</td>\n",
       "      <td>en</td>\n",
       "      <td>Released</td>\n",
       "      <td>1</td>\n",
       "      <td>2</td>\n",
       "      <td>1</td>\n",
       "      <td>Comedy, Drama, Family, Romance</td>\n",
       "      <td>United States of America</td>\n",
       "      <td>1</td>\n",
       "      <td>True</td>\n",
       "    </tr>\n",
       "    <tr>\n",
       "      <th>2</th>\n",
       "      <td>Whiplash</td>\n",
       "      <td>Whiplash</td>\n",
       "      <td>2014-10-10</td>\n",
       "      <td>105.0</td>\n",
       "      <td>A promising young drummer enrolls at a cut-thr...</td>\n",
       "      <td>3300000</td>\n",
       "      <td>en</td>\n",
       "      <td>Released</td>\n",
       "      <td>97</td>\n",
       "      <td>145</td>\n",
       "      <td>0</td>\n",
       "      <td>Drama</td>\n",
       "      <td>United States of America</td>\n",
       "      <td>0</td>\n",
       "      <td>True</td>\n",
       "    </tr>\n",
       "  </tbody>\n",
       "</table>\n",
       "</div>"
      ],
      "text/plain": [
       "                             original_title  \\\n",
       "0                    Hot Tub Time Machine 2   \n",
       "1  The Princess Diaries 2: Royal Engagement   \n",
       "2                                  Whiplash   \n",
       "\n",
       "                                      title release_date  duration_min  \\\n",
       "0                    Hot Tub Time Machine 2   2015-02-20          93.0   \n",
       "1  The Princess Diaries 2: Royal Engagement   2004-08-06         113.0   \n",
       "2                                  Whiplash   2014-10-10         105.0   \n",
       "\n",
       "                                         description    budget  \\\n",
       "0  When Lou's shot in the groin, Nick and Jacob d...  14000000   \n",
       "1  Now settled in Genovia, Princess Mia faces a n...  40000000   \n",
       "2  A promising young drummer enrolls at a cut-thr...   3300000   \n",
       "\n",
       "  original_language    status  number_of_awards_won  number_of_nominations  \\\n",
       "0                en  Released                     0                      2   \n",
       "1                en  Released                     1                      2   \n",
       "2                en  Released                    97                    145   \n",
       "\n",
       "   has_collection                      all_genres             top_countries  \\\n",
       "0               1                          Comedy  United States of America   \n",
       "1               1  Comedy, Drama, Family, Romance  United States of America   \n",
       "2               0                           Drama  United States of America   \n",
       "\n",
       "   number_of_top_productions  available_in_english  \n",
       "0                          3                  True  \n",
       "1                          1                  True  \n",
       "2                          0                  True  "
      ]
     },
     "execution_count": 18,
     "metadata": {},
     "output_type": "execute_result"
    }
   ],
   "source": [
    "X = data.drop(columns=[\"popularity\"])\n",
    "\n",
    "print(\"\\nX's shape :\", X.shape)\n",
    "print(\"X's type :\", type(X), \"\\n\")\n",
    "\n",
    "X.head(3)"
   ]
  },
  {
   "cell_type": "code",
   "execution_count": 19,
   "metadata": {},
   "outputs": [
    {
     "name": "stdout",
     "output_type": "stream",
     "text": [
      "\n",
      "y's shape : (6463,)\n",
      "y's type : <class 'pandas.core.series.Series'> \n",
      "\n"
     ]
    },
    {
     "data": {
      "text/html": [
       "<div>\n",
       "<style scoped>\n",
       "    .dataframe tbody tr th:only-of-type {\n",
       "        vertical-align: middle;\n",
       "    }\n",
       "\n",
       "    .dataframe tbody tr th {\n",
       "        vertical-align: top;\n",
       "    }\n",
       "\n",
       "    .dataframe thead th {\n",
       "        text-align: right;\n",
       "    }\n",
       "</style>\n",
       "<table border=\"1\" class=\"dataframe\">\n",
       "  <thead>\n",
       "    <tr style=\"text-align: right;\">\n",
       "      <th></th>\n",
       "      <th>popularity</th>\n",
       "    </tr>\n",
       "  </thead>\n",
       "  <tbody>\n",
       "    <tr>\n",
       "      <th>0</th>\n",
       "      <td>6.575393</td>\n",
       "    </tr>\n",
       "    <tr>\n",
       "      <th>1</th>\n",
       "      <td>8.248895</td>\n",
       "    </tr>\n",
       "    <tr>\n",
       "      <th>2</th>\n",
       "      <td>64.299990</td>\n",
       "    </tr>\n",
       "  </tbody>\n",
       "</table>\n",
       "</div>"
      ],
      "text/plain": [
       "   popularity\n",
       "0    6.575393\n",
       "1    8.248895\n",
       "2   64.299990"
      ]
     },
     "execution_count": 19,
     "metadata": {},
     "output_type": "execute_result"
    }
   ],
   "source": [
    "y = data[\"popularity\"]\n",
    "\n",
    "print(\"\\ny's shape :\", y.shape)\n",
    "print(\"y's type :\", type(y), \"\\n\")\n",
    "\n",
    "pd.DataFrame(y.head(3))"
   ]
  },
  {
   "cell_type": "code",
   "execution_count": 20,
   "metadata": {},
   "outputs": [
    {
     "name": "stdout",
     "output_type": "stream",
     "text": [
      "\n",
      "X_train's shape : (5170, 15)\n"
     ]
    }
   ],
   "source": [
    "X_train, X_test, y_train, y_test = train_test_split(X, y, train_size=0.8)\n",
    "\n",
    "print(\"\\nX_train's shape :\", X_train.shape)"
   ]
  },
  {
   "cell_type": "markdown",
   "metadata": {},
   "source": [
    "### Basic pipeline"
   ]
  },
  {
   "cell_type": "markdown",
   "metadata": {},
   "source": [
    "📝 **Check unique values per features**"
   ]
  },
  {
   "cell_type": "code",
   "execution_count": 21,
   "metadata": {},
   "outputs": [
    {
     "data": {
      "text/plain": [
       "original_title                object\n",
       "title                         object\n",
       "release_date                  object\n",
       "duration_min                 float64\n",
       "description                   object\n",
       "budget                         int64\n",
       "original_language             object\n",
       "status                        object\n",
       "number_of_awards_won           int64\n",
       "number_of_nominations          int64\n",
       "has_collection                 int64\n",
       "all_genres                    object\n",
       "top_countries                 object\n",
       "number_of_top_productions      int64\n",
       "available_in_english            bool\n",
       "dtype: object"
      ]
     },
     "execution_count": 21,
     "metadata": {},
     "output_type": "execute_result"
    }
   ],
   "source": [
    "X.dtypes"
   ]
  },
  {
   "cell_type": "code",
   "execution_count": 22,
   "metadata": {},
   "outputs": [
    {
     "name": "stdout",
     "output_type": "stream",
     "text": [
      "\n",
      "Numerical features (6) :\n",
      " ['duration_min', 'budget', 'number_of_awards_won', 'number_of_nominations', 'has_collection', 'number_of_top_productions']\n",
      "\n",
      "Categorical & boolean features (9) :\n",
      " ['original_title', 'title', 'release_date', 'description', 'original_language', 'status', 'all_genres', 'top_countries', 'available_in_english'] \n",
      "\n"
     ]
    }
   ],
   "source": [
    "# numeric columns : \n",
    "numerical = list(X.select_dtypes(['number']).columns)\n",
    "print(f\"\\nNumerical features ({len(numerical)}) :\\n\", numerical)\n",
    "\n",
    "# categorical & boolean columns : \n",
    "categorical = list(X.select_dtypes(['object', 'bool']).columns)\n",
    "print(f\"\\nCategorical & boolean features ({len(categorical)}) :\\n\", categorical, \"\\n\")"
   ]
  },
  {
   "cell_type": "code",
   "execution_count": 23,
   "metadata": {
    "ExecuteTime": {
     "end_time": "2021-06-29T17:29:13.074836Z",
     "start_time": "2021-06-29T17:29:13.062527Z"
    },
    "tags": [
     "challengify"
    ]
   },
   "outputs": [
    {
     "name": "stdout",
     "output_type": "stream",
     "text": [
      "\n",
      "-> Number of unique values for numerical features :\n",
      "duration_min : 152\n",
      "budget : 636\n",
      "number_of_awards_won : 124\n",
      "number_of_nominations : 180\n",
      "has_collection : 2\n",
      "number_of_top_productions : 5\n",
      "\n",
      "-> Number of unique values for categorical & boolean features :\n",
      "original_title : 6350\n",
      "title : 6337\n",
      "release_date : 4320\n",
      "description : 6449\n",
      "original_language : 42\n",
      "status : 3\n",
      "all_genres : 745\n",
      "top_countries : 320\n",
      "available_in_english : 2\n",
      "\n",
      "-> Unique values for status, availables_in_english & has_collection :\n",
      "status : ['Released' 'Rumored' 'Post Production']\n",
      "available_in_english : [ True False]\n",
      "has_collection : [1 0]\n"
     ]
    }
   ],
   "source": [
    "# Check number of unique values for numerical features\n",
    "\n",
    "print(\"\\n-> Number of unique values for numerical features :\")\n",
    "for col in numerical:\n",
    "    print(f\"{col} : {X[col].nunique()}\")\n",
    "\n",
    "# Check number of unique values for categorical features\n",
    "\n",
    "print(\"\\n-> Number of unique values for categorical & boolean features :\")\n",
    "for col in categorical:\n",
    "    print(f\"{col} : {X[col].nunique()}\")\n",
    "    \n",
    "# Check unique values for status, available_in_english and has_collection\n",
    "\n",
    "print(\"\\n-> Unique values for status, availables_in_english & has_collection :\")\n",
    "for col in [\"status\", \"available_in_english\", \"has_collection\"]:\n",
    "    print(f\"{col} : {X[col].unique()}\")"
   ]
  },
  {
   "cell_type": "markdown",
   "metadata": {},
   "source": [
    "In this baseline, let's forget about the columns below that are difficult to process"
   ]
  },
  {
   "cell_type": "code",
   "execution_count": 24,
   "metadata": {
    "ExecuteTime": {
     "end_time": "2021-06-29T17:29:13.102327Z",
     "start_time": "2021-06-29T17:29:13.099066Z"
    }
   },
   "outputs": [],
   "source": [
    "text = ['description', 'original_title', 'title']\n",
    "dates = ['release_date'] "
   ]
  },
  {
   "cell_type": "markdown",
   "metadata": {},
   "source": [
    "We will simply scale the numerical features and one-hot-encode the categorical ones remaining\n",
    "\n",
    "📝 **Prepare 2 `list`s of features names as `str`**:\n",
    "- `numerical` which contains **only** numerical features\n",
    "- `categorical` which contains **only** categorical features (exept text and dates above)"
   ]
  },
  {
   "cell_type": "code",
   "execution_count": 25,
   "metadata": {},
   "outputs": [],
   "source": [
    "numerical.remove(\"has_collection\")"
   ]
  },
  {
   "cell_type": "code",
   "execution_count": 26,
   "metadata": {
    "ExecuteTime": {
     "end_time": "2021-06-29T17:29:13.107916Z",
     "start_time": "2021-06-29T17:29:13.104876Z"
    },
    "tags": [
     "challengify"
    ]
   },
   "outputs": [],
   "source": [
    "categorical = [cat for cat in categorical if cat not in text and cat not in dates]\n",
    "categorical.append(\"has_collection\")"
   ]
  },
  {
   "cell_type": "code",
   "execution_count": 27,
   "metadata": {},
   "outputs": [
    {
     "name": "stdout",
     "output_type": "stream",
     "text": [
      "numerical (5) : ['duration_min', 'budget', 'number_of_awards_won', 'number_of_nominations', 'number_of_top_productions']\n",
      "categorical (6) : ['original_language', 'status', 'all_genres', 'top_countries', 'available_in_english', 'has_collection']\n",
      "text (3) : ['description', 'original_title', 'title']\n",
      "dates (1) : ['release_date']\n"
     ]
    }
   ],
   "source": [
    "print(f\"numerical ({len(numerical)}) :\", numerical)\n",
    "print(f\"categorical ({len(categorical)}) :\", categorical)\n",
    "print(f\"text ({len(text)}) :\", text)\n",
    "print(f\"dates ({len(dates)}) :\", dates)"
   ]
  },
  {
   "cell_type": "markdown",
   "metadata": {},
   "source": [
    "### Pipelining\n",
    "\n",
    "You are going to build a basic pipeline made of a basic preprocessing and a trees-based model of your choice."
   ]
  },
  {
   "cell_type": "markdown",
   "metadata": {},
   "source": [
    "#### Preprocessing pipeline\n",
    "\n",
    "**📝 Create a basic preprocessing pipeline for the 2 types of features above:**\n",
    "- It should scale the `numerical` features\n",
    "- one-hot-encode the `categorical` and `boolean` features\n",
    "- drop the others\n",
    "- Store your pipeline in a `basic_preprocessing` variable"
   ]
  },
  {
   "cell_type": "code",
   "execution_count": 28,
   "metadata": {},
   "outputs": [
    {
     "data": {
      "image/png": "[encoded data removed]",
      "text/plain": [
       "<Figure size 576x216 with 2 Axes>"
      ]
     },
     "metadata": {
      "needs_background": "light"
     },
     "output_type": "display_data"
    },
    {
     "data": {
      "image/png": "[encoded data removed]",
      "text/plain": [
       "<Figure size 576x216 with 2 Axes>"
      ]
     },
     "metadata": {
      "needs_background": "light"
     },
     "output_type": "display_data"
    },
    {
     "data": {
      "image/png": "[encoded data removed]",
      "text/plain": [
       "<Figure size 576x216 with 2 Axes>"
      ]
     },
     "metadata": {
      "needs_background": "light"
     },
     "output_type": "display_data"
    },
    {
     "data": {
      "image/png": "[encoded data removed]",
      "text/plain": [
       "<Figure size 576x216 with 2 Axes>"
      ]
     },
     "metadata": {
      "needs_background": "light"
     },
     "output_type": "display_data"
    },
    {
     "data": {
      "image/png": "[encoded data removed]",
      "text/plain": [
       "<Figure size 576x216 with 2 Axes>"
      ]
     },
     "metadata": {
      "needs_background": "light"
     },
     "output_type": "display_data"
    }
   ],
   "source": [
    "# Checking numercial features distribution before scaling\n",
    "\n",
    "for col in numerical:\n",
    "    plt.figure(figsize=(8,3), constrained_layout=True)\n",
    "    plt.subplot(1, 2, 1)\n",
    "    plt.title(f\"Distribution of: {col}\")\n",
    "    sns.histplot(data=X[col], kde=True)\n",
    "    plt.subplot(1, 2, 2)\n",
    "    plt.title(f\"Boxplot of: {col}\")\n",
    "    sns.boxplot(X[col])"
   ]
  },
  {
   "cell_type": "code",
   "execution_count": 29,
   "metadata": {},
   "outputs": [
    {
     "data": {
      "text/html": [
       "<style>#sk-25aaed07-310c-4e7b-8958-b96e947dfa10 {color: black;background-color: white;}#sk-25aaed07-310c-4e7b-8958-b96e947dfa10 pre{padding: 0;}#sk-25aaed07-310c-4e7b-8958-b96e947dfa10 div.sk-toggleable {background-color: white;}#sk-25aaed07-310c-4e7b-8958-b96e947dfa10 label.sk-toggleable__label {cursor: pointer;display: block;width: 100%;margin-bottom: 0;padding: 0.2em 0.3em;box-sizing: border-box;text-align: center;}#sk-25aaed07-310c-4e7b-8958-b96e947dfa10 div.sk-toggleable__content {max-height: 0;max-width: 0;overflow: hidden;text-align: left;background-color: #f0f8ff;}#sk-25aaed07-310c-4e7b-8958-b96e947dfa10 div.sk-toggleable__content pre {margin: 0.2em;color: black;border-radius: 0.25em;background-color: #f0f8ff;}#sk-25aaed07-310c-4e7b-8958-b96e947dfa10 input.sk-toggleable__control:checked~div.sk-toggleable__content {max-height: 200px;max-width: 100%;overflow: auto;}#sk-25aaed07-310c-4e7b-8958-b96e947dfa10 div.sk-estimator input.sk-toggleable__control:checked~label.sk-toggleable__label {background-color: #d4ebff;}#sk-25aaed07-310c-4e7b-8958-b96e947dfa10 div.sk-label input.sk-toggleable__control:checked~label.sk-toggleable__label {background-color: #d4ebff;}#sk-25aaed07-310c-4e7b-8958-b96e947dfa10 input.sk-hidden--visually {border: 0;clip: rect(1px 1px 1px 1px);clip: rect(1px, 1px, 1px, 1px);height: 1px;margin: -1px;overflow: hidden;padding: 0;position: absolute;width: 1px;}#sk-25aaed07-310c-4e7b-8958-b96e947dfa10 div.sk-estimator {font-family: monospace;background-color: #f0f8ff;margin: 0.25em 0.25em;border: 1px dotted black;border-radius: 0.25em;box-sizing: border-box;}#sk-25aaed07-310c-4e7b-8958-b96e947dfa10 div.sk-estimator:hover {background-color: #d4ebff;}#sk-25aaed07-310c-4e7b-8958-b96e947dfa10 div.sk-parallel-item::after {content: \"\";width: 100%;border-bottom: 1px solid gray;flex-grow: 1;}#sk-25aaed07-310c-4e7b-8958-b96e947dfa10 div.sk-label:hover label.sk-toggleable__label {background-color: #d4ebff;}#sk-25aaed07-310c-4e7b-8958-b96e947dfa10 div.sk-serial::before {content: \"\";position: absolute;border-left: 1px solid gray;box-sizing: border-box;top: 2em;bottom: 0;left: 50%;}#sk-25aaed07-310c-4e7b-8958-b96e947dfa10 div.sk-serial {display: flex;flex-direction: column;align-items: center;background-color: white;}#sk-25aaed07-310c-4e7b-8958-b96e947dfa10 div.sk-item {z-index: 1;}#sk-25aaed07-310c-4e7b-8958-b96e947dfa10 div.sk-parallel {display: flex;align-items: stretch;justify-content: center;background-color: white;}#sk-25aaed07-310c-4e7b-8958-b96e947dfa10 div.sk-parallel-item {display: flex;flex-direction: column;position: relative;background-color: white;}#sk-25aaed07-310c-4e7b-8958-b96e947dfa10 div.sk-parallel-item:first-child::after {align-self: flex-end;width: 50%;}#sk-25aaed07-310c-4e7b-8958-b96e947dfa10 div.sk-parallel-item:last-child::after {align-self: flex-start;width: 50%;}#sk-25aaed07-310c-4e7b-8958-b96e947dfa10 div.sk-parallel-item:only-child::after {width: 0;}#sk-25aaed07-310c-4e7b-8958-b96e947dfa10 div.sk-dashed-wrapped {border: 1px dashed gray;margin: 0.2em;box-sizing: border-box;padding-bottom: 0.1em;background-color: white;position: relative;}#sk-25aaed07-310c-4e7b-8958-b96e947dfa10 div.sk-label label {font-family: monospace;font-weight: bold;background-color: white;display: inline-block;line-height: 1.2em;}#sk-25aaed07-310c-4e7b-8958-b96e947dfa10 div.sk-label-container {position: relative;z-index: 2;text-align: center;}#sk-25aaed07-310c-4e7b-8958-b96e947dfa10 div.sk-container {display: inline-block;position: relative;}</style><div id=\"sk-25aaed07-310c-4e7b-8958-b96e947dfa10\" class\"sk-top-container\"><div class=\"sk-container\"><div class=\"sk-item sk-dashed-wrapped\"><div class=\"sk-label-container\"><div class=\"sk-label sk-toggleable\"><input class=\"sk-toggleable__control sk-hidden--visually\" id=\"fd84bbd8-5ead-4648-8c2a-025cd4457dc0\" type=\"checkbox\" ><label class=\"sk-toggleable__label\" for=\"fd84bbd8-5ead-4648-8c2a-025cd4457dc0\">ColumnTransformer</label><div class=\"sk-toggleable__content\"><pre>ColumnTransformer(transformers=[('num_transformer',\n",
       "                                 Pipeline(steps=[('scaler', StandardScaler())]),\n",
       "                                 ['duration_min', 'budget',\n",
       "                                  'number_of_awards_won',\n",
       "                                  'number_of_nominations',\n",
       "                                  'number_of_top_productions']),\n",
       "                                ('cat_transformer',\n",
       "                                 OneHotEncoder(handle_unknown='ignore'),\n",
       "                                 ['original_language', 'status', 'all_genres',\n",
       "                                  'top_countries', 'available_in_english',\n",
       "                                  'has_collection'])])</pre></div></div></div><div class=\"sk-parallel\"><div class=\"sk-parallel-item\"><div class=\"sk-item\"><div class=\"sk-label-container\"><div class=\"sk-label sk-toggleable\"><input class=\"sk-toggleable__control sk-hidden--visually\" id=\"b3dc1663-6043-48ab-92a0-e832dd583364\" type=\"checkbox\" ><label class=\"sk-toggleable__label\" for=\"b3dc1663-6043-48ab-92a0-e832dd583364\">num_transformer</label><div class=\"sk-toggleable__content\"><pre>['duration_min', 'budget', 'number_of_awards_won', 'number_of_nominations', 'number_of_top_productions']</pre></div></div></div><div class=\"sk-serial\"><div class=\"sk-item\"><div class=\"sk-serial\"><div class=\"sk-item\"><div class=\"sk-estimator sk-toggleable\"><input class=\"sk-toggleable__control sk-hidden--visually\" id=\"60e129f6-cf59-4bbf-a9e8-982f39b1777b\" type=\"checkbox\" ><label class=\"sk-toggleable__label\" for=\"60e129f6-cf59-4bbf-a9e8-982f39b1777b\">StandardScaler</label><div class=\"sk-toggleable__content\"><pre>StandardScaler()</pre></div></div></div></div></div></div></div></div><div class=\"sk-parallel-item\"><div class=\"sk-item\"><div class=\"sk-label-container\"><div class=\"sk-label sk-toggleable\"><input class=\"sk-toggleable__control sk-hidden--visually\" id=\"b01bbe8f-ff62-4649-b630-60d87c125a7c\" type=\"checkbox\" ><label class=\"sk-toggleable__label\" for=\"b01bbe8f-ff62-4649-b630-60d87c125a7c\">cat_transformer</label><div class=\"sk-toggleable__content\"><pre>['original_language', 'status', 'all_genres', 'top_countries', 'available_in_english', 'has_collection']</pre></div></div></div><div class=\"sk-serial\"><div class=\"sk-item\"><div class=\"sk-estimator sk-toggleable\"><input class=\"sk-toggleable__control sk-hidden--visually\" id=\"e4894987-35df-4cef-8618-0ddf7774f8c3\" type=\"checkbox\" ><label class=\"sk-toggleable__label\" for=\"e4894987-35df-4cef-8618-0ddf7774f8c3\">OneHotEncoder</label><div class=\"sk-toggleable__content\"><pre>OneHotEncoder(handle_unknown='ignore')</pre></div></div></div></div></div></div></div></div></div></div>"
      ],
      "text/plain": [
       "ColumnTransformer(transformers=[('num_transformer',\n",
       "                                 Pipeline(steps=[('scaler', StandardScaler())]),\n",
       "                                 ['duration_min', 'budget',\n",
       "                                  'number_of_awards_won',\n",
       "                                  'number_of_nominations',\n",
       "                                  'number_of_top_productions']),\n",
       "                                ('cat_transformer',\n",
       "                                 OneHotEncoder(handle_unknown='ignore'),\n",
       "                                 ['original_language', 'status', 'all_genres',\n",
       "                                  'top_countries', 'available_in_english',\n",
       "                                  'has_collection'])])"
      ]
     },
     "execution_count": 29,
     "metadata": {},
     "output_type": "execute_result"
    }
   ],
   "source": [
    "num_transformer = Pipeline([('scaler', StandardScaler())])\n",
    "\n",
    "cat_transformer = OneHotEncoder(handle_unknown='ignore')\n",
    "\n",
    "basic_preprocessing = ColumnTransformer([\n",
    "    ('num_transformer', num_transformer, numerical),\n",
    "    ('cat_transformer', cat_transformer, categorical)],\n",
    "    remainder='drop')\n",
    "\n",
    "basic_preprocessing"
   ]
  },
  {
   "cell_type": "markdown",
   "metadata": {},
   "source": [
    "**📝 Encode the features and store the result in the variable `X_basic_preprocessing`.**"
   ]
  },
  {
   "cell_type": "code",
   "execution_count": 30,
   "metadata": {
    "ExecuteTime": {
     "end_time": "2021-06-29T17:29:13.523938Z",
     "start_time": "2021-06-29T17:29:13.499042Z"
    },
    "tags": [
     "challengify"
    ]
   },
   "outputs": [],
   "source": [
    "X_basic_preprocessing = basic_preprocessing.fit_transform(X_train)"
   ]
  },
  {
   "cell_type": "markdown",
   "metadata": {},
   "source": [
    "**❓ How many features has been generated by the preprocessing? What do you think about this number?**"
   ]
  },
  {
   "cell_type": "code",
   "execution_count": 31,
   "metadata": {},
   "outputs": [
    {
     "data": {
      "text/plain": [
       "(5170, 999)"
      ]
     },
     "execution_count": 31,
     "metadata": {},
     "output_type": "execute_result"
    }
   ],
   "source": [
    "X_basic_preprocessing.shape"
   ]
  },
  {
   "cell_type": "code",
   "execution_count": 32,
   "metadata": {},
   "outputs": [
    {
     "data": {
      "text/plain": [
       "999"
      ]
     },
     "execution_count": 32,
     "metadata": {},
     "output_type": "execute_result"
    }
   ],
   "source": [
    "sum([X_train[col].nunique() for col in categorical]) + len(numerical)"
   ]
  },
  {
   "cell_type": "code",
   "execution_count": 33,
   "metadata": {},
   "outputs": [
    {
     "data": {
      "text/plain": [
       "1119"
      ]
     },
     "execution_count": 33,
     "metadata": {},
     "output_type": "execute_result"
    }
   ],
   "source": [
    "sum([X[col].nunique() for col in categorical]) + len(numerical)"
   ]
  },
  {
   "cell_type": "code",
   "execution_count": 34,
   "metadata": {},
   "outputs": [],
   "source": [
    "# 1010 columns is exactly the number of columns we have to obtain when one-hot-encoding categorical features,\n",
    "# and keeping numerical features in X_train\n",
    "# NB. : if we had preprocessed the whole X, we would have obtained 1119 features, because some values might for \n",
    "# categorical features are only in X_test and not in X_test (handled with handle_unknown='ignore')"
   ]
  },
  {
   "cell_type": "markdown",
   "metadata": {},
   "source": [
    "#### Modeling pipeline\n",
    "\n",
    "Let's add a model to our pipe. With so many features one-hot-encoded, we **need a model which can act as a feature selector**\n",
    "\n",
    "👉 A linear model regularized with L1 penalty is a good starting point.\n",
    "\n",
    "\n",
    "**📝 Create a `basic_pipeline` which encapsulate the `basic_preprocessing` pipeline + a linear model with a L1 penalty**\n",
    "\n",
    "- store the resulting pipeline as `basic_pipeline`\n",
    "- don't fine-tune it\n",
    "\n",
    "\n",
    "<details>\n",
    "    <summary>Hints</summary>\n",
    "\n",
    "Choose your model from the list [here](https://scikit-learn.org/stable/modules/classes.html#module-sklearn.linear_model)\n",
    "\n",
    "</details>"
   ]
  },
  {
   "cell_type": "code",
   "execution_count": 35,
   "metadata": {
    "ExecuteTime": {
     "end_time": "2021-06-29T17:29:13.614429Z",
     "start_time": "2021-06-29T17:29:13.609607Z"
    },
    "tags": [
     "challengify"
    ]
   },
   "outputs": [
    {
     "data": {
      "text/html": [
       "<style>#sk-86f1ebff-7351-4de7-a535-e8ba1f5f19b7 {color: black;background-color: white;}#sk-86f1ebff-7351-4de7-a535-e8ba1f5f19b7 pre{padding: 0;}#sk-86f1ebff-7351-4de7-a535-e8ba1f5f19b7 div.sk-toggleable {background-color: white;}#sk-86f1ebff-7351-4de7-a535-e8ba1f5f19b7 label.sk-toggleable__label {cursor: pointer;display: block;width: 100%;margin-bottom: 0;padding: 0.2em 0.3em;box-sizing: border-box;text-align: center;}#sk-86f1ebff-7351-4de7-a535-e8ba1f5f19b7 div.sk-toggleable__content {max-height: 0;max-width: 0;overflow: hidden;text-align: left;background-color: #f0f8ff;}#sk-86f1ebff-7351-4de7-a535-e8ba1f5f19b7 div.sk-toggleable__content pre {margin: 0.2em;color: black;border-radius: 0.25em;background-color: #f0f8ff;}#sk-86f1ebff-7351-4de7-a535-e8ba1f5f19b7 input.sk-toggleable__control:checked~div.sk-toggleable__content {max-height: 200px;max-width: 100%;overflow: auto;}#sk-86f1ebff-7351-4de7-a535-e8ba1f5f19b7 div.sk-estimator input.sk-toggleable__control:checked~label.sk-toggleable__label {background-color: #d4ebff;}#sk-86f1ebff-7351-4de7-a535-e8ba1f5f19b7 div.sk-label input.sk-toggleable__control:checked~label.sk-toggleable__label {background-color: #d4ebff;}#sk-86f1ebff-7351-4de7-a535-e8ba1f5f19b7 input.sk-hidden--visually {border: 0;clip: rect(1px 1px 1px 1px);clip: rect(1px, 1px, 1px, 1px);height: 1px;margin: -1px;overflow: hidden;padding: 0;position: absolute;width: 1px;}#sk-86f1ebff-7351-4de7-a535-e8ba1f5f19b7 div.sk-estimator {font-family: monospace;background-color: #f0f8ff;margin: 0.25em 0.25em;border: 1px dotted black;border-radius: 0.25em;box-sizing: border-box;}#sk-86f1ebff-7351-4de7-a535-e8ba1f5f19b7 div.sk-estimator:hover {background-color: #d4ebff;}#sk-86f1ebff-7351-4de7-a535-e8ba1f5f19b7 div.sk-parallel-item::after {content: \"\";width: 100%;border-bottom: 1px solid gray;flex-grow: 1;}#sk-86f1ebff-7351-4de7-a535-e8ba1f5f19b7 div.sk-label:hover label.sk-toggleable__label {background-color: #d4ebff;}#sk-86f1ebff-7351-4de7-a535-e8ba1f5f19b7 div.sk-serial::before {content: \"\";position: absolute;border-left: 1px solid gray;box-sizing: border-box;top: 2em;bottom: 0;left: 50%;}#sk-86f1ebff-7351-4de7-a535-e8ba1f5f19b7 div.sk-serial {display: flex;flex-direction: column;align-items: center;background-color: white;}#sk-86f1ebff-7351-4de7-a535-e8ba1f5f19b7 div.sk-item {z-index: 1;}#sk-86f1ebff-7351-4de7-a535-e8ba1f5f19b7 div.sk-parallel {display: flex;align-items: stretch;justify-content: center;background-color: white;}#sk-86f1ebff-7351-4de7-a535-e8ba1f5f19b7 div.sk-parallel-item {display: flex;flex-direction: column;position: relative;background-color: white;}#sk-86f1ebff-7351-4de7-a535-e8ba1f5f19b7 div.sk-parallel-item:first-child::after {align-self: flex-end;width: 50%;}#sk-86f1ebff-7351-4de7-a535-e8ba1f5f19b7 div.sk-parallel-item:last-child::after {align-self: flex-start;width: 50%;}#sk-86f1ebff-7351-4de7-a535-e8ba1f5f19b7 div.sk-parallel-item:only-child::after {width: 0;}#sk-86f1ebff-7351-4de7-a535-e8ba1f5f19b7 div.sk-dashed-wrapped {border: 1px dashed gray;margin: 0.2em;box-sizing: border-box;padding-bottom: 0.1em;background-color: white;position: relative;}#sk-86f1ebff-7351-4de7-a535-e8ba1f5f19b7 div.sk-label label {font-family: monospace;font-weight: bold;background-color: white;display: inline-block;line-height: 1.2em;}#sk-86f1ebff-7351-4de7-a535-e8ba1f5f19b7 div.sk-label-container {position: relative;z-index: 2;text-align: center;}#sk-86f1ebff-7351-4de7-a535-e8ba1f5f19b7 div.sk-container {display: inline-block;position: relative;}</style><div id=\"sk-86f1ebff-7351-4de7-a535-e8ba1f5f19b7\" class\"sk-top-container\"><div class=\"sk-container\"><div class=\"sk-item sk-dashed-wrapped\"><div class=\"sk-label-container\"><div class=\"sk-label sk-toggleable\"><input class=\"sk-toggleable__control sk-hidden--visually\" id=\"dc758984-97cb-4559-bed0-102b00f8b997\" type=\"checkbox\" ><label class=\"sk-toggleable__label\" for=\"dc758984-97cb-4559-bed0-102b00f8b997\">Pipeline</label><div class=\"sk-toggleable__content\"><pre>Pipeline(steps=[('basic_preprocessing',\n",
       "                 ColumnTransformer(transformers=[('num_transformer',\n",
       "                                                  Pipeline(steps=[('scaler',\n",
       "                                                                   StandardScaler())]),\n",
       "                                                  ['duration_min', 'budget',\n",
       "                                                   'number_of_awards_won',\n",
       "                                                   'number_of_nominations',\n",
       "                                                   'number_of_top_productions']),\n",
       "                                                 ('cat_transformer',\n",
       "                                                  OneHotEncoder(handle_unknown='ignore'),\n",
       "                                                  ['original_language',\n",
       "                                                   'status', 'all_genres',\n",
       "                                                   'top_countries',\n",
       "                                                   'available_in_english',\n",
       "                                                   'has_collection'])])),\n",
       "                ('linear_regression', Lasso())])</pre></div></div></div><div class=\"sk-serial\"><div class=\"sk-item sk-dashed-wrapped\"><div class=\"sk-label-container\"><div class=\"sk-label sk-toggleable\"><input class=\"sk-toggleable__control sk-hidden--visually\" id=\"385d0506-20b9-42d7-a309-26bfbe6adb37\" type=\"checkbox\" ><label class=\"sk-toggleable__label\" for=\"385d0506-20b9-42d7-a309-26bfbe6adb37\">basic_preprocessing: ColumnTransformer</label><div class=\"sk-toggleable__content\"><pre>ColumnTransformer(transformers=[('num_transformer',\n",
       "                                 Pipeline(steps=[('scaler', StandardScaler())]),\n",
       "                                 ['duration_min', 'budget',\n",
       "                                  'number_of_awards_won',\n",
       "                                  'number_of_nominations',\n",
       "                                  'number_of_top_productions']),\n",
       "                                ('cat_transformer',\n",
       "                                 OneHotEncoder(handle_unknown='ignore'),\n",
       "                                 ['original_language', 'status', 'all_genres',\n",
       "                                  'top_countries', 'available_in_english',\n",
       "                                  'has_collection'])])</pre></div></div></div><div class=\"sk-parallel\"><div class=\"sk-parallel-item\"><div class=\"sk-item\"><div class=\"sk-label-container\"><div class=\"sk-label sk-toggleable\"><input class=\"sk-toggleable__control sk-hidden--visually\" id=\"ec835bdb-2b8e-4c02-aa18-85568c295f24\" type=\"checkbox\" ><label class=\"sk-toggleable__label\" for=\"ec835bdb-2b8e-4c02-aa18-85568c295f24\">num_transformer</label><div class=\"sk-toggleable__content\"><pre>['duration_min', 'budget', 'number_of_awards_won', 'number_of_nominations', 'number_of_top_productions']</pre></div></div></div><div class=\"sk-serial\"><div class=\"sk-item\"><div class=\"sk-serial\"><div class=\"sk-item\"><div class=\"sk-estimator sk-toggleable\"><input class=\"sk-toggleable__control sk-hidden--visually\" id=\"8a7b956a-bf9e-48e1-b7b7-47a6ac06dd44\" type=\"checkbox\" ><label class=\"sk-toggleable__label\" for=\"8a7b956a-bf9e-48e1-b7b7-47a6ac06dd44\">StandardScaler</label><div class=\"sk-toggleable__content\"><pre>StandardScaler()</pre></div></div></div></div></div></div></div></div><div class=\"sk-parallel-item\"><div class=\"sk-item\"><div class=\"sk-label-container\"><div class=\"sk-label sk-toggleable\"><input class=\"sk-toggleable__control sk-hidden--visually\" id=\"f6290da5-09d6-4173-90ae-da5cff5b69f3\" type=\"checkbox\" ><label class=\"sk-toggleable__label\" for=\"f6290da5-09d6-4173-90ae-da5cff5b69f3\">cat_transformer</label><div class=\"sk-toggleable__content\"><pre>['original_language', 'status', 'all_genres', 'top_countries', 'available_in_english', 'has_collection']</pre></div></div></div><div class=\"sk-serial\"><div class=\"sk-item\"><div class=\"sk-estimator sk-toggleable\"><input class=\"sk-toggleable__control sk-hidden--visually\" id=\"4756d476-6397-40a8-b370-f0fd93ee196d\" type=\"checkbox\" ><label class=\"sk-toggleable__label\" for=\"4756d476-6397-40a8-b370-f0fd93ee196d\">OneHotEncoder</label><div class=\"sk-toggleable__content\"><pre>OneHotEncoder(handle_unknown='ignore')</pre></div></div></div></div></div></div></div></div><div class=\"sk-item\"><div class=\"sk-estimator sk-toggleable\"><input class=\"sk-toggleable__control sk-hidden--visually\" id=\"e32140c9-0edc-46cd-bf4e-6f0f7b518398\" type=\"checkbox\" ><label class=\"sk-toggleable__label\" for=\"e32140c9-0edc-46cd-bf4e-6f0f7b518398\">Lasso</label><div class=\"sk-toggleable__content\"><pre>Lasso()</pre></div></div></div></div></div></div></div>"
      ],
      "text/plain": [
       "Pipeline(steps=[('basic_preprocessing',\n",
       "                 ColumnTransformer(transformers=[('num_transformer',\n",
       "                                                  Pipeline(steps=[('scaler',\n",
       "                                                                   StandardScaler())]),\n",
       "                                                  ['duration_min', 'budget',\n",
       "                                                   'number_of_awards_won',\n",
       "                                                   'number_of_nominations',\n",
       "                                                   'number_of_top_productions']),\n",
       "                                                 ('cat_transformer',\n",
       "                                                  OneHotEncoder(handle_unknown='ignore'),\n",
       "                                                  ['original_language',\n",
       "                                                   'status', 'all_genres',\n",
       "                                                   'top_countries',\n",
       "                                                   'available_in_english',\n",
       "                                                   'has_collection'])])),\n",
       "                ('linear_regression', Lasso())])"
      ]
     },
     "execution_count": 35,
     "metadata": {},
     "output_type": "execute_result"
    }
   ],
   "source": [
    "basic_pipeline = Pipeline([\n",
    "    ('basic_preprocessing', basic_preprocessing),\n",
    "    ('linear_regression', Lasso())\n",
    "])\n",
    "\n",
    "basic_pipeline"
   ]
  },
  {
   "cell_type": "markdown",
   "metadata": {},
   "source": [
    "### Cross-validated baseline\n",
    "\n",
    "**📝 Perform a cross-validated evaluation of your baseline model using the metric you defined above. Store the results of this evaluation as an `array` of floating scores in the `basic_scores` variable.**"
   ]
  },
  {
   "cell_type": "code",
   "execution_count": 36,
   "metadata": {
    "ExecuteTime": {
     "end_time": "2021-06-29T17:29:13.834847Z",
     "start_time": "2021-06-29T17:29:13.634994Z"
    },
    "tags": [
     "challengify"
    ]
   },
   "outputs": [
    {
     "data": {
      "text/plain": [
       "-76.62155830393648"
      ]
     },
     "execution_count": 36,
     "metadata": {},
     "output_type": "execute_result"
    }
   ],
   "source": [
    "basic_scores = cross_val_score(basic_pipeline, X_train, y_train, cv=5, scoring=scoring)\n",
    "basic_scores.mean()"
   ]
  },
  {
   "cell_type": "markdown",
   "metadata": {},
   "source": [
    "### 🧪 Save your results\n",
    "\n",
    "Run the following cell to save your results"
   ]
  },
  {
   "cell_type": "code",
   "execution_count": 37,
   "metadata": {
    "ExecuteTime": {
     "end_time": "2021-06-29T17:29:13.848670Z",
     "start_time": "2021-06-29T17:29:13.844198Z"
    }
   },
   "outputs": [],
   "source": [
    "ChallengeResult(\n",
    "    'baseline',\n",
    "    metric=scoring,\n",
    "    features=[categorical,numerical],\n",
    "    preproc=basic_preprocessing,\n",
    "    preproc_shape=X_basic_preprocessing.shape,\n",
    "    pipe=basic_pipeline,\n",
    "    scores=basic_scores\n",
    ").write()"
   ]
  },
  {
   "cell_type": "markdown",
   "metadata": {},
   "source": [
    "## Feature engineering"
   ]
  },
  {
   "cell_type": "markdown",
   "metadata": {},
   "source": [
    "### Time Features\n",
    "\n",
    "\n",
    "👉 Let's try to improve performance using the feature `release_date`, and especially its `month` and `year`.\n",
    "\n",
    "ℹ️ If you want to skip this section, you can move directly to the next one: _Advanced categorical features_."
   ]
  },
  {
   "cell_type": "markdown",
   "metadata": {},
   "source": [
    "**📝 Complete the custom transformer `TimeFeaturesExtractor` below**\n",
    "\n",
    "Running\n",
    "```python\n",
    "TimeFeaturesExtractor().fit_transform(X[['release_date']])\n",
    "``` \n",
    "should return something like\n",
    "\n",
    "|    |   month |   year |\n",
    "|---:|--------:|-------:|\n",
    "|  0 |       2 |   2015 |\n",
    "|  1 |       8 |   2004 |\n",
    "|  2 |      10 |   2014 |\n",
    "|  3 |       3 |   2012 |\n",
    "|  4 |       8 |   2012 |\n"
   ]
  },
  {
   "cell_type": "code",
   "execution_count": 38,
   "metadata": {
    "ExecuteTime": {
     "end_time": "2021-06-29T17:29:13.859554Z",
     "start_time": "2021-06-29T17:29:13.855428Z"
    }
   },
   "outputs": [],
   "source": [
    "class TimeFeaturesExtractor(BaseEstimator, TransformerMixin):\n",
    "    \"\"\"Extract the 2 time features from a date\"\"\"\n",
    "    \n",
    "    def __init__(self):\n",
    "        pass\n",
    "    \n",
    "    def fit(self, X, y=None):\n",
    "        return self\n",
    "    \n",
    "    def transform(self, X, y=None):\n",
    "        \"\"\"\n",
    "        Params:\n",
    "        X: DataFrame\n",
    "        y: Series\n",
    "        \n",
    "        Returns a DataFrame with 2 columns containing the time features as integers extracted from the release_date.\n",
    "        \"\"\"\n",
    "        X_dt = X.copy()\n",
    "        X_dt[\"release_date\"] = pd.to_datetime(X_dt[\"release_date\"])\n",
    "        X_dt[\"month\"] = X_dt[\"release_date\"].dt.month\n",
    "        X_dt[\"year\"] = X_dt[\"release_date\"].dt.year\n",
    "        X_dt.drop(columns=[\"release_date\"], inplace=True)\n",
    "        \n",
    "        return X_dt"
   ]
  },
  {
   "cell_type": "code",
   "execution_count": 39,
   "metadata": {
    "ExecuteTime": {
     "end_time": "2021-06-29T17:29:13.877264Z",
     "start_time": "2021-06-29T17:29:13.862231Z"
    }
   },
   "outputs": [
    {
     "data": {
      "text/html": [
       "<div>\n",
       "<style scoped>\n",
       "    .dataframe tbody tr th:only-of-type {\n",
       "        vertical-align: middle;\n",
       "    }\n",
       "\n",
       "    .dataframe tbody tr th {\n",
       "        vertical-align: top;\n",
       "    }\n",
       "\n",
       "    .dataframe thead th {\n",
       "        text-align: right;\n",
       "    }\n",
       "</style>\n",
       "<table border=\"1\" class=\"dataframe\">\n",
       "  <thead>\n",
       "    <tr style=\"text-align: right;\">\n",
       "      <th></th>\n",
       "      <th>month</th>\n",
       "      <th>year</th>\n",
       "    </tr>\n",
       "  </thead>\n",
       "  <tbody>\n",
       "    <tr>\n",
       "      <th>0</th>\n",
       "      <td>2</td>\n",
       "      <td>2015</td>\n",
       "    </tr>\n",
       "    <tr>\n",
       "      <th>1</th>\n",
       "      <td>8</td>\n",
       "      <td>2004</td>\n",
       "    </tr>\n",
       "    <tr>\n",
       "      <th>2</th>\n",
       "      <td>10</td>\n",
       "      <td>2014</td>\n",
       "    </tr>\n",
       "    <tr>\n",
       "      <th>3</th>\n",
       "      <td>3</td>\n",
       "      <td>2012</td>\n",
       "    </tr>\n",
       "    <tr>\n",
       "      <th>4</th>\n",
       "      <td>8</td>\n",
       "      <td>2012</td>\n",
       "    </tr>\n",
       "  </tbody>\n",
       "</table>\n",
       "</div>"
      ],
      "text/plain": [
       "   month  year\n",
       "0      2  2015\n",
       "1      8  2004\n",
       "2     10  2014\n",
       "3      3  2012\n",
       "4      8  2012"
      ]
     },
     "execution_count": 39,
     "metadata": {},
     "output_type": "execute_result"
    }
   ],
   "source": [
    "# Try your transformer and save your new features here\n",
    "X_time_features = TimeFeaturesExtractor().fit_transform(X[['release_date']])\n",
    "X_time_features.head()"
   ]
  },
  {
   "cell_type": "markdown",
   "metadata": {},
   "source": [
    "We still have 2 problems to solve\n",
    "- `month` is cyclical: 12 should be a close to 1 as to 11, right? \n",
    "- `year` is not scaled\n",
    "\n",
    "**📝 Build a final custom transformer `CyclicalEncoder` so that**\n",
    "\n",
    "Running\n",
    "```python\n",
    "CyclicalEncoder().fit_transform(X_time_features)\n",
    "``` \n",
    "should return something like this\n",
    "\n",
    "|    |    month_cos |   month_sin |      year |\n",
    "|---:|-------------:|------------:|----------:|\n",
    "|  0 |  0.5         |    0.866025 | 0.0466039 |\n",
    "|  1 | -0.5         |   -0.866025 | 0.0411502 |\n",
    "|  2 |  0.5         |   -0.866025 | 0.0461081 |\n",
    "|  3 |  6.12323e-17 |    1        | 0.0451165 |\n",
    "|  4 | -0.5         |   -0.866025 | 0.0451165 |\n",
    "\n",
    "With the cyclical encoding is done as below\n",
    "- `month_cos = 2 * math.pi / 12 * X[['month']] `\n",
    "- `month_sin = 2 * math.pi / 12 * X[['month']] `\n",
    "\n",
    "And the `year` begin min-max scaled"
   ]
  },
  {
   "cell_type": "code",
   "execution_count": 40,
   "metadata": {
    "ExecuteTime": {
     "end_time": "2021-06-29T17:29:13.884690Z",
     "start_time": "2021-06-29T17:29:13.879274Z"
    }
   },
   "outputs": [],
   "source": [
    "class CyclicalEncoder(BaseEstimator, TransformerMixin):\n",
    "    \"\"\"\n",
    "    Encode a cyclical feature\n",
    "    \"\"\"\n",
    "    \n",
    "    def __init__(self):\n",
    "        pass\n",
    "\n",
    "    def fit(self, X, y=None):\n",
    "        \"\"\"\n",
    "        Compute here what you need for the transform phase and store it as instance variable\n",
    "        \"\"\"\n",
    "        self.max_year = X[\"year\"].max()\n",
    "        self.min_year = X[\"year\"].min()\n",
    "        return self\n",
    "\n",
    "    def transform(self, X, y=None):\n",
    "        \"\"\"\n",
    "        Compute and returns the final DataFrame\n",
    "        \"\"\"\n",
    "        X_new = X.copy()\n",
    "        X_new[\"month_cos\"] = np.cos(2 * math.pi / 12 * X_new[['month']])\n",
    "        X_new[\"month_sin\"] = np.sin(2 * math.pi / 12 * X_new[['month']])\n",
    "        X_new[\"year\"] = (X_new[\"year\"] - self.min_year) / self.max_year\n",
    "        X_new.drop(columns=[\"month\"], inplace=True)\n",
    "\n",
    "        return X_new"
   ]
  },
  {
   "cell_type": "code",
   "execution_count": 41,
   "metadata": {
    "ExecuteTime": {
     "end_time": "2021-06-29T17:29:13.899004Z",
     "start_time": "2021-06-29T17:29:13.886894Z"
    }
   },
   "outputs": [
    {
     "data": {
      "text/html": [
       "<div>\n",
       "<style scoped>\n",
       "    .dataframe tbody tr th:only-of-type {\n",
       "        vertical-align: middle;\n",
       "    }\n",
       "\n",
       "    .dataframe tbody tr th {\n",
       "        vertical-align: top;\n",
       "    }\n",
       "\n",
       "    .dataframe thead th {\n",
       "        text-align: right;\n",
       "    }\n",
       "</style>\n",
       "<table border=\"1\" class=\"dataframe\">\n",
       "  <thead>\n",
       "    <tr style=\"text-align: right;\">\n",
       "      <th></th>\n",
       "      <th>year</th>\n",
       "      <th>month_cos</th>\n",
       "      <th>month_sin</th>\n",
       "    </tr>\n",
       "  </thead>\n",
       "  <tbody>\n",
       "    <tr>\n",
       "      <th>0</th>\n",
       "      <td>0.046604</td>\n",
       "      <td>5.000000e-01</td>\n",
       "      <td>0.866025</td>\n",
       "    </tr>\n",
       "    <tr>\n",
       "      <th>1</th>\n",
       "      <td>0.041150</td>\n",
       "      <td>-5.000000e-01</td>\n",
       "      <td>-0.866025</td>\n",
       "    </tr>\n",
       "    <tr>\n",
       "      <th>2</th>\n",
       "      <td>0.046108</td>\n",
       "      <td>5.000000e-01</td>\n",
       "      <td>-0.866025</td>\n",
       "    </tr>\n",
       "    <tr>\n",
       "      <th>3</th>\n",
       "      <td>0.045117</td>\n",
       "      <td>6.123234e-17</td>\n",
       "      <td>1.000000</td>\n",
       "    </tr>\n",
       "    <tr>\n",
       "      <th>4</th>\n",
       "      <td>0.045117</td>\n",
       "      <td>-5.000000e-01</td>\n",
       "      <td>-0.866025</td>\n",
       "    </tr>\n",
       "  </tbody>\n",
       "</table>\n",
       "</div>"
      ],
      "text/plain": [
       "       year     month_cos  month_sin\n",
       "0  0.046604  5.000000e-01   0.866025\n",
       "1  0.041150 -5.000000e-01  -0.866025\n",
       "2  0.046108  5.000000e-01  -0.866025\n",
       "3  0.045117  6.123234e-17   1.000000\n",
       "4  0.045117 -5.000000e-01  -0.866025"
      ]
     },
     "execution_count": 41,
     "metadata": {},
     "output_type": "execute_result"
    }
   ],
   "source": [
    "# Try your transformer and save your new features here\n",
    "X_time_cyclical = CyclicalEncoder().fit_transform(X_time_features)\n",
    "X_time_cyclical.head()"
   ]
  },
  {
   "cell_type": "code",
   "execution_count": 42,
   "metadata": {
    "ExecuteTime": {
     "end_time": "2021-06-29T17:29:14.052971Z",
     "start_time": "2021-06-29T17:29:13.900696Z"
    }
   },
   "outputs": [
    {
     "data": {
      "image/png": "[encoded data removed]",
      "text/plain": [
       "<Figure size 432x288 with 1 Axes>"
      ]
     },
     "metadata": {
      "needs_background": "light"
     },
     "output_type": "display_data"
    }
   ],
   "source": [
    "# Check that this form a circle with 12 points\n",
    "plt.scatter(X_time_cyclical['month_cos'],\n",
    "            X_time_cyclical['month_sin'])\n",
    "plt.xlabel(\"month_cos\"); plt.ylabel(\"month_sin\");"
   ]
  },
  {
   "cell_type": "markdown",
   "metadata": {},
   "source": [
    "**📝 Enhance your `basic_pipeline` with a new preprocessing including both `TimeFeaturesExtractor` and `CyclicalFeatureExtractor`:**\n",
    "\n",
    "- Just use `TimeFeatureExtractor` if you haven't had time to do the `Cyclical` one\n",
    "- Store this new pipeline as `time_pipeline`\n",
    "- Keep same estimator for now"
   ]
  },
  {
   "cell_type": "code",
   "execution_count": 43,
   "metadata": {
    "ExecuteTime": {
     "end_time": "2021-06-29T17:29:14.077345Z",
     "start_time": "2021-06-29T17:29:14.054521Z"
    },
    "tags": [
     "challengify"
    ]
   },
   "outputs": [
    {
     "data": {
      "text/html": [
       "<style>#sk-1eabd9ca-a9ab-4ffe-838c-c57506ebe8a9 {color: black;background-color: white;}#sk-1eabd9ca-a9ab-4ffe-838c-c57506ebe8a9 pre{padding: 0;}#sk-1eabd9ca-a9ab-4ffe-838c-c57506ebe8a9 div.sk-toggleable {background-color: white;}#sk-1eabd9ca-a9ab-4ffe-838c-c57506ebe8a9 label.sk-toggleable__label {cursor: pointer;display: block;width: 100%;margin-bottom: 0;padding: 0.2em 0.3em;box-sizing: border-box;text-align: center;}#sk-1eabd9ca-a9ab-4ffe-838c-c57506ebe8a9 div.sk-toggleable__content {max-height: 0;max-width: 0;overflow: hidden;text-align: left;background-color: #f0f8ff;}#sk-1eabd9ca-a9ab-4ffe-838c-c57506ebe8a9 div.sk-toggleable__content pre {margin: 0.2em;color: black;border-radius: 0.25em;background-color: #f0f8ff;}#sk-1eabd9ca-a9ab-4ffe-838c-c57506ebe8a9 input.sk-toggleable__control:checked~div.sk-toggleable__content {max-height: 200px;max-width: 100%;overflow: auto;}#sk-1eabd9ca-a9ab-4ffe-838c-c57506ebe8a9 div.sk-estimator input.sk-toggleable__control:checked~label.sk-toggleable__label {background-color: #d4ebff;}#sk-1eabd9ca-a9ab-4ffe-838c-c57506ebe8a9 div.sk-label input.sk-toggleable__control:checked~label.sk-toggleable__label {background-color: #d4ebff;}#sk-1eabd9ca-a9ab-4ffe-838c-c57506ebe8a9 input.sk-hidden--visually {border: 0;clip: rect(1px 1px 1px 1px);clip: rect(1px, 1px, 1px, 1px);height: 1px;margin: -1px;overflow: hidden;padding: 0;position: absolute;width: 1px;}#sk-1eabd9ca-a9ab-4ffe-838c-c57506ebe8a9 div.sk-estimator {font-family: monospace;background-color: #f0f8ff;margin: 0.25em 0.25em;border: 1px dotted black;border-radius: 0.25em;box-sizing: border-box;}#sk-1eabd9ca-a9ab-4ffe-838c-c57506ebe8a9 div.sk-estimator:hover {background-color: #d4ebff;}#sk-1eabd9ca-a9ab-4ffe-838c-c57506ebe8a9 div.sk-parallel-item::after {content: \"\";width: 100%;border-bottom: 1px solid gray;flex-grow: 1;}#sk-1eabd9ca-a9ab-4ffe-838c-c57506ebe8a9 div.sk-label:hover label.sk-toggleable__label {background-color: #d4ebff;}#sk-1eabd9ca-a9ab-4ffe-838c-c57506ebe8a9 div.sk-serial::before {content: \"\";position: absolute;border-left: 1px solid gray;box-sizing: border-box;top: 2em;bottom: 0;left: 50%;}#sk-1eabd9ca-a9ab-4ffe-838c-c57506ebe8a9 div.sk-serial {display: flex;flex-direction: column;align-items: center;background-color: white;}#sk-1eabd9ca-a9ab-4ffe-838c-c57506ebe8a9 div.sk-item {z-index: 1;}#sk-1eabd9ca-a9ab-4ffe-838c-c57506ebe8a9 div.sk-parallel {display: flex;align-items: stretch;justify-content: center;background-color: white;}#sk-1eabd9ca-a9ab-4ffe-838c-c57506ebe8a9 div.sk-parallel-item {display: flex;flex-direction: column;position: relative;background-color: white;}#sk-1eabd9ca-a9ab-4ffe-838c-c57506ebe8a9 div.sk-parallel-item:first-child::after {align-self: flex-end;width: 50%;}#sk-1eabd9ca-a9ab-4ffe-838c-c57506ebe8a9 div.sk-parallel-item:last-child::after {align-self: flex-start;width: 50%;}#sk-1eabd9ca-a9ab-4ffe-838c-c57506ebe8a9 div.sk-parallel-item:only-child::after {width: 0;}#sk-1eabd9ca-a9ab-4ffe-838c-c57506ebe8a9 div.sk-dashed-wrapped {border: 1px dashed gray;margin: 0.2em;box-sizing: border-box;padding-bottom: 0.1em;background-color: white;position: relative;}#sk-1eabd9ca-a9ab-4ffe-838c-c57506ebe8a9 div.sk-label label {font-family: monospace;font-weight: bold;background-color: white;display: inline-block;line-height: 1.2em;}#sk-1eabd9ca-a9ab-4ffe-838c-c57506ebe8a9 div.sk-label-container {position: relative;z-index: 2;text-align: center;}#sk-1eabd9ca-a9ab-4ffe-838c-c57506ebe8a9 div.sk-container {display: inline-block;position: relative;}</style><div id=\"sk-1eabd9ca-a9ab-4ffe-838c-c57506ebe8a9\" class\"sk-top-container\"><div class=\"sk-container\"><div class=\"sk-item sk-dashed-wrapped\"><div class=\"sk-label-container\"><div class=\"sk-label sk-toggleable\"><input class=\"sk-toggleable__control sk-hidden--visually\" id=\"350d55f0-c9c8-48e9-bf2e-003234f7a688\" type=\"checkbox\" ><label class=\"sk-toggleable__label\" for=\"350d55f0-c9c8-48e9-bf2e-003234f7a688\">Pipeline</label><div class=\"sk-toggleable__content\"><pre>Pipeline(steps=[('time_features_extractor', TimeFeaturesExtractor()),\n",
       "                ('cyclical_encoder', CyclicalEncoder())])</pre></div></div></div><div class=\"sk-serial\"><div class=\"sk-item\"><div class=\"sk-estimator sk-toggleable\"><input class=\"sk-toggleable__control sk-hidden--visually\" id=\"6d851f29-1da5-40f0-8854-231b7736f685\" type=\"checkbox\" ><label class=\"sk-toggleable__label\" for=\"6d851f29-1da5-40f0-8854-231b7736f685\">TimeFeaturesExtractor</label><div class=\"sk-toggleable__content\"><pre>TimeFeaturesExtractor()</pre></div></div></div><div class=\"sk-item\"><div class=\"sk-estimator sk-toggleable\"><input class=\"sk-toggleable__control sk-hidden--visually\" id=\"75de313f-f682-428f-8d28-57ead93c7bd3\" type=\"checkbox\" ><label class=\"sk-toggleable__label\" for=\"75de313f-f682-428f-8d28-57ead93c7bd3\">CyclicalEncoder</label><div class=\"sk-toggleable__content\"><pre>CyclicalEncoder()</pre></div></div></div></div></div></div></div>"
      ],
      "text/plain": [
       "Pipeline(steps=[('time_features_extractor', TimeFeaturesExtractor()),\n",
       "                ('cyclical_encoder', CyclicalEncoder())])"
      ]
     },
     "execution_count": 43,
     "metadata": {},
     "output_type": "execute_result"
    }
   ],
   "source": [
    "time_pipeline = Pipeline([\n",
    "    ('time_features_extractor', TimeFeaturesExtractor()),\n",
    "    ('cyclical_encoder', CyclicalEncoder())\n",
    "])\n",
    "\n",
    "time_pipeline"
   ]
  },
  {
   "cell_type": "code",
   "execution_count": 44,
   "metadata": {},
   "outputs": [
    {
     "data": {
      "text/html": [
       "<style>#sk-e01d6e22-6270-465f-90d7-abe81a9321aa {color: black;background-color: white;}#sk-e01d6e22-6270-465f-90d7-abe81a9321aa pre{padding: 0;}#sk-e01d6e22-6270-465f-90d7-abe81a9321aa div.sk-toggleable {background-color: white;}#sk-e01d6e22-6270-465f-90d7-abe81a9321aa label.sk-toggleable__label {cursor: pointer;display: block;width: 100%;margin-bottom: 0;padding: 0.2em 0.3em;box-sizing: border-box;text-align: center;}#sk-e01d6e22-6270-465f-90d7-abe81a9321aa div.sk-toggleable__content {max-height: 0;max-width: 0;overflow: hidden;text-align: left;background-color: #f0f8ff;}#sk-e01d6e22-6270-465f-90d7-abe81a9321aa div.sk-toggleable__content pre {margin: 0.2em;color: black;border-radius: 0.25em;background-color: #f0f8ff;}#sk-e01d6e22-6270-465f-90d7-abe81a9321aa input.sk-toggleable__control:checked~div.sk-toggleable__content {max-height: 200px;max-width: 100%;overflow: auto;}#sk-e01d6e22-6270-465f-90d7-abe81a9321aa div.sk-estimator input.sk-toggleable__control:checked~label.sk-toggleable__label {background-color: #d4ebff;}#sk-e01d6e22-6270-465f-90d7-abe81a9321aa div.sk-label input.sk-toggleable__control:checked~label.sk-toggleable__label {background-color: #d4ebff;}#sk-e01d6e22-6270-465f-90d7-abe81a9321aa input.sk-hidden--visually {border: 0;clip: rect(1px 1px 1px 1px);clip: rect(1px, 1px, 1px, 1px);height: 1px;margin: -1px;overflow: hidden;padding: 0;position: absolute;width: 1px;}#sk-e01d6e22-6270-465f-90d7-abe81a9321aa div.sk-estimator {font-family: monospace;background-color: #f0f8ff;margin: 0.25em 0.25em;border: 1px dotted black;border-radius: 0.25em;box-sizing: border-box;}#sk-e01d6e22-6270-465f-90d7-abe81a9321aa div.sk-estimator:hover {background-color: #d4ebff;}#sk-e01d6e22-6270-465f-90d7-abe81a9321aa div.sk-parallel-item::after {content: \"\";width: 100%;border-bottom: 1px solid gray;flex-grow: 1;}#sk-e01d6e22-6270-465f-90d7-abe81a9321aa div.sk-label:hover label.sk-toggleable__label {background-color: #d4ebff;}#sk-e01d6e22-6270-465f-90d7-abe81a9321aa div.sk-serial::before {content: \"\";position: absolute;border-left: 1px solid gray;box-sizing: border-box;top: 2em;bottom: 0;left: 50%;}#sk-e01d6e22-6270-465f-90d7-abe81a9321aa div.sk-serial {display: flex;flex-direction: column;align-items: center;background-color: white;}#sk-e01d6e22-6270-465f-90d7-abe81a9321aa div.sk-item {z-index: 1;}#sk-e01d6e22-6270-465f-90d7-abe81a9321aa div.sk-parallel {display: flex;align-items: stretch;justify-content: center;background-color: white;}#sk-e01d6e22-6270-465f-90d7-abe81a9321aa div.sk-parallel-item {display: flex;flex-direction: column;position: relative;background-color: white;}#sk-e01d6e22-6270-465f-90d7-abe81a9321aa div.sk-parallel-item:first-child::after {align-self: flex-end;width: 50%;}#sk-e01d6e22-6270-465f-90d7-abe81a9321aa div.sk-parallel-item:last-child::after {align-self: flex-start;width: 50%;}#sk-e01d6e22-6270-465f-90d7-abe81a9321aa div.sk-parallel-item:only-child::after {width: 0;}#sk-e01d6e22-6270-465f-90d7-abe81a9321aa div.sk-dashed-wrapped {border: 1px dashed gray;margin: 0.2em;box-sizing: border-box;padding-bottom: 0.1em;background-color: white;position: relative;}#sk-e01d6e22-6270-465f-90d7-abe81a9321aa div.sk-label label {font-family: monospace;font-weight: bold;background-color: white;display: inline-block;line-height: 1.2em;}#sk-e01d6e22-6270-465f-90d7-abe81a9321aa div.sk-label-container {position: relative;z-index: 2;text-align: center;}#sk-e01d6e22-6270-465f-90d7-abe81a9321aa div.sk-container {display: inline-block;position: relative;}</style><div id=\"sk-e01d6e22-6270-465f-90d7-abe81a9321aa\" class\"sk-top-container\"><div class=\"sk-container\"><div class=\"sk-item sk-dashed-wrapped\"><div class=\"sk-label-container\"><div class=\"sk-label sk-toggleable\"><input class=\"sk-toggleable__control sk-hidden--visually\" id=\"c58bc31c-9302-4709-bdc1-6bd74222cf13\" type=\"checkbox\" ><label class=\"sk-toggleable__label\" for=\"c58bc31c-9302-4709-bdc1-6bd74222cf13\">ColumnTransformer</label><div class=\"sk-toggleable__content\"><pre>ColumnTransformer(transformers=[('num_transformer',\n",
       "                                 Pipeline(steps=[('scaler', StandardScaler())]),\n",
       "                                 ['duration_min', 'budget',\n",
       "                                  'number_of_awards_won',\n",
       "                                  'number_of_nominations',\n",
       "                                  'number_of_top_productions']),\n",
       "                                ('cat_transformer',\n",
       "                                 OneHotEncoder(handle_unknown='ignore'),\n",
       "                                 ['original_language', 'status', 'all_genres',\n",
       "                                  'top_countries', 'available_in_english',\n",
       "                                  'has_collection']),\n",
       "                                ('time_pipeline',\n",
       "                                 Pipeline(steps=[('time_features_extractor',\n",
       "                                                  TimeFeaturesExtractor()),\n",
       "                                                 ('cyclical_encoder',\n",
       "                                                  CyclicalEncoder())]),\n",
       "                                 ['release_date'])])</pre></div></div></div><div class=\"sk-parallel\"><div class=\"sk-parallel-item\"><div class=\"sk-item\"><div class=\"sk-label-container\"><div class=\"sk-label sk-toggleable\"><input class=\"sk-toggleable__control sk-hidden--visually\" id=\"b4078b5a-125e-4916-bb24-983d140ec2de\" type=\"checkbox\" ><label class=\"sk-toggleable__label\" for=\"b4078b5a-125e-4916-bb24-983d140ec2de\">num_transformer</label><div class=\"sk-toggleable__content\"><pre>['duration_min', 'budget', 'number_of_awards_won', 'number_of_nominations', 'number_of_top_productions']</pre></div></div></div><div class=\"sk-serial\"><div class=\"sk-item\"><div class=\"sk-serial\"><div class=\"sk-item\"><div class=\"sk-estimator sk-toggleable\"><input class=\"sk-toggleable__control sk-hidden--visually\" id=\"6ee46a35-da93-47a5-94b2-074df47583f0\" type=\"checkbox\" ><label class=\"sk-toggleable__label\" for=\"6ee46a35-da93-47a5-94b2-074df47583f0\">StandardScaler</label><div class=\"sk-toggleable__content\"><pre>StandardScaler()</pre></div></div></div></div></div></div></div></div><div class=\"sk-parallel-item\"><div class=\"sk-item\"><div class=\"sk-label-container\"><div class=\"sk-label sk-toggleable\"><input class=\"sk-toggleable__control sk-hidden--visually\" id=\"b754f76e-f4b9-43fa-ae8a-8f19c576f46d\" type=\"checkbox\" ><label class=\"sk-toggleable__label\" for=\"b754f76e-f4b9-43fa-ae8a-8f19c576f46d\">cat_transformer</label><div class=\"sk-toggleable__content\"><pre>['original_language', 'status', 'all_genres', 'top_countries', 'available_in_english', 'has_collection']</pre></div></div></div><div class=\"sk-serial\"><div class=\"sk-item\"><div class=\"sk-estimator sk-toggleable\"><input class=\"sk-toggleable__control sk-hidden--visually\" id=\"a24b8289-5da5-4120-9187-d1781ad607f0\" type=\"checkbox\" ><label class=\"sk-toggleable__label\" for=\"a24b8289-5da5-4120-9187-d1781ad607f0\">OneHotEncoder</label><div class=\"sk-toggleable__content\"><pre>OneHotEncoder(handle_unknown='ignore')</pre></div></div></div></div></div></div><div class=\"sk-parallel-item\"><div class=\"sk-item\"><div class=\"sk-label-container\"><div class=\"sk-label sk-toggleable\"><input class=\"sk-toggleable__control sk-hidden--visually\" id=\"8681a264-d76e-451e-95c0-07267b3463d2\" type=\"checkbox\" ><label class=\"sk-toggleable__label\" for=\"8681a264-d76e-451e-95c0-07267b3463d2\">time_pipeline</label><div class=\"sk-toggleable__content\"><pre>['release_date']</pre></div></div></div><div class=\"sk-serial\"><div class=\"sk-item\"><div class=\"sk-serial\"><div class=\"sk-item\"><div class=\"sk-estimator sk-toggleable\"><input class=\"sk-toggleable__control sk-hidden--visually\" id=\"b6eb1e8c-11d7-475a-9aac-5d15312b2840\" type=\"checkbox\" ><label class=\"sk-toggleable__label\" for=\"b6eb1e8c-11d7-475a-9aac-5d15312b2840\">TimeFeaturesExtractor</label><div class=\"sk-toggleable__content\"><pre>TimeFeaturesExtractor()</pre></div></div></div><div class=\"sk-item\"><div class=\"sk-estimator sk-toggleable\"><input class=\"sk-toggleable__control sk-hidden--visually\" id=\"7a574aef-a3ee-49d8-84d6-1e36aa8e7de4\" type=\"checkbox\" ><label class=\"sk-toggleable__label\" for=\"7a574aef-a3ee-49d8-84d6-1e36aa8e7de4\">CyclicalEncoder</label><div class=\"sk-toggleable__content\"><pre>CyclicalEncoder()</pre></div></div></div></div></div></div></div></div></div></div></div></div>"
      ],
      "text/plain": [
       "ColumnTransformer(transformers=[('num_transformer',\n",
       "                                 Pipeline(steps=[('scaler', StandardScaler())]),\n",
       "                                 ['duration_min', 'budget',\n",
       "                                  'number_of_awards_won',\n",
       "                                  'number_of_nominations',\n",
       "                                  'number_of_top_productions']),\n",
       "                                ('cat_transformer',\n",
       "                                 OneHotEncoder(handle_unknown='ignore'),\n",
       "                                 ['original_language', 'status', 'all_genres',\n",
       "                                  'top_countries', 'available_in_english',\n",
       "                                  'has_collection']),\n",
       "                                ('time_pipeline',\n",
       "                                 Pipeline(steps=[('time_features_extractor',\n",
       "                                                  TimeFeaturesExtractor()),\n",
       "                                                 ('cyclical_encoder',\n",
       "                                                  CyclicalEncoder())]),\n",
       "                                 ['release_date'])])"
      ]
     },
     "execution_count": 44,
     "metadata": {},
     "output_type": "execute_result"
    }
   ],
   "source": [
    "basic_preprocessing = ColumnTransformer([\n",
    "    ('num_transformer', num_transformer, numerical),\n",
    "    ('cat_transformer', cat_transformer, categorical),\n",
    "    ('time_pipeline', time_pipeline, dates)],\n",
    "    remainder='drop')\n",
    "\n",
    "basic_preprocessing"
   ]
  },
  {
   "cell_type": "code",
   "execution_count": 45,
   "metadata": {},
   "outputs": [
    {
     "data": {
      "text/html": [
       "<style>#sk-a7e1d424-fd61-4933-8b79-67393c992e7f {color: black;background-color: white;}#sk-a7e1d424-fd61-4933-8b79-67393c992e7f pre{padding: 0;}#sk-a7e1d424-fd61-4933-8b79-67393c992e7f div.sk-toggleable {background-color: white;}#sk-a7e1d424-fd61-4933-8b79-67393c992e7f label.sk-toggleable__label {cursor: pointer;display: block;width: 100%;margin-bottom: 0;padding: 0.2em 0.3em;box-sizing: border-box;text-align: center;}#sk-a7e1d424-fd61-4933-8b79-67393c992e7f div.sk-toggleable__content {max-height: 0;max-width: 0;overflow: hidden;text-align: left;background-color: #f0f8ff;}#sk-a7e1d424-fd61-4933-8b79-67393c992e7f div.sk-toggleable__content pre {margin: 0.2em;color: black;border-radius: 0.25em;background-color: #f0f8ff;}#sk-a7e1d424-fd61-4933-8b79-67393c992e7f input.sk-toggleable__control:checked~div.sk-toggleable__content {max-height: 200px;max-width: 100%;overflow: auto;}#sk-a7e1d424-fd61-4933-8b79-67393c992e7f div.sk-estimator input.sk-toggleable__control:checked~label.sk-toggleable__label {background-color: #d4ebff;}#sk-a7e1d424-fd61-4933-8b79-67393c992e7f div.sk-label input.sk-toggleable__control:checked~label.sk-toggleable__label {background-color: #d4ebff;}#sk-a7e1d424-fd61-4933-8b79-67393c992e7f input.sk-hidden--visually {border: 0;clip: rect(1px 1px 1px 1px);clip: rect(1px, 1px, 1px, 1px);height: 1px;margin: -1px;overflow: hidden;padding: 0;position: absolute;width: 1px;}#sk-a7e1d424-fd61-4933-8b79-67393c992e7f div.sk-estimator {font-family: monospace;background-color: #f0f8ff;margin: 0.25em 0.25em;border: 1px dotted black;border-radius: 0.25em;box-sizing: border-box;}#sk-a7e1d424-fd61-4933-8b79-67393c992e7f div.sk-estimator:hover {background-color: #d4ebff;}#sk-a7e1d424-fd61-4933-8b79-67393c992e7f div.sk-parallel-item::after {content: \"\";width: 100%;border-bottom: 1px solid gray;flex-grow: 1;}#sk-a7e1d424-fd61-4933-8b79-67393c992e7f div.sk-label:hover label.sk-toggleable__label {background-color: #d4ebff;}#sk-a7e1d424-fd61-4933-8b79-67393c992e7f div.sk-serial::before {content: \"\";position: absolute;border-left: 1px solid gray;box-sizing: border-box;top: 2em;bottom: 0;left: 50%;}#sk-a7e1d424-fd61-4933-8b79-67393c992e7f div.sk-serial {display: flex;flex-direction: column;align-items: center;background-color: white;}#sk-a7e1d424-fd61-4933-8b79-67393c992e7f div.sk-item {z-index: 1;}#sk-a7e1d424-fd61-4933-8b79-67393c992e7f div.sk-parallel {display: flex;align-items: stretch;justify-content: center;background-color: white;}#sk-a7e1d424-fd61-4933-8b79-67393c992e7f div.sk-parallel-item {display: flex;flex-direction: column;position: relative;background-color: white;}#sk-a7e1d424-fd61-4933-8b79-67393c992e7f div.sk-parallel-item:first-child::after {align-self: flex-end;width: 50%;}#sk-a7e1d424-fd61-4933-8b79-67393c992e7f div.sk-parallel-item:last-child::after {align-self: flex-start;width: 50%;}#sk-a7e1d424-fd61-4933-8b79-67393c992e7f div.sk-parallel-item:only-child::after {width: 0;}#sk-a7e1d424-fd61-4933-8b79-67393c992e7f div.sk-dashed-wrapped {border: 1px dashed gray;margin: 0.2em;box-sizing: border-box;padding-bottom: 0.1em;background-color: white;position: relative;}#sk-a7e1d424-fd61-4933-8b79-67393c992e7f div.sk-label label {font-family: monospace;font-weight: bold;background-color: white;display: inline-block;line-height: 1.2em;}#sk-a7e1d424-fd61-4933-8b79-67393c992e7f div.sk-label-container {position: relative;z-index: 2;text-align: center;}#sk-a7e1d424-fd61-4933-8b79-67393c992e7f div.sk-container {display: inline-block;position: relative;}</style><div id=\"sk-a7e1d424-fd61-4933-8b79-67393c992e7f\" class\"sk-top-container\"><div class=\"sk-container\"><div class=\"sk-item sk-dashed-wrapped\"><div class=\"sk-label-container\"><div class=\"sk-label sk-toggleable\"><input class=\"sk-toggleable__control sk-hidden--visually\" id=\"479b7a6d-5ccb-4c20-9289-fb7e3fd7a1dc\" type=\"checkbox\" ><label class=\"sk-toggleable__label\" for=\"479b7a6d-5ccb-4c20-9289-fb7e3fd7a1dc\">Pipeline</label><div class=\"sk-toggleable__content\"><pre>Pipeline(steps=[('basic_preprocessing',\n",
       "                 ColumnTransformer(transformers=[('num_transformer',\n",
       "                                                  Pipeline(steps=[('scaler',\n",
       "                                                                   StandardScaler())]),\n",
       "                                                  ['duration_min', 'budget',\n",
       "                                                   'number_of_awards_won',\n",
       "                                                   'number_of_nominations',\n",
       "                                                   'number_of_top_productions']),\n",
       "                                                 ('cat_transformer',\n",
       "                                                  OneHotEncoder(handle_unknown='ignore'),\n",
       "                                                  ['original_language',\n",
       "                                                   'status', 'all_genres',\n",
       "                                                   'top_countries',\n",
       "                                                   'available_in_english',\n",
       "                                                   'has_collection']),\n",
       "                                                 ('time_pipeline',\n",
       "                                                  Pipeline(steps=[('time_features_extractor',\n",
       "                                                                   TimeFeaturesExtractor()),\n",
       "                                                                  ('cyclical_encoder',\n",
       "                                                                   CyclicalEncoder())]),\n",
       "                                                  ['release_date'])])),\n",
       "                ('linear_regression', Lasso())])</pre></div></div></div><div class=\"sk-serial\"><div class=\"sk-item sk-dashed-wrapped\"><div class=\"sk-label-container\"><div class=\"sk-label sk-toggleable\"><input class=\"sk-toggleable__control sk-hidden--visually\" id=\"61d5ac3b-af65-474b-8f4c-1e6fe1fb0815\" type=\"checkbox\" ><label class=\"sk-toggleable__label\" for=\"61d5ac3b-af65-474b-8f4c-1e6fe1fb0815\">basic_preprocessing: ColumnTransformer</label><div class=\"sk-toggleable__content\"><pre>ColumnTransformer(transformers=[('num_transformer',\n",
       "                                 Pipeline(steps=[('scaler', StandardScaler())]),\n",
       "                                 ['duration_min', 'budget',\n",
       "                                  'number_of_awards_won',\n",
       "                                  'number_of_nominations',\n",
       "                                  'number_of_top_productions']),\n",
       "                                ('cat_transformer',\n",
       "                                 OneHotEncoder(handle_unknown='ignore'),\n",
       "                                 ['original_language', 'status', 'all_genres',\n",
       "                                  'top_countries', 'available_in_english',\n",
       "                                  'has_collection']),\n",
       "                                ('time_pipeline',\n",
       "                                 Pipeline(steps=[('time_features_extractor',\n",
       "                                                  TimeFeaturesExtractor()),\n",
       "                                                 ('cyclical_encoder',\n",
       "                                                  CyclicalEncoder())]),\n",
       "                                 ['release_date'])])</pre></div></div></div><div class=\"sk-parallel\"><div class=\"sk-parallel-item\"><div class=\"sk-item\"><div class=\"sk-label-container\"><div class=\"sk-label sk-toggleable\"><input class=\"sk-toggleable__control sk-hidden--visually\" id=\"48a1b47f-ce0b-4cb6-80bd-c52a35f80ad5\" type=\"checkbox\" ><label class=\"sk-toggleable__label\" for=\"48a1b47f-ce0b-4cb6-80bd-c52a35f80ad5\">num_transformer</label><div class=\"sk-toggleable__content\"><pre>['duration_min', 'budget', 'number_of_awards_won', 'number_of_nominations', 'number_of_top_productions']</pre></div></div></div><div class=\"sk-serial\"><div class=\"sk-item\"><div class=\"sk-serial\"><div class=\"sk-item\"><div class=\"sk-estimator sk-toggleable\"><input class=\"sk-toggleable__control sk-hidden--visually\" id=\"c5da85f0-9988-419f-b212-bbafb4f50c56\" type=\"checkbox\" ><label class=\"sk-toggleable__label\" for=\"c5da85f0-9988-419f-b212-bbafb4f50c56\">StandardScaler</label><div class=\"sk-toggleable__content\"><pre>StandardScaler()</pre></div></div></div></div></div></div></div></div><div class=\"sk-parallel-item\"><div class=\"sk-item\"><div class=\"sk-label-container\"><div class=\"sk-label sk-toggleable\"><input class=\"sk-toggleable__control sk-hidden--visually\" id=\"8dd6266f-9b23-4057-8a50-e638c597e9c5\" type=\"checkbox\" ><label class=\"sk-toggleable__label\" for=\"8dd6266f-9b23-4057-8a50-e638c597e9c5\">cat_transformer</label><div class=\"sk-toggleable__content\"><pre>['original_language', 'status', 'all_genres', 'top_countries', 'available_in_english', 'has_collection']</pre></div></div></div><div class=\"sk-serial\"><div class=\"sk-item\"><div class=\"sk-estimator sk-toggleable\"><input class=\"sk-toggleable__control sk-hidden--visually\" id=\"d9b95939-61fe-4ee1-aa80-1577bec00c94\" type=\"checkbox\" ><label class=\"sk-toggleable__label\" for=\"d9b95939-61fe-4ee1-aa80-1577bec00c94\">OneHotEncoder</label><div class=\"sk-toggleable__content\"><pre>OneHotEncoder(handle_unknown='ignore')</pre></div></div></div></div></div></div><div class=\"sk-parallel-item\"><div class=\"sk-item\"><div class=\"sk-label-container\"><div class=\"sk-label sk-toggleable\"><input class=\"sk-toggleable__control sk-hidden--visually\" id=\"b4f5e921-a648-4e8a-8e72-415d3cab8e9d\" type=\"checkbox\" ><label class=\"sk-toggleable__label\" for=\"b4f5e921-a648-4e8a-8e72-415d3cab8e9d\">time_pipeline</label><div class=\"sk-toggleable__content\"><pre>['release_date']</pre></div></div></div><div class=\"sk-serial\"><div class=\"sk-item\"><div class=\"sk-serial\"><div class=\"sk-item\"><div class=\"sk-estimator sk-toggleable\"><input class=\"sk-toggleable__control sk-hidden--visually\" id=\"b13657b9-6bbc-4e9d-aba4-5a55c04095c2\" type=\"checkbox\" ><label class=\"sk-toggleable__label\" for=\"b13657b9-6bbc-4e9d-aba4-5a55c04095c2\">TimeFeaturesExtractor</label><div class=\"sk-toggleable__content\"><pre>TimeFeaturesExtractor()</pre></div></div></div><div class=\"sk-item\"><div class=\"sk-estimator sk-toggleable\"><input class=\"sk-toggleable__control sk-hidden--visually\" id=\"22d0186f-971e-40a8-b2e3-9c4654ca3e97\" type=\"checkbox\" ><label class=\"sk-toggleable__label\" for=\"22d0186f-971e-40a8-b2e3-9c4654ca3e97\">CyclicalEncoder</label><div class=\"sk-toggleable__content\"><pre>CyclicalEncoder()</pre></div></div></div></div></div></div></div></div></div></div><div class=\"sk-item\"><div class=\"sk-estimator sk-toggleable\"><input class=\"sk-toggleable__control sk-hidden--visually\" id=\"d4950356-d3d3-4295-9e1c-795f40093e44\" type=\"checkbox\" ><label class=\"sk-toggleable__label\" for=\"d4950356-d3d3-4295-9e1c-795f40093e44\">Lasso</label><div class=\"sk-toggleable__content\"><pre>Lasso()</pre></div></div></div></div></div></div></div>"
      ],
      "text/plain": [
       "Pipeline(steps=[('basic_preprocessing',\n",
       "                 ColumnTransformer(transformers=[('num_transformer',\n",
       "                                                  Pipeline(steps=[('scaler',\n",
       "                                                                   StandardScaler())]),\n",
       "                                                  ['duration_min', 'budget',\n",
       "                                                   'number_of_awards_won',\n",
       "                                                   'number_of_nominations',\n",
       "                                                   'number_of_top_productions']),\n",
       "                                                 ('cat_transformer',\n",
       "                                                  OneHotEncoder(handle_unknown='ignore'),\n",
       "                                                  ['original_language',\n",
       "                                                   'status', 'all_genres',\n",
       "                                                   'top_countries',\n",
       "                                                   'available_in_english',\n",
       "                                                   'has_collection']),\n",
       "                                                 ('time_pipeline',\n",
       "                                                  Pipeline(steps=[('time_features_extractor',\n",
       "                                                                   TimeFeaturesExtractor()),\n",
       "                                                                  ('cyclical_encoder',\n",
       "                                                                   CyclicalEncoder())]),\n",
       "                                                  ['release_date'])])),\n",
       "                ('linear_regression', Lasso())])"
      ]
     },
     "execution_count": 45,
     "metadata": {},
     "output_type": "execute_result"
    }
   ],
   "source": [
    "basic_pipeline = Pipeline([\n",
    "    ('basic_preprocessing', basic_preprocessing),\n",
    "    ('linear_regression', Lasso())\n",
    "])\n",
    "\n",
    "basic_pipeline"
   ]
  },
  {
   "cell_type": "markdown",
   "metadata": {},
   "source": [
    "### Advanced categorical encoder to reduce the number of features\n",
    "\n",
    "ℹ️ Most of it has already been coded for you and it shouldn't take long. Still if you want to skip it and move to the next section: _Model Tuning_"
   ]
  },
  {
   "cell_type": "markdown",
   "metadata": {},
   "source": [
    "👉 We need to reduce the number of features to one-hot-encode, which arise from the high cardinality of `all_genres` and `top_countries`"
   ]
  },
  {
   "cell_type": "code",
   "execution_count": 46,
   "metadata": {
    "ExecuteTime": {
     "end_time": "2021-06-29T17:29:14.191964Z",
     "start_time": "2021-06-29T17:29:14.184044Z"
    }
   },
   "outputs": [
    {
     "data": {
      "text/plain": [
       "all_genres       745\n",
       "top_countries    320\n",
       "dtype: int64"
      ]
     },
     "execution_count": 46,
     "metadata": {},
     "output_type": "execute_result"
    }
   ],
   "source": [
    "X[['all_genres', 'top_countries']].nunique()"
   ]
  },
  {
   "cell_type": "markdown",
   "metadata": {},
   "source": [
    "👇 Both share a common pattern: there can be more than 1 country and more than 1 genre per movie."
   ]
  },
  {
   "cell_type": "code",
   "execution_count": 47,
   "metadata": {
    "ExecuteTime": {
     "end_time": "2021-06-29T17:29:14.201275Z",
     "start_time": "2021-06-29T17:29:14.193459Z"
    }
   },
   "outputs": [
    {
     "data": {
      "text/html": [
       "<div>\n",
       "<style scoped>\n",
       "    .dataframe tbody tr th:only-of-type {\n",
       "        vertical-align: middle;\n",
       "    }\n",
       "\n",
       "    .dataframe tbody tr th {\n",
       "        vertical-align: top;\n",
       "    }\n",
       "\n",
       "    .dataframe thead th {\n",
       "        text-align: right;\n",
       "    }\n",
       "</style>\n",
       "<table border=\"1\" class=\"dataframe\">\n",
       "  <thead>\n",
       "    <tr style=\"text-align: right;\">\n",
       "      <th></th>\n",
       "      <th>all_genres</th>\n",
       "      <th>top_countries</th>\n",
       "    </tr>\n",
       "  </thead>\n",
       "  <tbody>\n",
       "    <tr>\n",
       "      <th>6459</th>\n",
       "      <td>Thriller</td>\n",
       "      <td>France, United States of America</td>\n",
       "    </tr>\n",
       "    <tr>\n",
       "      <th>6460</th>\n",
       "      <td>Action, Adventure, Comedy, Thriller</td>\n",
       "      <td>United States of America</td>\n",
       "    </tr>\n",
       "    <tr>\n",
       "      <th>6461</th>\n",
       "      <td>Drama</td>\n",
       "      <td>United States of America</td>\n",
       "    </tr>\n",
       "    <tr>\n",
       "      <th>6462</th>\n",
       "      <td>Horror, Thriller</td>\n",
       "      <td>United States of America</td>\n",
       "    </tr>\n",
       "    <tr>\n",
       "      <th>6463</th>\n",
       "      <td>Drama</td>\n",
       "      <td>France</td>\n",
       "    </tr>\n",
       "  </tbody>\n",
       "</table>\n",
       "</div>"
      ],
      "text/plain": [
       "                               all_genres                     top_countries\n",
       "6459                             Thriller  France, United States of America\n",
       "6460  Action, Adventure, Comedy, Thriller          United States of America\n",
       "6461                                Drama          United States of America\n",
       "6462                     Horror, Thriller          United States of America\n",
       "6463                                Drama                            France"
      ]
     },
     "execution_count": 47,
     "metadata": {},
     "output_type": "execute_result"
    }
   ],
   "source": [
    "X[['all_genres', 'top_countries']].tail()"
   ]
  },
  {
   "cell_type": "markdown",
   "metadata": {},
   "source": [
    "👉 Run the cell below where we have coded for you a custom transformer `CustomGenreAndCountryEncoder` which: \n",
    "- Select the 10 most frequent genres and the 5 most frequent countries\n",
    "- Encode `all_genres` into 10 One Hot Encoded features\n",
    "- Encode `top_countries` into 5 One Hot Encoded features"
   ]
  },
  {
   "cell_type": "code",
   "execution_count": 48,
   "metadata": {
    "ExecuteTime": {
     "end_time": "2021-06-29T17:29:14.210953Z",
     "start_time": "2021-06-29T17:29:14.202791Z"
    }
   },
   "outputs": [],
   "source": [
    "class CustomGenreAndCountryEncoder(BaseEstimator, TransformerMixin):\n",
    "    \"\"\"\n",
    "    Encoding the all_genres and top_companies features which are multi-categorical :\n",
    "    a movie has several possible genres and countries of productions!\n",
    "    \"\"\"\n",
    "\n",
    "    def __init__(self):\n",
    "        pass\n",
    "\n",
    "    def fit(self, X, y=None):\n",
    "        \"\"\"\n",
    "        compute top genres and top countries of productions from all_genres and top_countries features\n",
    "        \"\"\"\n",
    "\n",
    "        # compute top 10 genres       \n",
    "        list_of_genres = list(X['all_genres'].apply(lambda x: [i.strip() for i in x.split(\",\")] if x != [''] else []).values)\n",
    "        top_genres = [m[0] for m in Counter([i for j in list_of_genres for i in j]).most_common(10)]\n",
    "\n",
    "        # save top_genres in dedicated instance variable\n",
    "        self.top_genres = top_genres\n",
    "        \n",
    "         # compute top 5 countries       \n",
    "        list_of_countries = list(X['top_countries'].apply(lambda x: [i.strip() for i in x.split(\",\")] if x != [''] else []).values)\n",
    "        top_countries = [m[0] for m in Counter([i for j in list_of_countries for i in j]).most_common(5)]\n",
    "\n",
    "        # save top_countries in dedicated instance variable\n",
    "        self.top_countries = top_countries\n",
    "\n",
    "        return self\n",
    "\n",
    "    def transform(self, X, y=None):\n",
    "        \"\"\"\n",
    "        encoding genre and country\n",
    "        \"\"\"\n",
    "        X_new = X.copy()\n",
    "        for genre in self.top_genres:\n",
    "            X_new['genre_' + genre] = X_new['all_genres'].apply(lambda x: 1 if genre in x else 0)\n",
    "        X_new = X_new.drop(columns=[\"all_genres\"])\n",
    "        for country in self.top_countries:\n",
    "            X_new['country_' + country] = X_new['top_countries'].apply(lambda x: 1 if country in x else 0)\n",
    "        X_new = X_new.drop(columns=[\"top_countries\"])\n",
    "        return X_new"
   ]
  },
  {
   "cell_type": "code",
   "execution_count": 49,
   "metadata": {
    "ExecuteTime": {
     "end_time": "2021-06-29T17:29:14.289418Z",
     "start_time": "2021-06-29T17:29:14.212506Z"
    }
   },
   "outputs": [
    {
     "name": "stdout",
     "output_type": "stream",
     "text": [
      "(6463, 15)\n"
     ]
    },
    {
     "data": {
      "text/html": [
       "<div>\n",
       "<style scoped>\n",
       "    .dataframe tbody tr th:only-of-type {\n",
       "        vertical-align: middle;\n",
       "    }\n",
       "\n",
       "    .dataframe tbody tr th {\n",
       "        vertical-align: top;\n",
       "    }\n",
       "\n",
       "    .dataframe thead th {\n",
       "        text-align: right;\n",
       "    }\n",
       "</style>\n",
       "<table border=\"1\" class=\"dataframe\">\n",
       "  <thead>\n",
       "    <tr style=\"text-align: right;\">\n",
       "      <th></th>\n",
       "      <th>genre_Drama</th>\n",
       "      <th>genre_Comedy</th>\n",
       "      <th>genre_Thriller</th>\n",
       "      <th>genre_Action</th>\n",
       "      <th>genre_Romance</th>\n",
       "      <th>genre_Adventure</th>\n",
       "      <th>genre_Crime</th>\n",
       "      <th>genre_Science Fiction</th>\n",
       "      <th>genre_Horror</th>\n",
       "      <th>genre_Family</th>\n",
       "      <th>country_United States of America</th>\n",
       "      <th>country_United Kingdom</th>\n",
       "      <th>country_France</th>\n",
       "      <th>country_Germany</th>\n",
       "      <th>country_Canada</th>\n",
       "    </tr>\n",
       "  </thead>\n",
       "  <tbody>\n",
       "    <tr>\n",
       "      <th>0</th>\n",
       "      <td>0</td>\n",
       "      <td>1</td>\n",
       "      <td>0</td>\n",
       "      <td>0</td>\n",
       "      <td>0</td>\n",
       "      <td>0</td>\n",
       "      <td>0</td>\n",
       "      <td>0</td>\n",
       "      <td>0</td>\n",
       "      <td>0</td>\n",
       "      <td>1</td>\n",
       "      <td>0</td>\n",
       "      <td>0</td>\n",
       "      <td>0</td>\n",
       "      <td>0</td>\n",
       "    </tr>\n",
       "    <tr>\n",
       "      <th>1</th>\n",
       "      <td>1</td>\n",
       "      <td>1</td>\n",
       "      <td>0</td>\n",
       "      <td>0</td>\n",
       "      <td>1</td>\n",
       "      <td>0</td>\n",
       "      <td>0</td>\n",
       "      <td>0</td>\n",
       "      <td>0</td>\n",
       "      <td>1</td>\n",
       "      <td>1</td>\n",
       "      <td>0</td>\n",
       "      <td>0</td>\n",
       "      <td>0</td>\n",
       "      <td>0</td>\n",
       "    </tr>\n",
       "    <tr>\n",
       "      <th>2</th>\n",
       "      <td>1</td>\n",
       "      <td>0</td>\n",
       "      <td>0</td>\n",
       "      <td>0</td>\n",
       "      <td>0</td>\n",
       "      <td>0</td>\n",
       "      <td>0</td>\n",
       "      <td>0</td>\n",
       "      <td>0</td>\n",
       "      <td>0</td>\n",
       "      <td>1</td>\n",
       "      <td>0</td>\n",
       "      <td>0</td>\n",
       "      <td>0</td>\n",
       "      <td>0</td>\n",
       "    </tr>\n",
       "    <tr>\n",
       "      <th>3</th>\n",
       "      <td>1</td>\n",
       "      <td>0</td>\n",
       "      <td>1</td>\n",
       "      <td>0</td>\n",
       "      <td>0</td>\n",
       "      <td>0</td>\n",
       "      <td>0</td>\n",
       "      <td>0</td>\n",
       "      <td>0</td>\n",
       "      <td>0</td>\n",
       "      <td>0</td>\n",
       "      <td>0</td>\n",
       "      <td>0</td>\n",
       "      <td>0</td>\n",
       "      <td>0</td>\n",
       "    </tr>\n",
       "    <tr>\n",
       "      <th>4</th>\n",
       "      <td>0</td>\n",
       "      <td>0</td>\n",
       "      <td>1</td>\n",
       "      <td>0</td>\n",
       "      <td>0</td>\n",
       "      <td>0</td>\n",
       "      <td>0</td>\n",
       "      <td>0</td>\n",
       "      <td>1</td>\n",
       "      <td>0</td>\n",
       "      <td>1</td>\n",
       "      <td>0</td>\n",
       "      <td>0</td>\n",
       "      <td>0</td>\n",
       "      <td>1</td>\n",
       "    </tr>\n",
       "  </tbody>\n",
       "</table>\n",
       "</div>"
      ],
      "text/plain": [
       "   genre_Drama  genre_Comedy  genre_Thriller  genre_Action  genre_Romance  \\\n",
       "0            0             1               0             0              0   \n",
       "1            1             1               0             0              1   \n",
       "2            1             0               0             0              0   \n",
       "3            1             0               1             0              0   \n",
       "4            0             0               1             0              0   \n",
       "\n",
       "   genre_Adventure  genre_Crime  genre_Science Fiction  genre_Horror  \\\n",
       "0                0            0                      0             0   \n",
       "1                0            0                      0             0   \n",
       "2                0            0                      0             0   \n",
       "3                0            0                      0             0   \n",
       "4                0            0                      0             1   \n",
       "\n",
       "   genre_Family  country_United States of America  country_United Kingdom  \\\n",
       "0             0                                 1                       0   \n",
       "1             1                                 1                       0   \n",
       "2             0                                 1                       0   \n",
       "3             0                                 0                       0   \n",
       "4             0                                 1                       0   \n",
       "\n",
       "   country_France  country_Germany  country_Canada  \n",
       "0               0                0               0  \n",
       "1               0                0               0  \n",
       "2               0                0               0  \n",
       "3               0                0               0  \n",
       "4               0                0               1  "
      ]
     },
     "execution_count": 49,
     "metadata": {},
     "output_type": "execute_result"
    }
   ],
   "source": [
    "# Check it out\n",
    "X_custom = CustomGenreAndCountryEncoder().fit_transform(X[['all_genres', 'top_countries']])\n",
    "print(X_custom.shape)\n",
    "X_custom.head()"
   ]
  },
  {
   "cell_type": "markdown",
   "metadata": {},
   "source": [
    "**📝 Compute your `final_pipeline` by integrating all these transformers** (or all those you have coded)\n",
    "\n",
    "- `CustomGenreAndCountryEncoder`\n",
    "- `TimeFeaturesExtractor`\n",
    "- `CyclicalFeatureExtractor`"
   ]
  },
  {
   "cell_type": "code",
   "execution_count": 50,
   "metadata": {},
   "outputs": [],
   "source": [
    "categorical.remove(\"all_genres\")\n",
    "categorical.remove(\"top_countries\")"
   ]
  },
  {
   "cell_type": "code",
   "execution_count": 51,
   "metadata": {},
   "outputs": [
    {
     "name": "stdout",
     "output_type": "stream",
     "text": [
      "numerical (5) : ['duration_min', 'budget', 'number_of_awards_won', 'number_of_nominations', 'number_of_top_productions']\n",
      "categorical (4) : ['original_language', 'status', 'available_in_english', 'has_collection']\n",
      "text (3) : ['description', 'original_title', 'title']\n",
      "dates (1) : ['release_date']\n"
     ]
    }
   ],
   "source": [
    "print(f\"numerical ({len(numerical)}) :\", numerical)\n",
    "print(f\"categorical ({len(categorical)}) :\", categorical)\n",
    "print(f\"text ({len(text)}) :\", text)\n",
    "print(f\"dates ({len(dates)}) :\", dates)"
   ]
  },
  {
   "cell_type": "code",
   "execution_count": 52,
   "metadata": {},
   "outputs": [
    {
     "data": {
      "text/html": [
       "<style>#sk-97182ba3-6368-4662-a893-8066555dfc1f {color: black;background-color: white;}#sk-97182ba3-6368-4662-a893-8066555dfc1f pre{padding: 0;}#sk-97182ba3-6368-4662-a893-8066555dfc1f div.sk-toggleable {background-color: white;}#sk-97182ba3-6368-4662-a893-8066555dfc1f label.sk-toggleable__label {cursor: pointer;display: block;width: 100%;margin-bottom: 0;padding: 0.2em 0.3em;box-sizing: border-box;text-align: center;}#sk-97182ba3-6368-4662-a893-8066555dfc1f div.sk-toggleable__content {max-height: 0;max-width: 0;overflow: hidden;text-align: left;background-color: #f0f8ff;}#sk-97182ba3-6368-4662-a893-8066555dfc1f div.sk-toggleable__content pre {margin: 0.2em;color: black;border-radius: 0.25em;background-color: #f0f8ff;}#sk-97182ba3-6368-4662-a893-8066555dfc1f input.sk-toggleable__control:checked~div.sk-toggleable__content {max-height: 200px;max-width: 100%;overflow: auto;}#sk-97182ba3-6368-4662-a893-8066555dfc1f div.sk-estimator input.sk-toggleable__control:checked~label.sk-toggleable__label {background-color: #d4ebff;}#sk-97182ba3-6368-4662-a893-8066555dfc1f div.sk-label input.sk-toggleable__control:checked~label.sk-toggleable__label {background-color: #d4ebff;}#sk-97182ba3-6368-4662-a893-8066555dfc1f input.sk-hidden--visually {border: 0;clip: rect(1px 1px 1px 1px);clip: rect(1px, 1px, 1px, 1px);height: 1px;margin: -1px;overflow: hidden;padding: 0;position: absolute;width: 1px;}#sk-97182ba3-6368-4662-a893-8066555dfc1f div.sk-estimator {font-family: monospace;background-color: #f0f8ff;margin: 0.25em 0.25em;border: 1px dotted black;border-radius: 0.25em;box-sizing: border-box;}#sk-97182ba3-6368-4662-a893-8066555dfc1f div.sk-estimator:hover {background-color: #d4ebff;}#sk-97182ba3-6368-4662-a893-8066555dfc1f div.sk-parallel-item::after {content: \"\";width: 100%;border-bottom: 1px solid gray;flex-grow: 1;}#sk-97182ba3-6368-4662-a893-8066555dfc1f div.sk-label:hover label.sk-toggleable__label {background-color: #d4ebff;}#sk-97182ba3-6368-4662-a893-8066555dfc1f div.sk-serial::before {content: \"\";position: absolute;border-left: 1px solid gray;box-sizing: border-box;top: 2em;bottom: 0;left: 50%;}#sk-97182ba3-6368-4662-a893-8066555dfc1f div.sk-serial {display: flex;flex-direction: column;align-items: center;background-color: white;}#sk-97182ba3-6368-4662-a893-8066555dfc1f div.sk-item {z-index: 1;}#sk-97182ba3-6368-4662-a893-8066555dfc1f div.sk-parallel {display: flex;align-items: stretch;justify-content: center;background-color: white;}#sk-97182ba3-6368-4662-a893-8066555dfc1f div.sk-parallel-item {display: flex;flex-direction: column;position: relative;background-color: white;}#sk-97182ba3-6368-4662-a893-8066555dfc1f div.sk-parallel-item:first-child::after {align-self: flex-end;width: 50%;}#sk-97182ba3-6368-4662-a893-8066555dfc1f div.sk-parallel-item:last-child::after {align-self: flex-start;width: 50%;}#sk-97182ba3-6368-4662-a893-8066555dfc1f div.sk-parallel-item:only-child::after {width: 0;}#sk-97182ba3-6368-4662-a893-8066555dfc1f div.sk-dashed-wrapped {border: 1px dashed gray;margin: 0.2em;box-sizing: border-box;padding-bottom: 0.1em;background-color: white;position: relative;}#sk-97182ba3-6368-4662-a893-8066555dfc1f div.sk-label label {font-family: monospace;font-weight: bold;background-color: white;display: inline-block;line-height: 1.2em;}#sk-97182ba3-6368-4662-a893-8066555dfc1f div.sk-label-container {position: relative;z-index: 2;text-align: center;}#sk-97182ba3-6368-4662-a893-8066555dfc1f div.sk-container {display: inline-block;position: relative;}</style><div id=\"sk-97182ba3-6368-4662-a893-8066555dfc1f\" class\"sk-top-container\"><div class=\"sk-container\"><div class=\"sk-item sk-dashed-wrapped\"><div class=\"sk-label-container\"><div class=\"sk-label sk-toggleable\"><input class=\"sk-toggleable__control sk-hidden--visually\" id=\"2be133dd-347e-469a-8718-f6859a76eb55\" type=\"checkbox\" ><label class=\"sk-toggleable__label\" for=\"2be133dd-347e-469a-8718-f6859a76eb55\">Pipeline</label><div class=\"sk-toggleable__content\"><pre>Pipeline(steps=[('final_processing',\n",
       "                 ColumnTransformer(transformers=[('num_transformer',\n",
       "                                                  Pipeline(steps=[('scaler',\n",
       "                                                                   StandardScaler())]),\n",
       "                                                  ['duration_min', 'budget',\n",
       "                                                   'number_of_awards_won',\n",
       "                                                   'number_of_nominations',\n",
       "                                                   'number_of_top_productions']),\n",
       "                                                 ('cat_transformer',\n",
       "                                                  OneHotEncoder(handle_unknown='ignore'),\n",
       "                                                  ['original_language',\n",
       "                                                   'status',\n",
       "                                                   'available_in_english',\n",
       "                                                   'has_collection']),\n",
       "                                                 ('time_pipeline',\n",
       "                                                  Pipeline(steps=[('time_features_extractor',\n",
       "                                                                   TimeFeaturesExtractor()),\n",
       "                                                                  ('cyclical_encoder',\n",
       "                                                                   CyclicalEncoder())]),\n",
       "                                                  ['release_date']),\n",
       "                                                 ('genre_country_encoder',\n",
       "                                                  CustomGenreAndCountryEncoder(),\n",
       "                                                  ['all_genres',\n",
       "                                                   'top_countries'])])),\n",
       "                ('linear_regression', Lasso())])</pre></div></div></div><div class=\"sk-serial\"><div class=\"sk-item sk-dashed-wrapped\"><div class=\"sk-label-container\"><div class=\"sk-label sk-toggleable\"><input class=\"sk-toggleable__control sk-hidden--visually\" id=\"ce3dd9bc-72a6-48df-8b1c-65709905a9de\" type=\"checkbox\" ><label class=\"sk-toggleable__label\" for=\"ce3dd9bc-72a6-48df-8b1c-65709905a9de\">final_processing: ColumnTransformer</label><div class=\"sk-toggleable__content\"><pre>ColumnTransformer(transformers=[('num_transformer',\n",
       "                                 Pipeline(steps=[('scaler', StandardScaler())]),\n",
       "                                 ['duration_min', 'budget',\n",
       "                                  'number_of_awards_won',\n",
       "                                  'number_of_nominations',\n",
       "                                  'number_of_top_productions']),\n",
       "                                ('cat_transformer',\n",
       "                                 OneHotEncoder(handle_unknown='ignore'),\n",
       "                                 ['original_language', 'status',\n",
       "                                  'available_in_english', 'has_collection']),\n",
       "                                ('time_pipeline',\n",
       "                                 Pipeline(steps=[('time_features_extractor',\n",
       "                                                  TimeFeaturesExtractor()),\n",
       "                                                 ('cyclical_encoder',\n",
       "                                                  CyclicalEncoder())]),\n",
       "                                 ['release_date']),\n",
       "                                ('genre_country_encoder',\n",
       "                                 CustomGenreAndCountryEncoder(),\n",
       "                                 ['all_genres', 'top_countries'])])</pre></div></div></div><div class=\"sk-parallel\"><div class=\"sk-parallel-item\"><div class=\"sk-item\"><div class=\"sk-label-container\"><div class=\"sk-label sk-toggleable\"><input class=\"sk-toggleable__control sk-hidden--visually\" id=\"c332492c-3fe4-41df-86e9-c16531169abc\" type=\"checkbox\" ><label class=\"sk-toggleable__label\" for=\"c332492c-3fe4-41df-86e9-c16531169abc\">num_transformer</label><div class=\"sk-toggleable__content\"><pre>['duration_min', 'budget', 'number_of_awards_won', 'number_of_nominations', 'number_of_top_productions']</pre></div></div></div><div class=\"sk-serial\"><div class=\"sk-item\"><div class=\"sk-serial\"><div class=\"sk-item\"><div class=\"sk-estimator sk-toggleable\"><input class=\"sk-toggleable__control sk-hidden--visually\" id=\"e438d947-ff12-4a9a-a62b-ef4485e7c615\" type=\"checkbox\" ><label class=\"sk-toggleable__label\" for=\"e438d947-ff12-4a9a-a62b-ef4485e7c615\">StandardScaler</label><div class=\"sk-toggleable__content\"><pre>StandardScaler()</pre></div></div></div></div></div></div></div></div><div class=\"sk-parallel-item\"><div class=\"sk-item\"><div class=\"sk-label-container\"><div class=\"sk-label sk-toggleable\"><input class=\"sk-toggleable__control sk-hidden--visually\" id=\"f36d9b7f-41ff-4a32-9368-cfce9a1123e5\" type=\"checkbox\" ><label class=\"sk-toggleable__label\" for=\"f36d9b7f-41ff-4a32-9368-cfce9a1123e5\">cat_transformer</label><div class=\"sk-toggleable__content\"><pre>['original_language', 'status', 'available_in_english', 'has_collection']</pre></div></div></div><div class=\"sk-serial\"><div class=\"sk-item\"><div class=\"sk-estimator sk-toggleable\"><input class=\"sk-toggleable__control sk-hidden--visually\" id=\"d3d9e91b-b85c-4605-89c4-5810d1df6ab5\" type=\"checkbox\" ><label class=\"sk-toggleable__label\" for=\"d3d9e91b-b85c-4605-89c4-5810d1df6ab5\">OneHotEncoder</label><div class=\"sk-toggleable__content\"><pre>OneHotEncoder(handle_unknown='ignore')</pre></div></div></div></div></div></div><div class=\"sk-parallel-item\"><div class=\"sk-item\"><div class=\"sk-label-container\"><div class=\"sk-label sk-toggleable\"><input class=\"sk-toggleable__control sk-hidden--visually\" id=\"f713edd0-2b02-44ca-8728-d5f501f1387c\" type=\"checkbox\" ><label class=\"sk-toggleable__label\" for=\"f713edd0-2b02-44ca-8728-d5f501f1387c\">time_pipeline</label><div class=\"sk-toggleable__content\"><pre>['release_date']</pre></div></div></div><div class=\"sk-serial\"><div class=\"sk-item\"><div class=\"sk-serial\"><div class=\"sk-item\"><div class=\"sk-estimator sk-toggleable\"><input class=\"sk-toggleable__control sk-hidden--visually\" id=\"7d456778-c10f-47ca-8180-eb9319cf8f35\" type=\"checkbox\" ><label class=\"sk-toggleable__label\" for=\"7d456778-c10f-47ca-8180-eb9319cf8f35\">TimeFeaturesExtractor</label><div class=\"sk-toggleable__content\"><pre>TimeFeaturesExtractor()</pre></div></div></div><div class=\"sk-item\"><div class=\"sk-estimator sk-toggleable\"><input class=\"sk-toggleable__control sk-hidden--visually\" id=\"5060ff9d-4e74-49f9-a9a1-40861e0f43f9\" type=\"checkbox\" ><label class=\"sk-toggleable__label\" for=\"5060ff9d-4e74-49f9-a9a1-40861e0f43f9\">CyclicalEncoder</label><div class=\"sk-toggleable__content\"><pre>CyclicalEncoder()</pre></div></div></div></div></div></div></div></div><div class=\"sk-parallel-item\"><div class=\"sk-item\"><div class=\"sk-label-container\"><div class=\"sk-label sk-toggleable\"><input class=\"sk-toggleable__control sk-hidden--visually\" id=\"9edb9516-5df8-440c-98ed-78c79de2e249\" type=\"checkbox\" ><label class=\"sk-toggleable__label\" for=\"9edb9516-5df8-440c-98ed-78c79de2e249\">genre_country_encoder</label><div class=\"sk-toggleable__content\"><pre>['all_genres', 'top_countries']</pre></div></div></div><div class=\"sk-serial\"><div class=\"sk-item\"><div class=\"sk-estimator sk-toggleable\"><input class=\"sk-toggleable__control sk-hidden--visually\" id=\"4e04541b-19e7-45a9-84cf-5f16e3185f4c\" type=\"checkbox\" ><label class=\"sk-toggleable__label\" for=\"4e04541b-19e7-45a9-84cf-5f16e3185f4c\">CustomGenreAndCountryEncoder</label><div class=\"sk-toggleable__content\"><pre>CustomGenreAndCountryEncoder()</pre></div></div></div></div></div></div></div></div><div class=\"sk-item\"><div class=\"sk-estimator sk-toggleable\"><input class=\"sk-toggleable__control sk-hidden--visually\" id=\"9dbf9328-ef03-4711-88be-7c5df66944c3\" type=\"checkbox\" ><label class=\"sk-toggleable__label\" for=\"9dbf9328-ef03-4711-88be-7c5df66944c3\">Lasso</label><div class=\"sk-toggleable__content\"><pre>Lasso()</pre></div></div></div></div></div></div></div>"
      ],
      "text/plain": [
       "Pipeline(steps=[('final_processing',\n",
       "                 ColumnTransformer(transformers=[('num_transformer',\n",
       "                                                  Pipeline(steps=[('scaler',\n",
       "                                                                   StandardScaler())]),\n",
       "                                                  ['duration_min', 'budget',\n",
       "                                                   'number_of_awards_won',\n",
       "                                                   'number_of_nominations',\n",
       "                                                   'number_of_top_productions']),\n",
       "                                                 ('cat_transformer',\n",
       "                                                  OneHotEncoder(handle_unknown='ignore'),\n",
       "                                                  ['original_language',\n",
       "                                                   'status',\n",
       "                                                   'available_in_english',\n",
       "                                                   'has_collection']),\n",
       "                                                 ('time_pipeline',\n",
       "                                                  Pipeline(steps=[('time_features_extractor',\n",
       "                                                                   TimeFeaturesExtractor()),\n",
       "                                                                  ('cyclical_encoder',\n",
       "                                                                   CyclicalEncoder())]),\n",
       "                                                  ['release_date']),\n",
       "                                                 ('genre_country_encoder',\n",
       "                                                  CustomGenreAndCountryEncoder(),\n",
       "                                                  ['all_genres',\n",
       "                                                   'top_countries'])])),\n",
       "                ('linear_regression', Lasso())])"
      ]
     },
     "execution_count": 52,
     "metadata": {},
     "output_type": "execute_result"
    }
   ],
   "source": [
    "final_preprocessing = ColumnTransformer([\n",
    "    ('num_transformer', num_transformer, numerical),\n",
    "    ('cat_transformer', cat_transformer, categorical),\n",
    "    ('time_pipeline', time_pipeline, dates),\n",
    "    ('genre_country_encoder', CustomGenreAndCountryEncoder(), ['all_genres', 'top_countries'])],\n",
    "    remainder='drop')\n",
    "\n",
    "final_pipeline = Pipeline([\n",
    "    ('final_processing', final_preprocessing),\n",
    "    ('linear_regression', Lasso())\n",
    "])\n",
    "\n",
    "final_pipeline"
   ]
  },
  {
   "cell_type": "markdown",
   "metadata": {},
   "source": [
    "📝 **Compute and store its cross validated scores as `final_scores` array of floats**\n",
    "\n",
    "- It does not necessarily improve the performance before we can try-out doing model tuning\n",
    "- However, with a now limited number of features, we will be able to train more complex models in next section (ensemble...)"
   ]
  },
  {
   "cell_type": "code",
   "execution_count": 53,
   "metadata": {},
   "outputs": [
    {
     "name": "stdout",
     "output_type": "stream",
     "text": [
      "CPU times: user 1.38 s, sys: 182 ms, total: 1.56 s\n",
      "Wall time: 862 ms\n"
     ]
    },
    {
     "data": {
      "text/plain": [
       "-76.6215583039365"
      ]
     },
     "execution_count": 53,
     "metadata": {},
     "output_type": "execute_result"
    }
   ],
   "source": [
    "%%time\n",
    "final_scores = cross_val_score(final_pipeline, X_train, y_train, cv=5, scoring=scoring)\n",
    "final_scores.mean()"
   ]
  },
  {
   "cell_type": "markdown",
   "metadata": {},
   "source": [
    "### 🧪 Save your result\n",
    "\n",
    "Run the following cell to save your results."
   ]
  },
  {
   "cell_type": "code",
   "execution_count": 54,
   "metadata": {
    "ExecuteTime": {
     "end_time": "2021-06-29T17:29:15.204479Z",
     "start_time": "2021-06-29T17:29:15.198198Z"
    }
   },
   "outputs": [],
   "source": [
    "ChallengeResult(\n",
    "    'feature_engineering',\n",
    "    X_time_features=X_time_features,\n",
    "    X_time_cyclical= X_time_cyclical,\n",
    "    time_pipeline=time_pipeline,\n",
    "    final_pipeline=final_pipeline,\n",
    "    final_scores=final_scores\n",
    ").write()\n",
    "\n",
    "# Hint: Try restarting your notebook if you obtain an error about saving a custom encoder"
   ]
  },
  {
   "cell_type": "markdown",
   "metadata": {},
   "source": [
    "## Model tuning"
   ]
  },
  {
   "cell_type": "markdown",
   "metadata": {},
   "source": [
    "### Random Forest"
   ]
  },
  {
   "cell_type": "markdown",
   "metadata": {},
   "source": [
    "📝 **Change the estimator of your `final_pipeline` by a Random Forest and checkout your new cross-validated score**"
   ]
  },
  {
   "cell_type": "code",
   "execution_count": 55,
   "metadata": {
    "ExecuteTime": {
     "end_time": "2021-06-29T17:29:19.391364Z",
     "start_time": "2021-06-29T17:29:15.206532Z"
    },
    "tags": [
     "challengify"
    ]
   },
   "outputs": [
    {
     "data": {
      "text/html": [
       "<style>#sk-705a70e7-7945-442b-b8c4-74bdc09dd2f0 {color: black;background-color: white;}#sk-705a70e7-7945-442b-b8c4-74bdc09dd2f0 pre{padding: 0;}#sk-705a70e7-7945-442b-b8c4-74bdc09dd2f0 div.sk-toggleable {background-color: white;}#sk-705a70e7-7945-442b-b8c4-74bdc09dd2f0 label.sk-toggleable__label {cursor: pointer;display: block;width: 100%;margin-bottom: 0;padding: 0.2em 0.3em;box-sizing: border-box;text-align: center;}#sk-705a70e7-7945-442b-b8c4-74bdc09dd2f0 div.sk-toggleable__content {max-height: 0;max-width: 0;overflow: hidden;text-align: left;background-color: #f0f8ff;}#sk-705a70e7-7945-442b-b8c4-74bdc09dd2f0 div.sk-toggleable__content pre {margin: 0.2em;color: black;border-radius: 0.25em;background-color: #f0f8ff;}#sk-705a70e7-7945-442b-b8c4-74bdc09dd2f0 input.sk-toggleable__control:checked~div.sk-toggleable__content {max-height: 200px;max-width: 100%;overflow: auto;}#sk-705a70e7-7945-442b-b8c4-74bdc09dd2f0 div.sk-estimator input.sk-toggleable__control:checked~label.sk-toggleable__label {background-color: #d4ebff;}#sk-705a70e7-7945-442b-b8c4-74bdc09dd2f0 div.sk-label input.sk-toggleable__control:checked~label.sk-toggleable__label {background-color: #d4ebff;}#sk-705a70e7-7945-442b-b8c4-74bdc09dd2f0 input.sk-hidden--visually {border: 0;clip: rect(1px 1px 1px 1px);clip: rect(1px, 1px, 1px, 1px);height: 1px;margin: -1px;overflow: hidden;padding: 0;position: absolute;width: 1px;}#sk-705a70e7-7945-442b-b8c4-74bdc09dd2f0 div.sk-estimator {font-family: monospace;background-color: #f0f8ff;margin: 0.25em 0.25em;border: 1px dotted black;border-radius: 0.25em;box-sizing: border-box;}#sk-705a70e7-7945-442b-b8c4-74bdc09dd2f0 div.sk-estimator:hover {background-color: #d4ebff;}#sk-705a70e7-7945-442b-b8c4-74bdc09dd2f0 div.sk-parallel-item::after {content: \"\";width: 100%;border-bottom: 1px solid gray;flex-grow: 1;}#sk-705a70e7-7945-442b-b8c4-74bdc09dd2f0 div.sk-label:hover label.sk-toggleable__label {background-color: #d4ebff;}#sk-705a70e7-7945-442b-b8c4-74bdc09dd2f0 div.sk-serial::before {content: \"\";position: absolute;border-left: 1px solid gray;box-sizing: border-box;top: 2em;bottom: 0;left: 50%;}#sk-705a70e7-7945-442b-b8c4-74bdc09dd2f0 div.sk-serial {display: flex;flex-direction: column;align-items: center;background-color: white;}#sk-705a70e7-7945-442b-b8c4-74bdc09dd2f0 div.sk-item {z-index: 1;}#sk-705a70e7-7945-442b-b8c4-74bdc09dd2f0 div.sk-parallel {display: flex;align-items: stretch;justify-content: center;background-color: white;}#sk-705a70e7-7945-442b-b8c4-74bdc09dd2f0 div.sk-parallel-item {display: flex;flex-direction: column;position: relative;background-color: white;}#sk-705a70e7-7945-442b-b8c4-74bdc09dd2f0 div.sk-parallel-item:first-child::after {align-self: flex-end;width: 50%;}#sk-705a70e7-7945-442b-b8c4-74bdc09dd2f0 div.sk-parallel-item:last-child::after {align-self: flex-start;width: 50%;}#sk-705a70e7-7945-442b-b8c4-74bdc09dd2f0 div.sk-parallel-item:only-child::after {width: 0;}#sk-705a70e7-7945-442b-b8c4-74bdc09dd2f0 div.sk-dashed-wrapped {border: 1px dashed gray;margin: 0.2em;box-sizing: border-box;padding-bottom: 0.1em;background-color: white;position: relative;}#sk-705a70e7-7945-442b-b8c4-74bdc09dd2f0 div.sk-label label {font-family: monospace;font-weight: bold;background-color: white;display: inline-block;line-height: 1.2em;}#sk-705a70e7-7945-442b-b8c4-74bdc09dd2f0 div.sk-label-container {position: relative;z-index: 2;text-align: center;}#sk-705a70e7-7945-442b-b8c4-74bdc09dd2f0 div.sk-container {display: inline-block;position: relative;}</style><div id=\"sk-705a70e7-7945-442b-b8c4-74bdc09dd2f0\" class\"sk-top-container\"><div class=\"sk-container\"><div class=\"sk-item sk-dashed-wrapped\"><div class=\"sk-label-container\"><div class=\"sk-label sk-toggleable\"><input class=\"sk-toggleable__control sk-hidden--visually\" id=\"86326ea8-5b1e-4acb-8c72-68cfd3dc3ce2\" type=\"checkbox\" ><label class=\"sk-toggleable__label\" for=\"86326ea8-5b1e-4acb-8c72-68cfd3dc3ce2\">Pipeline</label><div class=\"sk-toggleable__content\"><pre>Pipeline(steps=[('final_processing',\n",
       "                 ColumnTransformer(transformers=[('num_transformer',\n",
       "                                                  Pipeline(steps=[('scaler',\n",
       "                                                                   StandardScaler())]),\n",
       "                                                  ['duration_min', 'budget',\n",
       "                                                   'number_of_awards_won',\n",
       "                                                   'number_of_nominations',\n",
       "                                                   'number_of_top_productions']),\n",
       "                                                 ('cat_transformer',\n",
       "                                                  OneHotEncoder(handle_unknown='ignore'),\n",
       "                                                  ['original_language',\n",
       "                                                   'status',\n",
       "                                                   'available_in_english',\n",
       "                                                   'has_collection']),\n",
       "                                                 ('time_pipeline',\n",
       "                                                  Pipeline(steps=[('time_features_extractor',\n",
       "                                                                   TimeFeaturesExtractor()),\n",
       "                                                                  ('cyclical_encoder',\n",
       "                                                                   CyclicalEncoder())]),\n",
       "                                                  ['release_date']),\n",
       "                                                 ('genre_country_encoder',\n",
       "                                                  CustomGenreAndCountryEncoder(),\n",
       "                                                  ['all_genres',\n",
       "                                                   'top_countries'])])),\n",
       "                ('random_forest', RandomForestRegressor(n_jobs=-1))])</pre></div></div></div><div class=\"sk-serial\"><div class=\"sk-item sk-dashed-wrapped\"><div class=\"sk-label-container\"><div class=\"sk-label sk-toggleable\"><input class=\"sk-toggleable__control sk-hidden--visually\" id=\"9dc1f9ab-d7a0-489a-af82-b37abb2e025c\" type=\"checkbox\" ><label class=\"sk-toggleable__label\" for=\"9dc1f9ab-d7a0-489a-af82-b37abb2e025c\">final_processing: ColumnTransformer</label><div class=\"sk-toggleable__content\"><pre>ColumnTransformer(transformers=[('num_transformer',\n",
       "                                 Pipeline(steps=[('scaler', StandardScaler())]),\n",
       "                                 ['duration_min', 'budget',\n",
       "                                  'number_of_awards_won',\n",
       "                                  'number_of_nominations',\n",
       "                                  'number_of_top_productions']),\n",
       "                                ('cat_transformer',\n",
       "                                 OneHotEncoder(handle_unknown='ignore'),\n",
       "                                 ['original_language', 'status',\n",
       "                                  'available_in_english', 'has_collection']),\n",
       "                                ('time_pipeline',\n",
       "                                 Pipeline(steps=[('time_features_extractor',\n",
       "                                                  TimeFeaturesExtractor()),\n",
       "                                                 ('cyclical_encoder',\n",
       "                                                  CyclicalEncoder())]),\n",
       "                                 ['release_date']),\n",
       "                                ('genre_country_encoder',\n",
       "                                 CustomGenreAndCountryEncoder(),\n",
       "                                 ['all_genres', 'top_countries'])])</pre></div></div></div><div class=\"sk-parallel\"><div class=\"sk-parallel-item\"><div class=\"sk-item\"><div class=\"sk-label-container\"><div class=\"sk-label sk-toggleable\"><input class=\"sk-toggleable__control sk-hidden--visually\" id=\"86518901-82d7-4c43-a4dd-c129c3e1eb5f\" type=\"checkbox\" ><label class=\"sk-toggleable__label\" for=\"86518901-82d7-4c43-a4dd-c129c3e1eb5f\">num_transformer</label><div class=\"sk-toggleable__content\"><pre>['duration_min', 'budget', 'number_of_awards_won', 'number_of_nominations', 'number_of_top_productions']</pre></div></div></div><div class=\"sk-serial\"><div class=\"sk-item\"><div class=\"sk-serial\"><div class=\"sk-item\"><div class=\"sk-estimator sk-toggleable\"><input class=\"sk-toggleable__control sk-hidden--visually\" id=\"a4261d11-802e-4ac0-a8a9-a3f63ca6929d\" type=\"checkbox\" ><label class=\"sk-toggleable__label\" for=\"a4261d11-802e-4ac0-a8a9-a3f63ca6929d\">StandardScaler</label><div class=\"sk-toggleable__content\"><pre>StandardScaler()</pre></div></div></div></div></div></div></div></div><div class=\"sk-parallel-item\"><div class=\"sk-item\"><div class=\"sk-label-container\"><div class=\"sk-label sk-toggleable\"><input class=\"sk-toggleable__control sk-hidden--visually\" id=\"1e42b791-9f95-4f32-81bb-b660952ad259\" type=\"checkbox\" ><label class=\"sk-toggleable__label\" for=\"1e42b791-9f95-4f32-81bb-b660952ad259\">cat_transformer</label><div class=\"sk-toggleable__content\"><pre>['original_language', 'status', 'available_in_english', 'has_collection']</pre></div></div></div><div class=\"sk-serial\"><div class=\"sk-item\"><div class=\"sk-estimator sk-toggleable\"><input class=\"sk-toggleable__control sk-hidden--visually\" id=\"a8d92726-7ac4-48b7-9e86-2f47383540bd\" type=\"checkbox\" ><label class=\"sk-toggleable__label\" for=\"a8d92726-7ac4-48b7-9e86-2f47383540bd\">OneHotEncoder</label><div class=\"sk-toggleable__content\"><pre>OneHotEncoder(handle_unknown='ignore')</pre></div></div></div></div></div></div><div class=\"sk-parallel-item\"><div class=\"sk-item\"><div class=\"sk-label-container\"><div class=\"sk-label sk-toggleable\"><input class=\"sk-toggleable__control sk-hidden--visually\" id=\"6ad7e17e-409d-458c-b322-6d4b118ec623\" type=\"checkbox\" ><label class=\"sk-toggleable__label\" for=\"6ad7e17e-409d-458c-b322-6d4b118ec623\">time_pipeline</label><div class=\"sk-toggleable__content\"><pre>['release_date']</pre></div></div></div><div class=\"sk-serial\"><div class=\"sk-item\"><div class=\"sk-serial\"><div class=\"sk-item\"><div class=\"sk-estimator sk-toggleable\"><input class=\"sk-toggleable__control sk-hidden--visually\" id=\"44e3291e-10b9-44c0-b6a4-63b1f57b9891\" type=\"checkbox\" ><label class=\"sk-toggleable__label\" for=\"44e3291e-10b9-44c0-b6a4-63b1f57b9891\">TimeFeaturesExtractor</label><div class=\"sk-toggleable__content\"><pre>TimeFeaturesExtractor()</pre></div></div></div><div class=\"sk-item\"><div class=\"sk-estimator sk-toggleable\"><input class=\"sk-toggleable__control sk-hidden--visually\" id=\"ee8b0382-12be-4d2f-a683-f9d9b2eb296a\" type=\"checkbox\" ><label class=\"sk-toggleable__label\" for=\"ee8b0382-12be-4d2f-a683-f9d9b2eb296a\">CyclicalEncoder</label><div class=\"sk-toggleable__content\"><pre>CyclicalEncoder()</pre></div></div></div></div></div></div></div></div><div class=\"sk-parallel-item\"><div class=\"sk-item\"><div class=\"sk-label-container\"><div class=\"sk-label sk-toggleable\"><input class=\"sk-toggleable__control sk-hidden--visually\" id=\"211afb0f-c973-4466-97ed-d4f474d0cfd1\" type=\"checkbox\" ><label class=\"sk-toggleable__label\" for=\"211afb0f-c973-4466-97ed-d4f474d0cfd1\">genre_country_encoder</label><div class=\"sk-toggleable__content\"><pre>['all_genres', 'top_countries']</pre></div></div></div><div class=\"sk-serial\"><div class=\"sk-item\"><div class=\"sk-estimator sk-toggleable\"><input class=\"sk-toggleable__control sk-hidden--visually\" id=\"209bf9bf-9c27-4f44-8fb1-d6a766e10fc1\" type=\"checkbox\" ><label class=\"sk-toggleable__label\" for=\"209bf9bf-9c27-4f44-8fb1-d6a766e10fc1\">CustomGenreAndCountryEncoder</label><div class=\"sk-toggleable__content\"><pre>CustomGenreAndCountryEncoder()</pre></div></div></div></div></div></div></div></div><div class=\"sk-item\"><div class=\"sk-estimator sk-toggleable\"><input class=\"sk-toggleable__control sk-hidden--visually\" id=\"9ce244f4-ca54-4206-b8c2-bc759736a2b1\" type=\"checkbox\" ><label class=\"sk-toggleable__label\" for=\"9ce244f4-ca54-4206-b8c2-bc759736a2b1\">RandomForestRegressor</label><div class=\"sk-toggleable__content\"><pre>RandomForestRegressor(n_jobs=-1)</pre></div></div></div></div></div></div></div>"
      ],
      "text/plain": [
       "Pipeline(steps=[('final_processing',\n",
       "                 ColumnTransformer(transformers=[('num_transformer',\n",
       "                                                  Pipeline(steps=[('scaler',\n",
       "                                                                   StandardScaler())]),\n",
       "                                                  ['duration_min', 'budget',\n",
       "                                                   'number_of_awards_won',\n",
       "                                                   'number_of_nominations',\n",
       "                                                   'number_of_top_productions']),\n",
       "                                                 ('cat_transformer',\n",
       "                                                  OneHotEncoder(handle_unknown='ignore'),\n",
       "                                                  ['original_language',\n",
       "                                                   'status',\n",
       "                                                   'available_in_english',\n",
       "                                                   'has_collection']),\n",
       "                                                 ('time_pipeline',\n",
       "                                                  Pipeline(steps=[('time_features_extractor',\n",
       "                                                                   TimeFeaturesExtractor()),\n",
       "                                                                  ('cyclical_encoder',\n",
       "                                                                   CyclicalEncoder())]),\n",
       "                                                  ['release_date']),\n",
       "                                                 ('genre_country_encoder',\n",
       "                                                  CustomGenreAndCountryEncoder(),\n",
       "                                                  ['all_genres',\n",
       "                                                   'top_countries'])])),\n",
       "                ('random_forest', RandomForestRegressor(n_jobs=-1))])"
      ]
     },
     "execution_count": 55,
     "metadata": {},
     "output_type": "execute_result"
    }
   ],
   "source": [
    "final_pipeline = Pipeline([\n",
    "    ('final_processing', final_preprocessing),\n",
    "    ('random_forest', RandomForestRegressor(n_jobs=-1))\n",
    "])\n",
    "\n",
    "final_pipeline"
   ]
  },
  {
   "cell_type": "code",
   "execution_count": 56,
   "metadata": {},
   "outputs": [
    {
     "name": "stdout",
     "output_type": "stream",
     "text": [
      "CPU times: user 2.21 s, sys: 838 ms, total: 3.04 s\n",
      "Wall time: 13.3 s\n"
     ]
    },
    {
     "data": {
      "text/plain": [
       "-76.75450191062991"
      ]
     },
     "execution_count": 56,
     "metadata": {},
     "output_type": "execute_result"
    }
   ],
   "source": [
    "%%time\n",
    "final_scores = cross_val_score(final_pipeline, X_train, y_train, cv=5, scoring=scoring)\n",
    "final_scores.mean()"
   ]
  },
  {
   "cell_type": "markdown",
   "metadata": {},
   "source": [
    "### Best hyperparameters quest\n",
    "\n",
    "\n",
    "\n",
    "**📝 Fine tune your model to try to get the best performance in the minimum amount of time!**\n",
    "\n",
    "- Store the result of your search inside the `search` variable.\n",
    "- Store your 5 cross-validated scores inside `best_scores` array of floats"
   ]
  },
  {
   "cell_type": "code",
   "execution_count": 57,
   "metadata": {
    "ExecuteTime": {
     "end_time": "2021-06-29T17:29:19.431573Z",
     "start_time": "2021-06-29T17:29:19.394891Z"
    },
    "tags": [
     "challengify"
    ]
   },
   "outputs": [
    {
     "data": {
      "text/plain": [
       "{'memory': None,\n",
       " 'steps': [('final_processing',\n",
       "   ColumnTransformer(transformers=[('num_transformer',\n",
       "                                    Pipeline(steps=[('scaler', StandardScaler())]),\n",
       "                                    ['duration_min', 'budget',\n",
       "                                     'number_of_awards_won',\n",
       "                                     'number_of_nominations',\n",
       "                                     'number_of_top_productions']),\n",
       "                                   ('cat_transformer',\n",
       "                                    OneHotEncoder(handle_unknown='ignore'),\n",
       "                                    ['original_language', 'status',\n",
       "                                     'available_in_english', 'has_collection']),\n",
       "                                   ('time_pipeline',\n",
       "                                    Pipeline(steps=[('time_features_extractor',\n",
       "                                                     TimeFeaturesExtractor()),\n",
       "                                                    ('cyclical_encoder',\n",
       "                                                     CyclicalEncoder())]),\n",
       "                                    ['release_date']),\n",
       "                                   ('genre_country_encoder',\n",
       "                                    CustomGenreAndCountryEncoder(),\n",
       "                                    ['all_genres', 'top_countries'])])),\n",
       "  ('random_forest', RandomForestRegressor(n_jobs=-1))],\n",
       " 'verbose': False,\n",
       " 'final_processing': ColumnTransformer(transformers=[('num_transformer',\n",
       "                                  Pipeline(steps=[('scaler', StandardScaler())]),\n",
       "                                  ['duration_min', 'budget',\n",
       "                                   'number_of_awards_won',\n",
       "                                   'number_of_nominations',\n",
       "                                   'number_of_top_productions']),\n",
       "                                 ('cat_transformer',\n",
       "                                  OneHotEncoder(handle_unknown='ignore'),\n",
       "                                  ['original_language', 'status',\n",
       "                                   'available_in_english', 'has_collection']),\n",
       "                                 ('time_pipeline',\n",
       "                                  Pipeline(steps=[('time_features_extractor',\n",
       "                                                   TimeFeaturesExtractor()),\n",
       "                                                  ('cyclical_encoder',\n",
       "                                                   CyclicalEncoder())]),\n",
       "                                  ['release_date']),\n",
       "                                 ('genre_country_encoder',\n",
       "                                  CustomGenreAndCountryEncoder(),\n",
       "                                  ['all_genres', 'top_countries'])]),\n",
       " 'random_forest': RandomForestRegressor(n_jobs=-1),\n",
       " 'final_processing__n_jobs': None,\n",
       " 'final_processing__remainder': 'drop',\n",
       " 'final_processing__sparse_threshold': 0.3,\n",
       " 'final_processing__transformer_weights': None,\n",
       " 'final_processing__transformers': [('num_transformer',\n",
       "   Pipeline(steps=[('scaler', StandardScaler())]),\n",
       "   ['duration_min',\n",
       "    'budget',\n",
       "    'number_of_awards_won',\n",
       "    'number_of_nominations',\n",
       "    'number_of_top_productions']),\n",
       "  ('cat_transformer',\n",
       "   OneHotEncoder(handle_unknown='ignore'),\n",
       "   ['original_language', 'status', 'available_in_english', 'has_collection']),\n",
       "  ('time_pipeline',\n",
       "   Pipeline(steps=[('time_features_extractor', TimeFeaturesExtractor()),\n",
       "                   ('cyclical_encoder', CyclicalEncoder())]),\n",
       "   ['release_date']),\n",
       "  ('genre_country_encoder',\n",
       "   CustomGenreAndCountryEncoder(),\n",
       "   ['all_genres', 'top_countries'])],\n",
       " 'final_processing__verbose': False,\n",
       " 'final_processing__num_transformer': Pipeline(steps=[('scaler', StandardScaler())]),\n",
       " 'final_processing__cat_transformer': OneHotEncoder(handle_unknown='ignore'),\n",
       " 'final_processing__time_pipeline': Pipeline(steps=[('time_features_extractor', TimeFeaturesExtractor()),\n",
       "                 ('cyclical_encoder', CyclicalEncoder())]),\n",
       " 'final_processing__genre_country_encoder': CustomGenreAndCountryEncoder(),\n",
       " 'final_processing__num_transformer__memory': None,\n",
       " 'final_processing__num_transformer__steps': [('scaler', StandardScaler())],\n",
       " 'final_processing__num_transformer__verbose': False,\n",
       " 'final_processing__num_transformer__scaler': StandardScaler(),\n",
       " 'final_processing__num_transformer__scaler__copy': True,\n",
       " 'final_processing__num_transformer__scaler__with_mean': True,\n",
       " 'final_processing__num_transformer__scaler__with_std': True,\n",
       " 'final_processing__cat_transformer__categories': 'auto',\n",
       " 'final_processing__cat_transformer__drop': None,\n",
       " 'final_processing__cat_transformer__dtype': numpy.float64,\n",
       " 'final_processing__cat_transformer__handle_unknown': 'ignore',\n",
       " 'final_processing__cat_transformer__sparse': True,\n",
       " 'final_processing__time_pipeline__memory': None,\n",
       " 'final_processing__time_pipeline__steps': [('time_features_extractor',\n",
       "   TimeFeaturesExtractor()),\n",
       "  ('cyclical_encoder', CyclicalEncoder())],\n",
       " 'final_processing__time_pipeline__verbose': False,\n",
       " 'final_processing__time_pipeline__time_features_extractor': TimeFeaturesExtractor(),\n",
       " 'final_processing__time_pipeline__cyclical_encoder': CyclicalEncoder(),\n",
       " 'random_forest__bootstrap': True,\n",
       " 'random_forest__ccp_alpha': 0.0,\n",
       " 'random_forest__criterion': 'mse',\n",
       " 'random_forest__max_depth': None,\n",
       " 'random_forest__max_features': 'auto',\n",
       " 'random_forest__max_leaf_nodes': None,\n",
       " 'random_forest__max_samples': None,\n",
       " 'random_forest__min_impurity_decrease': 0.0,\n",
       " 'random_forest__min_impurity_split': None,\n",
       " 'random_forest__min_samples_leaf': 1,\n",
       " 'random_forest__min_samples_split': 2,\n",
       " 'random_forest__min_weight_fraction_leaf': 0.0,\n",
       " 'random_forest__n_estimators': 100,\n",
       " 'random_forest__n_jobs': -1,\n",
       " 'random_forest__oob_score': False,\n",
       " 'random_forest__random_state': None,\n",
       " 'random_forest__verbose': 0,\n",
       " 'random_forest__warm_start': False}"
      ]
     },
     "execution_count": 57,
     "metadata": {},
     "output_type": "execute_result"
    }
   ],
   "source": [
    "final_pipeline.get_params()"
   ]
  },
  {
   "cell_type": "code",
   "execution_count": 58,
   "metadata": {},
   "outputs": [],
   "source": [
    "param_grid = {\n",
    "    'random_forest__max_depth': [50, 100],\n",
    "    'random_forest__min_samples_leaf': [2, 5],\n",
    "    'random_forest__n_estimators': [50, 100]\n",
    "}"
   ]
  },
  {
   "cell_type": "code",
   "execution_count": 59,
   "metadata": {},
   "outputs": [],
   "source": [
    "search = GridSearchCV(final_pipeline, param_grid, n_jobs=-1, cv=5)"
   ]
  },
  {
   "cell_type": "code",
   "execution_count": 60,
   "metadata": {
    "tags": []
   },
   "outputs": [
    {
     "name": "stdout",
     "output_type": "stream",
     "text": [
      "CPU times: user 4.28 s, sys: 78.9 ms, total: 4.36 s\n",
      "Wall time: 32.1 s\n"
     ]
    },
    {
     "data": {
      "text/html": [
       "<style>#sk-aedad0b1-8b48-417c-8ec4-1a9bc76d6815 {color: black;background-color: white;}#sk-aedad0b1-8b48-417c-8ec4-1a9bc76d6815 pre{padding: 0;}#sk-aedad0b1-8b48-417c-8ec4-1a9bc76d6815 div.sk-toggleable {background-color: white;}#sk-aedad0b1-8b48-417c-8ec4-1a9bc76d6815 label.sk-toggleable__label {cursor: pointer;display: block;width: 100%;margin-bottom: 0;padding: 0.2em 0.3em;box-sizing: border-box;text-align: center;}#sk-aedad0b1-8b48-417c-8ec4-1a9bc76d6815 div.sk-toggleable__content {max-height: 0;max-width: 0;overflow: hidden;text-align: left;background-color: #f0f8ff;}#sk-aedad0b1-8b48-417c-8ec4-1a9bc76d6815 div.sk-toggleable__content pre {margin: 0.2em;color: black;border-radius: 0.25em;background-color: #f0f8ff;}#sk-aedad0b1-8b48-417c-8ec4-1a9bc76d6815 input.sk-toggleable__control:checked~div.sk-toggleable__content {max-height: 200px;max-width: 100%;overflow: auto;}#sk-aedad0b1-8b48-417c-8ec4-1a9bc76d6815 div.sk-estimator input.sk-toggleable__control:checked~label.sk-toggleable__label {background-color: #d4ebff;}#sk-aedad0b1-8b48-417c-8ec4-1a9bc76d6815 div.sk-label input.sk-toggleable__control:checked~label.sk-toggleable__label {background-color: #d4ebff;}#sk-aedad0b1-8b48-417c-8ec4-1a9bc76d6815 input.sk-hidden--visually {border: 0;clip: rect(1px 1px 1px 1px);clip: rect(1px, 1px, 1px, 1px);height: 1px;margin: -1px;overflow: hidden;padding: 0;position: absolute;width: 1px;}#sk-aedad0b1-8b48-417c-8ec4-1a9bc76d6815 div.sk-estimator {font-family: monospace;background-color: #f0f8ff;margin: 0.25em 0.25em;border: 1px dotted black;border-radius: 0.25em;box-sizing: border-box;}#sk-aedad0b1-8b48-417c-8ec4-1a9bc76d6815 div.sk-estimator:hover {background-color: #d4ebff;}#sk-aedad0b1-8b48-417c-8ec4-1a9bc76d6815 div.sk-parallel-item::after {content: \"\";width: 100%;border-bottom: 1px solid gray;flex-grow: 1;}#sk-aedad0b1-8b48-417c-8ec4-1a9bc76d6815 div.sk-label:hover label.sk-toggleable__label {background-color: #d4ebff;}#sk-aedad0b1-8b48-417c-8ec4-1a9bc76d6815 div.sk-serial::before {content: \"\";position: absolute;border-left: 1px solid gray;box-sizing: border-box;top: 2em;bottom: 0;left: 50%;}#sk-aedad0b1-8b48-417c-8ec4-1a9bc76d6815 div.sk-serial {display: flex;flex-direction: column;align-items: center;background-color: white;}#sk-aedad0b1-8b48-417c-8ec4-1a9bc76d6815 div.sk-item {z-index: 1;}#sk-aedad0b1-8b48-417c-8ec4-1a9bc76d6815 div.sk-parallel {display: flex;align-items: stretch;justify-content: center;background-color: white;}#sk-aedad0b1-8b48-417c-8ec4-1a9bc76d6815 div.sk-parallel-item {display: flex;flex-direction: column;position: relative;background-color: white;}#sk-aedad0b1-8b48-417c-8ec4-1a9bc76d6815 div.sk-parallel-item:first-child::after {align-self: flex-end;width: 50%;}#sk-aedad0b1-8b48-417c-8ec4-1a9bc76d6815 div.sk-parallel-item:last-child::after {align-self: flex-start;width: 50%;}#sk-aedad0b1-8b48-417c-8ec4-1a9bc76d6815 div.sk-parallel-item:only-child::after {width: 0;}#sk-aedad0b1-8b48-417c-8ec4-1a9bc76d6815 div.sk-dashed-wrapped {border: 1px dashed gray;margin: 0.2em;box-sizing: border-box;padding-bottom: 0.1em;background-color: white;position: relative;}#sk-aedad0b1-8b48-417c-8ec4-1a9bc76d6815 div.sk-label label {font-family: monospace;font-weight: bold;background-color: white;display: inline-block;line-height: 1.2em;}#sk-aedad0b1-8b48-417c-8ec4-1a9bc76d6815 div.sk-label-container {position: relative;z-index: 2;text-align: center;}#sk-aedad0b1-8b48-417c-8ec4-1a9bc76d6815 div.sk-container {display: inline-block;position: relative;}</style><div id=\"sk-aedad0b1-8b48-417c-8ec4-1a9bc76d6815\" class\"sk-top-container\"><div class=\"sk-container\"><div class=\"sk-item sk-dashed-wrapped\"><div class=\"sk-label-container\"><div class=\"sk-label sk-toggleable\"><input class=\"sk-toggleable__control sk-hidden--visually\" id=\"b1440f93-5bff-4b5d-bf67-c0de08ab68ec\" type=\"checkbox\" ><label class=\"sk-toggleable__label\" for=\"b1440f93-5bff-4b5d-bf67-c0de08ab68ec\">GridSearchCV</label><div class=\"sk-toggleable__content\"><pre>GridSearchCV(cv=5,\n",
       "             estimator=Pipeline(steps=[('final_processing',\n",
       "                                        ColumnTransformer(transformers=[('num_transformer',\n",
       "                                                                         Pipeline(steps=[('scaler',\n",
       "                                                                                          StandardScaler())]),\n",
       "                                                                         ['duration_min',\n",
       "                                                                          'budget',\n",
       "                                                                          'number_of_awards_won',\n",
       "                                                                          'number_of_nominations',\n",
       "                                                                          'number_of_top_productions']),\n",
       "                                                                        ('cat_transformer',\n",
       "                                                                         OneHotEncoder(handle_unknown='ignore'),\n",
       "                                                                         ['original_language',\n",
       "                                                                          'status'...\n",
       "                                                                                          TimeFeaturesExtractor()),\n",
       "                                                                                         ('cyclical_encoder',\n",
       "                                                                                          CyclicalEncoder())]),\n",
       "                                                                         ['release_date']),\n",
       "                                                                        ('genre_country_encoder',\n",
       "                                                                         CustomGenreAndCountryEncoder(),\n",
       "                                                                         ['all_genres',\n",
       "                                                                          'top_countries'])])),\n",
       "                                       ('random_forest',\n",
       "                                        RandomForestRegressor(n_jobs=-1))]),\n",
       "             n_jobs=-1,\n",
       "             param_grid={'random_forest__max_depth': [50, 100],\n",
       "                         'random_forest__min_samples_leaf': [2, 5],\n",
       "                         'random_forest__n_estimators': [50, 100]})</pre></div></div></div><div class=\"sk-parallel\"><div class=\"sk-parallel-item\"><div class=\"sk-item\"><div class=\"sk-serial\"><div class=\"sk-item\"><div class=\"sk-serial\"><div class=\"sk-item sk-dashed-wrapped\"><div class=\"sk-label-container\"><div class=\"sk-label sk-toggleable\"><input class=\"sk-toggleable__control sk-hidden--visually\" id=\"2e0b1387-9b69-4ecc-bde3-5f8c2183ceab\" type=\"checkbox\" ><label class=\"sk-toggleable__label\" for=\"2e0b1387-9b69-4ecc-bde3-5f8c2183ceab\">final_processing: ColumnTransformer</label><div class=\"sk-toggleable__content\"><pre>ColumnTransformer(transformers=[('num_transformer',\n",
       "                                 Pipeline(steps=[('scaler', StandardScaler())]),\n",
       "                                 ['duration_min', 'budget',\n",
       "                                  'number_of_awards_won',\n",
       "                                  'number_of_nominations',\n",
       "                                  'number_of_top_productions']),\n",
       "                                ('cat_transformer',\n",
       "                                 OneHotEncoder(handle_unknown='ignore'),\n",
       "                                 ['original_language', 'status',\n",
       "                                  'available_in_english', 'has_collection']),\n",
       "                                ('time_pipeline',\n",
       "                                 Pipeline(steps=[('time_features_extractor',\n",
       "                                                  TimeFeaturesExtractor()),\n",
       "                                                 ('cyclical_encoder',\n",
       "                                                  CyclicalEncoder())]),\n",
       "                                 ['release_date']),\n",
       "                                ('genre_country_encoder',\n",
       "                                 CustomGenreAndCountryEncoder(),\n",
       "                                 ['all_genres', 'top_countries'])])</pre></div></div></div><div class=\"sk-parallel\"><div class=\"sk-parallel-item\"><div class=\"sk-item\"><div class=\"sk-label-container\"><div class=\"sk-label sk-toggleable\"><input class=\"sk-toggleable__control sk-hidden--visually\" id=\"363412b4-a42a-4fd8-8a47-ac3016b3a141\" type=\"checkbox\" ><label class=\"sk-toggleable__label\" for=\"363412b4-a42a-4fd8-8a47-ac3016b3a141\">num_transformer</label><div class=\"sk-toggleable__content\"><pre>['duration_min', 'budget', 'number_of_awards_won', 'number_of_nominations', 'number_of_top_productions']</pre></div></div></div><div class=\"sk-serial\"><div class=\"sk-item\"><div class=\"sk-serial\"><div class=\"sk-item\"><div class=\"sk-estimator sk-toggleable\"><input class=\"sk-toggleable__control sk-hidden--visually\" id=\"f2633154-1afa-40ba-a456-591befceadd9\" type=\"checkbox\" ><label class=\"sk-toggleable__label\" for=\"f2633154-1afa-40ba-a456-591befceadd9\">StandardScaler</label><div class=\"sk-toggleable__content\"><pre>StandardScaler()</pre></div></div></div></div></div></div></div></div><div class=\"sk-parallel-item\"><div class=\"sk-item\"><div class=\"sk-label-container\"><div class=\"sk-label sk-toggleable\"><input class=\"sk-toggleable__control sk-hidden--visually\" id=\"dcb1b525-a243-4af8-ad43-e416b7d833aa\" type=\"checkbox\" ><label class=\"sk-toggleable__label\" for=\"dcb1b525-a243-4af8-ad43-e416b7d833aa\">cat_transformer</label><div class=\"sk-toggleable__content\"><pre>['original_language', 'status', 'available_in_english', 'has_collection']</pre></div></div></div><div class=\"sk-serial\"><div class=\"sk-item\"><div class=\"sk-estimator sk-toggleable\"><input class=\"sk-toggleable__control sk-hidden--visually\" id=\"b9cb6789-c8d8-4bb5-9d95-dcd44098c6eb\" type=\"checkbox\" ><label class=\"sk-toggleable__label\" for=\"b9cb6789-c8d8-4bb5-9d95-dcd44098c6eb\">OneHotEncoder</label><div class=\"sk-toggleable__content\"><pre>OneHotEncoder(handle_unknown='ignore')</pre></div></div></div></div></div></div><div class=\"sk-parallel-item\"><div class=\"sk-item\"><div class=\"sk-label-container\"><div class=\"sk-label sk-toggleable\"><input class=\"sk-toggleable__control sk-hidden--visually\" id=\"1d5e49bd-ba36-4698-bb2e-86d911da4435\" type=\"checkbox\" ><label class=\"sk-toggleable__label\" for=\"1d5e49bd-ba36-4698-bb2e-86d911da4435\">time_pipeline</label><div class=\"sk-toggleable__content\"><pre>['release_date']</pre></div></div></div><div class=\"sk-serial\"><div class=\"sk-item\"><div class=\"sk-serial\"><div class=\"sk-item\"><div class=\"sk-estimator sk-toggleable\"><input class=\"sk-toggleable__control sk-hidden--visually\" id=\"d406de79-fb80-45e3-90c1-2a8295ce7b9d\" type=\"checkbox\" ><label class=\"sk-toggleable__label\" for=\"d406de79-fb80-45e3-90c1-2a8295ce7b9d\">TimeFeaturesExtractor</label><div class=\"sk-toggleable__content\"><pre>TimeFeaturesExtractor()</pre></div></div></div><div class=\"sk-item\"><div class=\"sk-estimator sk-toggleable\"><input class=\"sk-toggleable__control sk-hidden--visually\" id=\"9f32f995-aead-42ca-80f1-e7a24df0ad3c\" type=\"checkbox\" ><label class=\"sk-toggleable__label\" for=\"9f32f995-aead-42ca-80f1-e7a24df0ad3c\">CyclicalEncoder</label><div class=\"sk-toggleable__content\"><pre>CyclicalEncoder()</pre></div></div></div></div></div></div></div></div><div class=\"sk-parallel-item\"><div class=\"sk-item\"><div class=\"sk-label-container\"><div class=\"sk-label sk-toggleable\"><input class=\"sk-toggleable__control sk-hidden--visually\" id=\"5217c61a-e394-4c62-aea1-c53ed6abec06\" type=\"checkbox\" ><label class=\"sk-toggleable__label\" for=\"5217c61a-e394-4c62-aea1-c53ed6abec06\">genre_country_encoder</label><div class=\"sk-toggleable__content\"><pre>['all_genres', 'top_countries']</pre></div></div></div><div class=\"sk-serial\"><div class=\"sk-item\"><div class=\"sk-estimator sk-toggleable\"><input class=\"sk-toggleable__control sk-hidden--visually\" id=\"53c049d7-4033-48cd-99a4-607505c66c06\" type=\"checkbox\" ><label class=\"sk-toggleable__label\" for=\"53c049d7-4033-48cd-99a4-607505c66c06\">CustomGenreAndCountryEncoder</label><div class=\"sk-toggleable__content\"><pre>CustomGenreAndCountryEncoder()</pre></div></div></div></div></div></div></div></div><div class=\"sk-item\"><div class=\"sk-estimator sk-toggleable\"><input class=\"sk-toggleable__control sk-hidden--visually\" id=\"5b93a56a-588a-46b3-b56c-8a8d085a58cc\" type=\"checkbox\" ><label class=\"sk-toggleable__label\" for=\"5b93a56a-588a-46b3-b56c-8a8d085a58cc\">RandomForestRegressor</label><div class=\"sk-toggleable__content\"><pre>RandomForestRegressor(n_jobs=-1)</pre></div></div></div></div></div></div></div></div></div></div></div></div>"
      ],
      "text/plain": [
       "GridSearchCV(cv=5,\n",
       "             estimator=Pipeline(steps=[('final_processing',\n",
       "                                        ColumnTransformer(transformers=[('num_transformer',\n",
       "                                                                         Pipeline(steps=[('scaler',\n",
       "                                                                                          StandardScaler())]),\n",
       "                                                                         ['duration_min',\n",
       "                                                                          'budget',\n",
       "                                                                          'number_of_awards_won',\n",
       "                                                                          'number_of_nominations',\n",
       "                                                                          'number_of_top_productions']),\n",
       "                                                                        ('cat_transformer',\n",
       "                                                                         OneHotEncoder(handle_unknown='ignore'),\n",
       "                                                                         ['original_language',\n",
       "                                                                          'status'...\n",
       "                                                                                          TimeFeaturesExtractor()),\n",
       "                                                                                         ('cyclical_encoder',\n",
       "                                                                                          CyclicalEncoder())]),\n",
       "                                                                         ['release_date']),\n",
       "                                                                        ('genre_country_encoder',\n",
       "                                                                         CustomGenreAndCountryEncoder(),\n",
       "                                                                         ['all_genres',\n",
       "                                                                          'top_countries'])])),\n",
       "                                       ('random_forest',\n",
       "                                        RandomForestRegressor(n_jobs=-1))]),\n",
       "             n_jobs=-1,\n",
       "             param_grid={'random_forest__max_depth': [50, 100],\n",
       "                         'random_forest__min_samples_leaf': [2, 5],\n",
       "                         'random_forest__n_estimators': [50, 100]})"
      ]
     },
     "execution_count": 60,
     "metadata": {},
     "output_type": "execute_result"
    }
   ],
   "source": [
    "%%time\n",
    "search.fit(X_train, y_train)"
   ]
  },
  {
   "cell_type": "code",
   "execution_count": 61,
   "metadata": {},
   "outputs": [],
   "source": [
    "best_scores = search.cv_results_['mean_test_score']"
   ]
  },
  {
   "cell_type": "markdown",
   "metadata": {},
   "source": [
    "**📝 Re-train your best pipeline on the whole (X,y) dataset**\n",
    "- Store the trained pipeline inside the `best_pipeline` variable"
   ]
  },
  {
   "cell_type": "code",
   "execution_count": 62,
   "metadata": {
    "ExecuteTime": {
     "end_time": "2021-06-29T17:30:18.200730Z",
     "start_time": "2021-06-29T17:30:14.992877Z"
    },
    "tags": [
     "challengify"
    ]
   },
   "outputs": [
    {
     "data": {
      "text/html": [
       "<style>#sk-fdd87cc1-9256-43f7-a3a3-e755079f8128 {color: black;background-color: white;}#sk-fdd87cc1-9256-43f7-a3a3-e755079f8128 pre{padding: 0;}#sk-fdd87cc1-9256-43f7-a3a3-e755079f8128 div.sk-toggleable {background-color: white;}#sk-fdd87cc1-9256-43f7-a3a3-e755079f8128 label.sk-toggleable__label {cursor: pointer;display: block;width: 100%;margin-bottom: 0;padding: 0.2em 0.3em;box-sizing: border-box;text-align: center;}#sk-fdd87cc1-9256-43f7-a3a3-e755079f8128 div.sk-toggleable__content {max-height: 0;max-width: 0;overflow: hidden;text-align: left;background-color: #f0f8ff;}#sk-fdd87cc1-9256-43f7-a3a3-e755079f8128 div.sk-toggleable__content pre {margin: 0.2em;color: black;border-radius: 0.25em;background-color: #f0f8ff;}#sk-fdd87cc1-9256-43f7-a3a3-e755079f8128 input.sk-toggleable__control:checked~div.sk-toggleable__content {max-height: 200px;max-width: 100%;overflow: auto;}#sk-fdd87cc1-9256-43f7-a3a3-e755079f8128 div.sk-estimator input.sk-toggleable__control:checked~label.sk-toggleable__label {background-color: #d4ebff;}#sk-fdd87cc1-9256-43f7-a3a3-e755079f8128 div.sk-label input.sk-toggleable__control:checked~label.sk-toggleable__label {background-color: #d4ebff;}#sk-fdd87cc1-9256-43f7-a3a3-e755079f8128 input.sk-hidden--visually {border: 0;clip: rect(1px 1px 1px 1px);clip: rect(1px, 1px, 1px, 1px);height: 1px;margin: -1px;overflow: hidden;padding: 0;position: absolute;width: 1px;}#sk-fdd87cc1-9256-43f7-a3a3-e755079f8128 div.sk-estimator {font-family: monospace;background-color: #f0f8ff;margin: 0.25em 0.25em;border: 1px dotted black;border-radius: 0.25em;box-sizing: border-box;}#sk-fdd87cc1-9256-43f7-a3a3-e755079f8128 div.sk-estimator:hover {background-color: #d4ebff;}#sk-fdd87cc1-9256-43f7-a3a3-e755079f8128 div.sk-parallel-item::after {content: \"\";width: 100%;border-bottom: 1px solid gray;flex-grow: 1;}#sk-fdd87cc1-9256-43f7-a3a3-e755079f8128 div.sk-label:hover label.sk-toggleable__label {background-color: #d4ebff;}#sk-fdd87cc1-9256-43f7-a3a3-e755079f8128 div.sk-serial::before {content: \"\";position: absolute;border-left: 1px solid gray;box-sizing: border-box;top: 2em;bottom: 0;left: 50%;}#sk-fdd87cc1-9256-43f7-a3a3-e755079f8128 div.sk-serial {display: flex;flex-direction: column;align-items: center;background-color: white;}#sk-fdd87cc1-9256-43f7-a3a3-e755079f8128 div.sk-item {z-index: 1;}#sk-fdd87cc1-9256-43f7-a3a3-e755079f8128 div.sk-parallel {display: flex;align-items: stretch;justify-content: center;background-color: white;}#sk-fdd87cc1-9256-43f7-a3a3-e755079f8128 div.sk-parallel-item {display: flex;flex-direction: column;position: relative;background-color: white;}#sk-fdd87cc1-9256-43f7-a3a3-e755079f8128 div.sk-parallel-item:first-child::after {align-self: flex-end;width: 50%;}#sk-fdd87cc1-9256-43f7-a3a3-e755079f8128 div.sk-parallel-item:last-child::after {align-self: flex-start;width: 50%;}#sk-fdd87cc1-9256-43f7-a3a3-e755079f8128 div.sk-parallel-item:only-child::after {width: 0;}#sk-fdd87cc1-9256-43f7-a3a3-e755079f8128 div.sk-dashed-wrapped {border: 1px dashed gray;margin: 0.2em;box-sizing: border-box;padding-bottom: 0.1em;background-color: white;position: relative;}#sk-fdd87cc1-9256-43f7-a3a3-e755079f8128 div.sk-label label {font-family: monospace;font-weight: bold;background-color: white;display: inline-block;line-height: 1.2em;}#sk-fdd87cc1-9256-43f7-a3a3-e755079f8128 div.sk-label-container {position: relative;z-index: 2;text-align: center;}#sk-fdd87cc1-9256-43f7-a3a3-e755079f8128 div.sk-container {display: inline-block;position: relative;}</style><div id=\"sk-fdd87cc1-9256-43f7-a3a3-e755079f8128\" class\"sk-top-container\"><div class=\"sk-container\"><div class=\"sk-item sk-dashed-wrapped\"><div class=\"sk-label-container\"><div class=\"sk-label sk-toggleable\"><input class=\"sk-toggleable__control sk-hidden--visually\" id=\"aa2086b9-d3f3-497f-be6c-cd78fc6f0a72\" type=\"checkbox\" ><label class=\"sk-toggleable__label\" for=\"aa2086b9-d3f3-497f-be6c-cd78fc6f0a72\">Pipeline</label><div class=\"sk-toggleable__content\"><pre>Pipeline(steps=[('final_processing',\n",
       "                 ColumnTransformer(transformers=[('num_transformer',\n",
       "                                                  Pipeline(steps=[('scaler',\n",
       "                                                                   StandardScaler())]),\n",
       "                                                  ['duration_min', 'budget',\n",
       "                                                   'number_of_awards_won',\n",
       "                                                   'number_of_nominations',\n",
       "                                                   'number_of_top_productions']),\n",
       "                                                 ('cat_transformer',\n",
       "                                                  OneHotEncoder(handle_unknown='ignore'),\n",
       "                                                  ['original_language',\n",
       "                                                   'status',\n",
       "                                                   'available_in_english',\n",
       "                                                   'has_collection']),\n",
       "                                                 ('time_pipeline',\n",
       "                                                  Pipeline(steps=[('time_features_extractor',\n",
       "                                                                   TimeFeaturesExtractor()),\n",
       "                                                                  ('cyclical_encoder',\n",
       "                                                                   CyclicalEncoder())]),\n",
       "                                                  ['release_date']),\n",
       "                                                 ('genre_country_encoder',\n",
       "                                                  CustomGenreAndCountryEncoder(),\n",
       "                                                  ['all_genres',\n",
       "                                                   'top_countries'])])),\n",
       "                ('random_forest',\n",
       "                 RandomForestRegressor(max_depth=100, min_samples_leaf=5,\n",
       "                                       n_jobs=-1))])</pre></div></div></div><div class=\"sk-serial\"><div class=\"sk-item sk-dashed-wrapped\"><div class=\"sk-label-container\"><div class=\"sk-label sk-toggleable\"><input class=\"sk-toggleable__control sk-hidden--visually\" id=\"208509fd-4ed8-49d5-be6c-d37433c9b192\" type=\"checkbox\" ><label class=\"sk-toggleable__label\" for=\"208509fd-4ed8-49d5-be6c-d37433c9b192\">final_processing: ColumnTransformer</label><div class=\"sk-toggleable__content\"><pre>ColumnTransformer(transformers=[('num_transformer',\n",
       "                                 Pipeline(steps=[('scaler', StandardScaler())]),\n",
       "                                 ['duration_min', 'budget',\n",
       "                                  'number_of_awards_won',\n",
       "                                  'number_of_nominations',\n",
       "                                  'number_of_top_productions']),\n",
       "                                ('cat_transformer',\n",
       "                                 OneHotEncoder(handle_unknown='ignore'),\n",
       "                                 ['original_language', 'status',\n",
       "                                  'available_in_english', 'has_collection']),\n",
       "                                ('time_pipeline',\n",
       "                                 Pipeline(steps=[('time_features_extractor',\n",
       "                                                  TimeFeaturesExtractor()),\n",
       "                                                 ('cyclical_encoder',\n",
       "                                                  CyclicalEncoder())]),\n",
       "                                 ['release_date']),\n",
       "                                ('genre_country_encoder',\n",
       "                                 CustomGenreAndCountryEncoder(),\n",
       "                                 ['all_genres', 'top_countries'])])</pre></div></div></div><div class=\"sk-parallel\"><div class=\"sk-parallel-item\"><div class=\"sk-item\"><div class=\"sk-label-container\"><div class=\"sk-label sk-toggleable\"><input class=\"sk-toggleable__control sk-hidden--visually\" id=\"7a585209-09f8-4b9b-b1b9-7d0c99d4ca0d\" type=\"checkbox\" ><label class=\"sk-toggleable__label\" for=\"7a585209-09f8-4b9b-b1b9-7d0c99d4ca0d\">num_transformer</label><div class=\"sk-toggleable__content\"><pre>['duration_min', 'budget', 'number_of_awards_won', 'number_of_nominations', 'number_of_top_productions']</pre></div></div></div><div class=\"sk-serial\"><div class=\"sk-item\"><div class=\"sk-serial\"><div class=\"sk-item\"><div class=\"sk-estimator sk-toggleable\"><input class=\"sk-toggleable__control sk-hidden--visually\" id=\"b77d25d4-cc09-44f5-a6a2-24a4f87c65a3\" type=\"checkbox\" ><label class=\"sk-toggleable__label\" for=\"b77d25d4-cc09-44f5-a6a2-24a4f87c65a3\">StandardScaler</label><div class=\"sk-toggleable__content\"><pre>StandardScaler()</pre></div></div></div></div></div></div></div></div><div class=\"sk-parallel-item\"><div class=\"sk-item\"><div class=\"sk-label-container\"><div class=\"sk-label sk-toggleable\"><input class=\"sk-toggleable__control sk-hidden--visually\" id=\"0a3e031c-1717-4f92-82d3-61cd71a7cc2c\" type=\"checkbox\" ><label class=\"sk-toggleable__label\" for=\"0a3e031c-1717-4f92-82d3-61cd71a7cc2c\">cat_transformer</label><div class=\"sk-toggleable__content\"><pre>['original_language', 'status', 'available_in_english', 'has_collection']</pre></div></div></div><div class=\"sk-serial\"><div class=\"sk-item\"><div class=\"sk-estimator sk-toggleable\"><input class=\"sk-toggleable__control sk-hidden--visually\" id=\"412a342b-1010-46a9-9a49-d50e0f4a6591\" type=\"checkbox\" ><label class=\"sk-toggleable__label\" for=\"412a342b-1010-46a9-9a49-d50e0f4a6591\">OneHotEncoder</label><div class=\"sk-toggleable__content\"><pre>OneHotEncoder(handle_unknown='ignore')</pre></div></div></div></div></div></div><div class=\"sk-parallel-item\"><div class=\"sk-item\"><div class=\"sk-label-container\"><div class=\"sk-label sk-toggleable\"><input class=\"sk-toggleable__control sk-hidden--visually\" id=\"eb855c27-099f-4ee5-b4bc-09ccdcf5450c\" type=\"checkbox\" ><label class=\"sk-toggleable__label\" for=\"eb855c27-099f-4ee5-b4bc-09ccdcf5450c\">time_pipeline</label><div class=\"sk-toggleable__content\"><pre>['release_date']</pre></div></div></div><div class=\"sk-serial\"><div class=\"sk-item\"><div class=\"sk-serial\"><div class=\"sk-item\"><div class=\"sk-estimator sk-toggleable\"><input class=\"sk-toggleable__control sk-hidden--visually\" id=\"e0c99555-d655-44bb-8b01-257fb1a2847d\" type=\"checkbox\" ><label class=\"sk-toggleable__label\" for=\"e0c99555-d655-44bb-8b01-257fb1a2847d\">TimeFeaturesExtractor</label><div class=\"sk-toggleable__content\"><pre>TimeFeaturesExtractor()</pre></div></div></div><div class=\"sk-item\"><div class=\"sk-estimator sk-toggleable\"><input class=\"sk-toggleable__control sk-hidden--visually\" id=\"57848f29-4c1b-43c3-9ba0-8f17a5a8efc9\" type=\"checkbox\" ><label class=\"sk-toggleable__label\" for=\"57848f29-4c1b-43c3-9ba0-8f17a5a8efc9\">CyclicalEncoder</label><div class=\"sk-toggleable__content\"><pre>CyclicalEncoder()</pre></div></div></div></div></div></div></div></div><div class=\"sk-parallel-item\"><div class=\"sk-item\"><div class=\"sk-label-container\"><div class=\"sk-label sk-toggleable\"><input class=\"sk-toggleable__control sk-hidden--visually\" id=\"bb1e6752-ab2f-46f6-a1bb-7521be92ae65\" type=\"checkbox\" ><label class=\"sk-toggleable__label\" for=\"bb1e6752-ab2f-46f6-a1bb-7521be92ae65\">genre_country_encoder</label><div class=\"sk-toggleable__content\"><pre>['all_genres', 'top_countries']</pre></div></div></div><div class=\"sk-serial\"><div class=\"sk-item\"><div class=\"sk-estimator sk-toggleable\"><input class=\"sk-toggleable__control sk-hidden--visually\" id=\"0b98ccdb-ffff-4a09-a3a1-5495181e75f9\" type=\"checkbox\" ><label class=\"sk-toggleable__label\" for=\"0b98ccdb-ffff-4a09-a3a1-5495181e75f9\">CustomGenreAndCountryEncoder</label><div class=\"sk-toggleable__content\"><pre>CustomGenreAndCountryEncoder()</pre></div></div></div></div></div></div></div></div><div class=\"sk-item\"><div class=\"sk-estimator sk-toggleable\"><input class=\"sk-toggleable__control sk-hidden--visually\" id=\"cc6d950d-7272-4ffa-b260-2dcf2b49a447\" type=\"checkbox\" ><label class=\"sk-toggleable__label\" for=\"cc6d950d-7272-4ffa-b260-2dcf2b49a447\">RandomForestRegressor</label><div class=\"sk-toggleable__content\"><pre>RandomForestRegressor(max_depth=100, min_samples_leaf=5, n_jobs=-1)</pre></div></div></div></div></div></div></div>"
      ],
      "text/plain": [
       "Pipeline(steps=[('final_processing',\n",
       "                 ColumnTransformer(transformers=[('num_transformer',\n",
       "                                                  Pipeline(steps=[('scaler',\n",
       "                                                                   StandardScaler())]),\n",
       "                                                  ['duration_min', 'budget',\n",
       "                                                   'number_of_awards_won',\n",
       "                                                   'number_of_nominations',\n",
       "                                                   'number_of_top_productions']),\n",
       "                                                 ('cat_transformer',\n",
       "                                                  OneHotEncoder(handle_unknown='ignore'),\n",
       "                                                  ['original_language',\n",
       "                                                   'status',\n",
       "                                                   'available_in_english',\n",
       "                                                   'has_collection']),\n",
       "                                                 ('time_pipeline',\n",
       "                                                  Pipeline(steps=[('time_features_extractor',\n",
       "                                                                   TimeFeaturesExtractor()),\n",
       "                                                                  ('cyclical_encoder',\n",
       "                                                                   CyclicalEncoder())]),\n",
       "                                                  ['release_date']),\n",
       "                                                 ('genre_country_encoder',\n",
       "                                                  CustomGenreAndCountryEncoder(),\n",
       "                                                  ['all_genres',\n",
       "                                                   'top_countries'])])),\n",
       "                ('random_forest',\n",
       "                 RandomForestRegressor(max_depth=100, min_samples_leaf=5,\n",
       "                                       n_jobs=-1))])"
      ]
     },
     "execution_count": 62,
     "metadata": {},
     "output_type": "execute_result"
    }
   ],
   "source": [
    "best_pipeline = search.best_estimator_\n",
    "best_pipeline"
   ]
  },
  {
   "cell_type": "code",
   "execution_count": 63,
   "metadata": {
    "tags": []
   },
   "outputs": [
    {
     "data": {
      "text/html": [
       "<style>#sk-ab074b31-a3e8-4b96-b287-efebee76870e {color: black;background-color: white;}#sk-ab074b31-a3e8-4b96-b287-efebee76870e pre{padding: 0;}#sk-ab074b31-a3e8-4b96-b287-efebee76870e div.sk-toggleable {background-color: white;}#sk-ab074b31-a3e8-4b96-b287-efebee76870e label.sk-toggleable__label {cursor: pointer;display: block;width: 100%;margin-bottom: 0;padding: 0.2em 0.3em;box-sizing: border-box;text-align: center;}#sk-ab074b31-a3e8-4b96-b287-efebee76870e div.sk-toggleable__content {max-height: 0;max-width: 0;overflow: hidden;text-align: left;background-color: #f0f8ff;}#sk-ab074b31-a3e8-4b96-b287-efebee76870e div.sk-toggleable__content pre {margin: 0.2em;color: black;border-radius: 0.25em;background-color: #f0f8ff;}#sk-ab074b31-a3e8-4b96-b287-efebee76870e input.sk-toggleable__control:checked~div.sk-toggleable__content {max-height: 200px;max-width: 100%;overflow: auto;}#sk-ab074b31-a3e8-4b96-b287-efebee76870e div.sk-estimator input.sk-toggleable__control:checked~label.sk-toggleable__label {background-color: #d4ebff;}#sk-ab074b31-a3e8-4b96-b287-efebee76870e div.sk-label input.sk-toggleable__control:checked~label.sk-toggleable__label {background-color: #d4ebff;}#sk-ab074b31-a3e8-4b96-b287-efebee76870e input.sk-hidden--visually {border: 0;clip: rect(1px 1px 1px 1px);clip: rect(1px, 1px, 1px, 1px);height: 1px;margin: -1px;overflow: hidden;padding: 0;position: absolute;width: 1px;}#sk-ab074b31-a3e8-4b96-b287-efebee76870e div.sk-estimator {font-family: monospace;background-color: #f0f8ff;margin: 0.25em 0.25em;border: 1px dotted black;border-radius: 0.25em;box-sizing: border-box;}#sk-ab074b31-a3e8-4b96-b287-efebee76870e div.sk-estimator:hover {background-color: #d4ebff;}#sk-ab074b31-a3e8-4b96-b287-efebee76870e div.sk-parallel-item::after {content: \"\";width: 100%;border-bottom: 1px solid gray;flex-grow: 1;}#sk-ab074b31-a3e8-4b96-b287-efebee76870e div.sk-label:hover label.sk-toggleable__label {background-color: #d4ebff;}#sk-ab074b31-a3e8-4b96-b287-efebee76870e div.sk-serial::before {content: \"\";position: absolute;border-left: 1px solid gray;box-sizing: border-box;top: 2em;bottom: 0;left: 50%;}#sk-ab074b31-a3e8-4b96-b287-efebee76870e div.sk-serial {display: flex;flex-direction: column;align-items: center;background-color: white;}#sk-ab074b31-a3e8-4b96-b287-efebee76870e div.sk-item {z-index: 1;}#sk-ab074b31-a3e8-4b96-b287-efebee76870e div.sk-parallel {display: flex;align-items: stretch;justify-content: center;background-color: white;}#sk-ab074b31-a3e8-4b96-b287-efebee76870e div.sk-parallel-item {display: flex;flex-direction: column;position: relative;background-color: white;}#sk-ab074b31-a3e8-4b96-b287-efebee76870e div.sk-parallel-item:first-child::after {align-self: flex-end;width: 50%;}#sk-ab074b31-a3e8-4b96-b287-efebee76870e div.sk-parallel-item:last-child::after {align-self: flex-start;width: 50%;}#sk-ab074b31-a3e8-4b96-b287-efebee76870e div.sk-parallel-item:only-child::after {width: 0;}#sk-ab074b31-a3e8-4b96-b287-efebee76870e div.sk-dashed-wrapped {border: 1px dashed gray;margin: 0.2em;box-sizing: border-box;padding-bottom: 0.1em;background-color: white;position: relative;}#sk-ab074b31-a3e8-4b96-b287-efebee76870e div.sk-label label {font-family: monospace;font-weight: bold;background-color: white;display: inline-block;line-height: 1.2em;}#sk-ab074b31-a3e8-4b96-b287-efebee76870e div.sk-label-container {position: relative;z-index: 2;text-align: center;}#sk-ab074b31-a3e8-4b96-b287-efebee76870e div.sk-container {display: inline-block;position: relative;}</style><div id=\"sk-ab074b31-a3e8-4b96-b287-efebee76870e\" class\"sk-top-container\"><div class=\"sk-container\"><div class=\"sk-item sk-dashed-wrapped\"><div class=\"sk-label-container\"><div class=\"sk-label sk-toggleable\"><input class=\"sk-toggleable__control sk-hidden--visually\" id=\"111fc689-014e-4299-a7d5-4e006310fc70\" type=\"checkbox\" ><label class=\"sk-toggleable__label\" for=\"111fc689-014e-4299-a7d5-4e006310fc70\">Pipeline</label><div class=\"sk-toggleable__content\"><pre>Pipeline(steps=[('final_processing',\n",
       "                 ColumnTransformer(transformers=[('num_transformer',\n",
       "                                                  Pipeline(steps=[('scaler',\n",
       "                                                                   StandardScaler())]),\n",
       "                                                  ['duration_min', 'budget',\n",
       "                                                   'number_of_awards_won',\n",
       "                                                   'number_of_nominations',\n",
       "                                                   'number_of_top_productions']),\n",
       "                                                 ('cat_transformer',\n",
       "                                                  OneHotEncoder(handle_unknown='ignore'),\n",
       "                                                  ['original_language',\n",
       "                                                   'status',\n",
       "                                                   'available_in_english',\n",
       "                                                   'has_collection']),\n",
       "                                                 ('time_pipeline',\n",
       "                                                  Pipeline(steps=[('time_features_extractor',\n",
       "                                                                   TimeFeaturesExtractor()),\n",
       "                                                                  ('cyclical_encoder',\n",
       "                                                                   CyclicalEncoder())]),\n",
       "                                                  ['release_date']),\n",
       "                                                 ('genre_country_encoder',\n",
       "                                                  CustomGenreAndCountryEncoder(),\n",
       "                                                  ['all_genres',\n",
       "                                                   'top_countries'])])),\n",
       "                ('random_forest',\n",
       "                 RandomForestRegressor(max_depth=100, min_samples_leaf=5,\n",
       "                                       n_jobs=-1))])</pre></div></div></div><div class=\"sk-serial\"><div class=\"sk-item sk-dashed-wrapped\"><div class=\"sk-label-container\"><div class=\"sk-label sk-toggleable\"><input class=\"sk-toggleable__control sk-hidden--visually\" id=\"22695a8a-2e73-4ccb-ae89-e1052a735073\" type=\"checkbox\" ><label class=\"sk-toggleable__label\" for=\"22695a8a-2e73-4ccb-ae89-e1052a735073\">final_processing: ColumnTransformer</label><div class=\"sk-toggleable__content\"><pre>ColumnTransformer(transformers=[('num_transformer',\n",
       "                                 Pipeline(steps=[('scaler', StandardScaler())]),\n",
       "                                 ['duration_min', 'budget',\n",
       "                                  'number_of_awards_won',\n",
       "                                  'number_of_nominations',\n",
       "                                  'number_of_top_productions']),\n",
       "                                ('cat_transformer',\n",
       "                                 OneHotEncoder(handle_unknown='ignore'),\n",
       "                                 ['original_language', 'status',\n",
       "                                  'available_in_english', 'has_collection']),\n",
       "                                ('time_pipeline',\n",
       "                                 Pipeline(steps=[('time_features_extractor',\n",
       "                                                  TimeFeaturesExtractor()),\n",
       "                                                 ('cyclical_encoder',\n",
       "                                                  CyclicalEncoder())]),\n",
       "                                 ['release_date']),\n",
       "                                ('genre_country_encoder',\n",
       "                                 CustomGenreAndCountryEncoder(),\n",
       "                                 ['all_genres', 'top_countries'])])</pre></div></div></div><div class=\"sk-parallel\"><div class=\"sk-parallel-item\"><div class=\"sk-item\"><div class=\"sk-label-container\"><div class=\"sk-label sk-toggleable\"><input class=\"sk-toggleable__control sk-hidden--visually\" id=\"67811cca-01df-47d4-b4b9-373f6efb8a28\" type=\"checkbox\" ><label class=\"sk-toggleable__label\" for=\"67811cca-01df-47d4-b4b9-373f6efb8a28\">num_transformer</label><div class=\"sk-toggleable__content\"><pre>['duration_min', 'budget', 'number_of_awards_won', 'number_of_nominations', 'number_of_top_productions']</pre></div></div></div><div class=\"sk-serial\"><div class=\"sk-item\"><div class=\"sk-serial\"><div class=\"sk-item\"><div class=\"sk-estimator sk-toggleable\"><input class=\"sk-toggleable__control sk-hidden--visually\" id=\"cc63adfe-b84d-4ee7-9339-6a64af972381\" type=\"checkbox\" ><label class=\"sk-toggleable__label\" for=\"cc63adfe-b84d-4ee7-9339-6a64af972381\">StandardScaler</label><div class=\"sk-toggleable__content\"><pre>StandardScaler()</pre></div></div></div></div></div></div></div></div><div class=\"sk-parallel-item\"><div class=\"sk-item\"><div class=\"sk-label-container\"><div class=\"sk-label sk-toggleable\"><input class=\"sk-toggleable__control sk-hidden--visually\" id=\"7363827d-9564-4afb-967e-38ef31ebdbd0\" type=\"checkbox\" ><label class=\"sk-toggleable__label\" for=\"7363827d-9564-4afb-967e-38ef31ebdbd0\">cat_transformer</label><div class=\"sk-toggleable__content\"><pre>['original_language', 'status', 'available_in_english', 'has_collection']</pre></div></div></div><div class=\"sk-serial\"><div class=\"sk-item\"><div class=\"sk-estimator sk-toggleable\"><input class=\"sk-toggleable__control sk-hidden--visually\" id=\"dae1f744-d1bd-4df5-8c44-a92da32f5187\" type=\"checkbox\" ><label class=\"sk-toggleable__label\" for=\"dae1f744-d1bd-4df5-8c44-a92da32f5187\">OneHotEncoder</label><div class=\"sk-toggleable__content\"><pre>OneHotEncoder(handle_unknown='ignore')</pre></div></div></div></div></div></div><div class=\"sk-parallel-item\"><div class=\"sk-item\"><div class=\"sk-label-container\"><div class=\"sk-label sk-toggleable\"><input class=\"sk-toggleable__control sk-hidden--visually\" id=\"f2dcd761-c99b-43b6-a50f-65180336cd4b\" type=\"checkbox\" ><label class=\"sk-toggleable__label\" for=\"f2dcd761-c99b-43b6-a50f-65180336cd4b\">time_pipeline</label><div class=\"sk-toggleable__content\"><pre>['release_date']</pre></div></div></div><div class=\"sk-serial\"><div class=\"sk-item\"><div class=\"sk-serial\"><div class=\"sk-item\"><div class=\"sk-estimator sk-toggleable\"><input class=\"sk-toggleable__control sk-hidden--visually\" id=\"5e9050d8-ef1e-47fc-b26a-ebb7381a3854\" type=\"checkbox\" ><label class=\"sk-toggleable__label\" for=\"5e9050d8-ef1e-47fc-b26a-ebb7381a3854\">TimeFeaturesExtractor</label><div class=\"sk-toggleable__content\"><pre>TimeFeaturesExtractor()</pre></div></div></div><div class=\"sk-item\"><div class=\"sk-estimator sk-toggleable\"><input class=\"sk-toggleable__control sk-hidden--visually\" id=\"7adbe0df-9554-4d62-9334-6e9b84cb1199\" type=\"checkbox\" ><label class=\"sk-toggleable__label\" for=\"7adbe0df-9554-4d62-9334-6e9b84cb1199\">CyclicalEncoder</label><div class=\"sk-toggleable__content\"><pre>CyclicalEncoder()</pre></div></div></div></div></div></div></div></div><div class=\"sk-parallel-item\"><div class=\"sk-item\"><div class=\"sk-label-container\"><div class=\"sk-label sk-toggleable\"><input class=\"sk-toggleable__control sk-hidden--visually\" id=\"7df7fd64-d597-4591-83c9-8abecbe642e1\" type=\"checkbox\" ><label class=\"sk-toggleable__label\" for=\"7df7fd64-d597-4591-83c9-8abecbe642e1\">genre_country_encoder</label><div class=\"sk-toggleable__content\"><pre>['all_genres', 'top_countries']</pre></div></div></div><div class=\"sk-serial\"><div class=\"sk-item\"><div class=\"sk-estimator sk-toggleable\"><input class=\"sk-toggleable__control sk-hidden--visually\" id=\"0a59a3c0-4362-4027-a5f8-8f61679dbba2\" type=\"checkbox\" ><label class=\"sk-toggleable__label\" for=\"0a59a3c0-4362-4027-a5f8-8f61679dbba2\">CustomGenreAndCountryEncoder</label><div class=\"sk-toggleable__content\"><pre>CustomGenreAndCountryEncoder()</pre></div></div></div></div></div></div></div></div><div class=\"sk-item\"><div class=\"sk-estimator sk-toggleable\"><input class=\"sk-toggleable__control sk-hidden--visually\" id=\"2641dae7-7eac-4011-8eba-e71bac1dd3bb\" type=\"checkbox\" ><label class=\"sk-toggleable__label\" for=\"2641dae7-7eac-4011-8eba-e71bac1dd3bb\">RandomForestRegressor</label><div class=\"sk-toggleable__content\"><pre>RandomForestRegressor(max_depth=100, min_samples_leaf=5, n_jobs=-1)</pre></div></div></div></div></div></div></div>"
      ],
      "text/plain": [
       "Pipeline(steps=[('final_processing',\n",
       "                 ColumnTransformer(transformers=[('num_transformer',\n",
       "                                                  Pipeline(steps=[('scaler',\n",
       "                                                                   StandardScaler())]),\n",
       "                                                  ['duration_min', 'budget',\n",
       "                                                   'number_of_awards_won',\n",
       "                                                   'number_of_nominations',\n",
       "                                                   'number_of_top_productions']),\n",
       "                                                 ('cat_transformer',\n",
       "                                                  OneHotEncoder(handle_unknown='ignore'),\n",
       "                                                  ['original_language',\n",
       "                                                   'status',\n",
       "                                                   'available_in_english',\n",
       "                                                   'has_collection']),\n",
       "                                                 ('time_pipeline',\n",
       "                                                  Pipeline(steps=[('time_features_extractor',\n",
       "                                                                   TimeFeaturesExtractor()),\n",
       "                                                                  ('cyclical_encoder',\n",
       "                                                                   CyclicalEncoder())]),\n",
       "                                                  ['release_date']),\n",
       "                                                 ('genre_country_encoder',\n",
       "                                                  CustomGenreAndCountryEncoder(),\n",
       "                                                  ['all_genres',\n",
       "                                                   'top_countries'])])),\n",
       "                ('random_forest',\n",
       "                 RandomForestRegressor(max_depth=100, min_samples_leaf=5,\n",
       "                                       n_jobs=-1))])"
      ]
     },
     "execution_count": 63,
     "metadata": {},
     "output_type": "execute_result"
    }
   ],
   "source": [
    "best_pipeline.fit(X, y)"
   ]
  },
  {
   "cell_type": "markdown",
   "metadata": {},
   "source": [
    "### Prediction\n",
    "\n",
    "Now you have your model tuned with the best hyperparameters, you are ready for a prediction.\n",
    "\n",
    "Here is a famous TV show released in 2017:\n",
    "\n",
    "```python\n",
    "dict(\n",
    "        original_title=str(\"La Casa de Papel\"),\n",
    "        title=str(\"Money Heist\"), \n",
    "        release_date= pd.to_datetime([\"2017-05-02\"]), \n",
    "        duration_min=float(50),\n",
    "        description=str(\"An unusual group of robbers attempt to carry out the most perfect robbery\"), \n",
    "        budget=float(3_000_000), \n",
    "        original_language =str(\"es\"), \n",
    "        status=str(\"Released\"),\n",
    "        number_of_awards_won =int(2), \n",
    "        number_of_nominations=int(5), \n",
    "        has_collection=int(1),\n",
    "        all_genres=str(\"Action, Crime, Mystery\"), \n",
    "        top_countries=str(\"Spain, France, United States of America\"), \n",
    "        number_of_top_productions=int('1'),\n",
    "        available_in_english=bool('True') \n",
    ")\n",
    "```\n",
    "\n",
    "**📝 Compute the predicted popularity of this TV show and store it into the `popularity` variable as a floating number.**"
   ]
  },
  {
   "cell_type": "code",
   "execution_count": 64,
   "metadata": {},
   "outputs": [
    {
     "data": {
      "text/html": [
       "<div>\n",
       "<style scoped>\n",
       "    .dataframe tbody tr th:only-of-type {\n",
       "        vertical-align: middle;\n",
       "    }\n",
       "\n",
       "    .dataframe tbody tr th {\n",
       "        vertical-align: top;\n",
       "    }\n",
       "\n",
       "    .dataframe thead th {\n",
       "        text-align: right;\n",
       "    }\n",
       "</style>\n",
       "<table border=\"1\" class=\"dataframe\">\n",
       "  <thead>\n",
       "    <tr style=\"text-align: right;\">\n",
       "      <th></th>\n",
       "      <th>original_title</th>\n",
       "      <th>title</th>\n",
       "      <th>release_date</th>\n",
       "      <th>duration_min</th>\n",
       "      <th>description</th>\n",
       "      <th>budget</th>\n",
       "      <th>original_language</th>\n",
       "      <th>status</th>\n",
       "      <th>number_of_awards_won</th>\n",
       "      <th>number_of_nominations</th>\n",
       "      <th>has_collection</th>\n",
       "      <th>all_genres</th>\n",
       "      <th>top_countries</th>\n",
       "      <th>number_of_top_productions</th>\n",
       "      <th>available_in_english</th>\n",
       "    </tr>\n",
       "  </thead>\n",
       "  <tbody>\n",
       "    <tr>\n",
       "      <th>0</th>\n",
       "      <td>La Casa de Papel</td>\n",
       "      <td>Money Heist</td>\n",
       "      <td>2017-05-02</td>\n",
       "      <td>50.0</td>\n",
       "      <td>An unusual group of robbers attempt to carry o...</td>\n",
       "      <td>3000000.0</td>\n",
       "      <td>es</td>\n",
       "      <td>Released</td>\n",
       "      <td>2</td>\n",
       "      <td>5</td>\n",
       "      <td>1</td>\n",
       "      <td>Action, Crime, Mystery</td>\n",
       "      <td>Spain, France, United States of America</td>\n",
       "      <td>1</td>\n",
       "      <td>True</td>\n",
       "    </tr>\n",
       "  </tbody>\n",
       "</table>\n",
       "</div>"
      ],
      "text/plain": [
       "     original_title        title release_date  duration_min  \\\n",
       "0  La Casa de Papel  Money Heist   2017-05-02          50.0   \n",
       "\n",
       "                                         description     budget  \\\n",
       "0  An unusual group of robbers attempt to carry o...  3000000.0   \n",
       "\n",
       "  original_language    status  number_of_awards_won  number_of_nominations  \\\n",
       "0                es  Released                     2                      5   \n",
       "\n",
       "   has_collection              all_genres  \\\n",
       "0               1  Action, Crime, Mystery   \n",
       "\n",
       "                             top_countries  number_of_top_productions  \\\n",
       "0  Spain, France, United States of America                          1   \n",
       "\n",
       "   available_in_english  \n",
       "0                  True  "
      ]
     },
     "execution_count": 64,
     "metadata": {},
     "output_type": "execute_result"
    }
   ],
   "source": [
    "X_to_predict = pd.DataFrame.from_dict(dict(\n",
    "        original_title=str(\"La Casa de Papel\"),\n",
    "        title=str(\"Money Heist\"), \n",
    "        release_date= pd.to_datetime([\"2017-05-02\"]), \n",
    "        duration_min=float(50),\n",
    "        description=str(\"An unusual group of robbers attempt to carry out the most perfect robbery\"), \n",
    "        budget=float(3_000_000), \n",
    "        original_language =str(\"es\"), \n",
    "        status=str(\"Released\"),\n",
    "        number_of_awards_won =int(2), \n",
    "        number_of_nominations=int(5), \n",
    "        has_collection=int(1),\n",
    "        all_genres=str(\"Action, Crime, Mystery\"), \n",
    "        top_countries=str(\"Spain, France, United States of America\"), \n",
    "        number_of_top_productions=int('1'),\n",
    "        available_in_english=bool('True') \n",
    "))\n",
    "\n",
    "X_to_predict"
   ]
  },
  {
   "cell_type": "code",
   "execution_count": 65,
   "metadata": {},
   "outputs": [
    {
     "data": {
      "text/plain": [
       "13.79392061292844"
      ]
     },
     "execution_count": 65,
     "metadata": {},
     "output_type": "execute_result"
    }
   ],
   "source": [
    "popularity = best_pipeline.predict(X_to_predict)[0]\n",
    "popularity"
   ]
  },
  {
   "cell_type": "markdown",
   "metadata": {},
   "source": [
    "### 🧪 Save your results\n",
    "\n",
    "Run the following cell to save your results."
   ]
  },
  {
   "cell_type": "code",
   "execution_count": 66,
   "metadata": {
    "ExecuteTime": {
     "end_time": "2021-06-29T17:30:18.492068Z",
     "start_time": "2021-06-29T17:30:18.294946Z"
    }
   },
   "outputs": [],
   "source": [
    "ChallengeResult(\n",
    "    \"model_tuning\",\n",
    "    search=search,\n",
    "    best_pipeline=best_pipeline,\n",
    "    best_scores = best_scores,\n",
    "    popularity=popularity\n",
    ").write()"
   ]
  },
  {
   "cell_type": "markdown",
   "metadata": {},
   "source": [
    "## API \n",
    "\n",
    "Time to put a pipeline in production!\n",
    "\n",
    "👉 Go to https://github.com/lewagon/data-certification-api and follow instructions\n",
    "\n",
    "**This final part is independent from the above notebook**"
   ]
  }
 ],
 "metadata": {
  "interpreter": {
   "hash": "572b4e543617d03e90ecaf525e08695da1ff29b13594f787e33b342cf572f792"
  },
  "kernelspec": {
   "display_name": "Python 3",
   "language": "python",
   "name": "python3"
  },
  "language_info": {
   "codemirror_mode": {
    "name": "ipython",
    "version": 3
   },
   "file_extension": ".py",
   "mimetype": "text/x-python",
   "name": "python",
   "nbconvert_exporter": "python",
   "pygments_lexer": "ipython3",
   "version": "3.8.6"
  },
  "toc": {
   "base_numbering": 1,
   "nav_menu": {},
   "number_sections": true,
   "sideBar": true,
   "skip_h1_title": true,
   "title_cell": "Table of Contents",
   "title_sidebar": "Contents",
   "toc_cell": false,
   "toc_position": {
    "height": "calc(100% - 180px)",
    "left": "10px",
    "top": "150px",
    "width": "242px"
   },
   "toc_section_display": true,
   "toc_window_display": true
  },
  "toc-autonumbering": true,
  "varInspector": {
   "cols": {
    "lenName": 16,
    "lenType": 16,
    "lenVar": 40
   },
   "kernels_config": {
    "python": {
     "delete_cmd_postfix": "",
     "delete_cmd_prefix": "del ",
     "library": "var_list.py",
     "varRefreshCmd": "print(var_dic_list())"
    },
    "r": {
     "delete_cmd_postfix": ") ",
     "delete_cmd_prefix": "rm(",
     "library": "var_list.r",
     "varRefreshCmd": "cat(var_dic_list()) "
    }
   },
   "types_to_exclude": [
    "module",
    "function",
    "builtin_function_or_method",
    "instance",
    "_Feature"
   ],
   "window_display": false
  }
 },
 "nbformat": 4,
 "nbformat_minor": 4
}
